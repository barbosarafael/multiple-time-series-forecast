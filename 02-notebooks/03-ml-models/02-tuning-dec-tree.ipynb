{
 "cells": [
  {
   "cell_type": "markdown",
   "id": "139dc490-23d0-49ed-863f-ee062f809725",
   "metadata": {},
   "source": [
    "# Modelos de ML\n",
    "\n",
    "**Objetivo**: Criar modelos de ML para a projeção de todas as nossas séries.\n",
    "\n",
    "**Metodologias**: \n",
    "\n",
    "- Regressão Linear\n",
    "- Árvore de decisão\n",
    "- Random Forest\n",
    "- XGBoost\n",
    "- LightGBM"
   ]
  },
  {
   "cell_type": "markdown",
   "id": "4dcfa96b-bb88-4d49-b0fe-37e18b813067",
   "metadata": {},
   "source": [
    "## 0. Setup"
   ]
  },
  {
   "cell_type": "code",
   "execution_count": 1,
   "id": "2557e764-2692-481e-b5aa-acbfe1cfb93e",
   "metadata": {},
   "outputs": [
    {
     "name": "stdout",
     "output_type": "stream",
     "text": [
      "time: 181 µs (started: 2024-01-04 16:25:58 -03:00)\n"
     ]
    }
   ],
   "source": [
    "%load_ext autotime"
   ]
  },
  {
   "cell_type": "code",
   "execution_count": 2,
   "id": "06549e4f-9c06-4888-b9d5-6c74c26c4ab3",
   "metadata": {},
   "outputs": [
    {
     "name": "stdout",
     "output_type": "stream",
     "text": [
      "time: 1.25 s (started: 2024-01-04 16:25:58 -03:00)\n"
     ]
    }
   ],
   "source": [
    "#---- Manipulação de dados:\n",
    "\n",
    "import pandas as pd\n",
    "import numpy as np\n",
    "\n",
    "#---- Modelagem:\n",
    "\n",
    "from hierarchicalforecast.utils import aggregate\n",
    "from mlforecast import MLForecast\n",
    "from sklearn.linear_model import LinearRegression\n",
    "from sklearn.tree import DecisionTreeRegressor\n",
    "from sklearn.ensemble import RandomForestRegressor\n",
    "from lightgbm import LGBMRegressor\n",
    "from xgboost import XGBRegressor\n",
    "\n",
    "#---- Reconciliação\n",
    "\n",
    "from hierarchicalforecast.methods import BottomUp, TopDown, ERM, OptimalCombination, MinTrace, MiddleOut\n",
    "from hierarchicalforecast.core import HierarchicalReconciliation\n",
    "\n",
    "#---- Visualização\n",
    "\n",
    "import plotly.express as px"
   ]
  },
  {
   "cell_type": "markdown",
   "id": "ba1f788c-d0b4-42e4-bfd4-2fb54590d30b",
   "metadata": {},
   "source": [
    "## 1. Dados: vendas de roupas no varejo"
   ]
  },
  {
   "cell_type": "code",
   "execution_count": 3,
   "id": "93320272-0944-46c3-9a29-e7316bf00f95",
   "metadata": {},
   "outputs": [
    {
     "data": {
      "text/html": [
       "<div>\n",
       "<style scoped>\n",
       "    .dataframe tbody tr th:only-of-type {\n",
       "        vertical-align: middle;\n",
       "    }\n",
       "\n",
       "    .dataframe tbody tr th {\n",
       "        vertical-align: top;\n",
       "    }\n",
       "\n",
       "    .dataframe thead th {\n",
       "        text-align: right;\n",
       "    }\n",
       "</style>\n",
       "<table border=\"1\" class=\"dataframe\">\n",
       "  <thead>\n",
       "    <tr style=\"text-align: right;\">\n",
       "      <th></th>\n",
       "      <th>date</th>\n",
       "      <th>state</th>\n",
       "      <th>item</th>\n",
       "      <th>quantity</th>\n",
       "      <th>region</th>\n",
       "      <th>country</th>\n",
       "    </tr>\n",
       "  </thead>\n",
       "  <tbody>\n",
       "    <tr>\n",
       "      <th>0</th>\n",
       "      <td>1997-11-25</td>\n",
       "      <td>NewYork</td>\n",
       "      <td>mens_clothing</td>\n",
       "      <td>8</td>\n",
       "      <td>Mid-Alantic</td>\n",
       "      <td>USA</td>\n",
       "    </tr>\n",
       "    <tr>\n",
       "      <th>1</th>\n",
       "      <td>1997-11-26</td>\n",
       "      <td>NewYork</td>\n",
       "      <td>mens_clothing</td>\n",
       "      <td>9</td>\n",
       "      <td>Mid-Alantic</td>\n",
       "      <td>USA</td>\n",
       "    </tr>\n",
       "    <tr>\n",
       "      <th>2</th>\n",
       "      <td>1997-11-27</td>\n",
       "      <td>NewYork</td>\n",
       "      <td>mens_clothing</td>\n",
       "      <td>11</td>\n",
       "      <td>Mid-Alantic</td>\n",
       "      <td>USA</td>\n",
       "    </tr>\n",
       "    <tr>\n",
       "      <th>3</th>\n",
       "      <td>1997-11-28</td>\n",
       "      <td>NewYork</td>\n",
       "      <td>mens_clothing</td>\n",
       "      <td>11</td>\n",
       "      <td>Mid-Alantic</td>\n",
       "      <td>USA</td>\n",
       "    </tr>\n",
       "    <tr>\n",
       "      <th>4</th>\n",
       "      <td>1997-11-29</td>\n",
       "      <td>NewYork</td>\n",
       "      <td>mens_clothing</td>\n",
       "      <td>10</td>\n",
       "      <td>Mid-Alantic</td>\n",
       "      <td>USA</td>\n",
       "    </tr>\n",
       "  </tbody>\n",
       "</table>\n",
       "</div>"
      ],
      "text/plain": [
       "         date    state           item  quantity       region country\n",
       "0  1997-11-25  NewYork  mens_clothing         8  Mid-Alantic     USA\n",
       "1  1997-11-26  NewYork  mens_clothing         9  Mid-Alantic     USA\n",
       "2  1997-11-27  NewYork  mens_clothing        11  Mid-Alantic     USA\n",
       "3  1997-11-28  NewYork  mens_clothing        11  Mid-Alantic     USA\n",
       "4  1997-11-29  NewYork  mens_clothing        10  Mid-Alantic     USA"
      ]
     },
     "execution_count": 3,
     "metadata": {},
     "output_type": "execute_result"
    },
    {
     "name": "stdout",
     "output_type": "stream",
     "text": [
      "time: 1.15 s (started: 2024-01-04 16:26:00 -03:00)\n"
     ]
    }
   ],
   "source": [
    "dados = pd.read_csv('https://raw.githubusercontent.com/aws-samples/amazon-sagemaker-hierarchical-forecasting/main/retail-usa-clothing.csv')\n",
    "\n",
    "dados.head()"
   ]
  },
  {
   "cell_type": "code",
   "execution_count": 4,
   "id": "703297e3-1652-4727-9b18-c9ac373696c1",
   "metadata": {},
   "outputs": [
    {
     "name": "stdout",
     "output_type": "stream",
     "text": [
      "<class 'pandas.core.frame.DataFrame'>\n",
      "RangeIndex: 388024 entries, 0 to 388023\n",
      "Data columns (total 6 columns):\n",
      " #   Column    Non-Null Count   Dtype \n",
      "---  ------    --------------   ----- \n",
      " 0   date      388024 non-null  object\n",
      " 1   state     388024 non-null  object\n",
      " 2   item      388024 non-null  object\n",
      " 3   quantity  388024 non-null  int64 \n",
      " 4   region    388024 non-null  object\n",
      " 5   country   388024 non-null  object\n",
      "dtypes: int64(1), object(5)\n",
      "memory usage: 17.8+ MB\n",
      "time: 61.1 ms (started: 2024-01-04 16:26:01 -03:00)\n"
     ]
    }
   ],
   "source": [
    "dados.info()"
   ]
  },
  {
   "cell_type": "markdown",
   "id": "7303d5ca-61fb-4679-878f-89ac4888edf4",
   "metadata": {},
   "source": [
    "## 2. Modificação nos dados "
   ]
  },
  {
   "cell_type": "code",
   "execution_count": 5,
   "id": "75cb6b8b-03a1-4768-9e60-214606dadb7f",
   "metadata": {},
   "outputs": [
    {
     "name": "stdout",
     "output_type": "stream",
     "text": [
      "time: 689 µs (started: 2024-01-04 16:26:01 -03:00)\n"
     ]
    }
   ],
   "source": [
    "def clean_data_baseline(df: pd.DataFrame):\n",
    "\n",
    "    #---- 1. Excluindo a variável de country:\n",
    "\n",
    "    df = df\\\n",
    "        .drop(columns = 'country')\n",
    "\n",
    "    #---- 2. Mudando o tipo da variável de date para datetime:\n",
    "\n",
    "    df['date'] = pd.to_datetime(df['date'])\n",
    "\n",
    "    #---- 3. Renomeando as variáveis de quantidade de vendas e data:\n",
    "    # date -> ds\n",
    "    # quantity -> y\n",
    "\n",
    "    df = df\\\n",
    "        .rename(columns = {'date': 'ds', \n",
    "                           'quantity': 'y'})\n",
    "\n",
    "    return df"
   ]
  },
  {
   "cell_type": "code",
   "execution_count": 6,
   "id": "296b83a2-cd3a-4920-b992-afd9752364ac",
   "metadata": {},
   "outputs": [
    {
     "data": {
      "text/html": [
       "<div>\n",
       "<style scoped>\n",
       "    .dataframe tbody tr th:only-of-type {\n",
       "        vertical-align: middle;\n",
       "    }\n",
       "\n",
       "    .dataframe tbody tr th {\n",
       "        vertical-align: top;\n",
       "    }\n",
       "\n",
       "    .dataframe thead th {\n",
       "        text-align: right;\n",
       "    }\n",
       "</style>\n",
       "<table border=\"1\" class=\"dataframe\">\n",
       "  <thead>\n",
       "    <tr style=\"text-align: right;\">\n",
       "      <th></th>\n",
       "      <th>ds</th>\n",
       "      <th>state</th>\n",
       "      <th>item</th>\n",
       "      <th>y</th>\n",
       "      <th>region</th>\n",
       "    </tr>\n",
       "  </thead>\n",
       "  <tbody>\n",
       "    <tr>\n",
       "      <th>0</th>\n",
       "      <td>1997-11-25</td>\n",
       "      <td>NewYork</td>\n",
       "      <td>mens_clothing</td>\n",
       "      <td>8</td>\n",
       "      <td>Mid-Alantic</td>\n",
       "    </tr>\n",
       "    <tr>\n",
       "      <th>1</th>\n",
       "      <td>1997-11-26</td>\n",
       "      <td>NewYork</td>\n",
       "      <td>mens_clothing</td>\n",
       "      <td>9</td>\n",
       "      <td>Mid-Alantic</td>\n",
       "    </tr>\n",
       "    <tr>\n",
       "      <th>2</th>\n",
       "      <td>1997-11-27</td>\n",
       "      <td>NewYork</td>\n",
       "      <td>mens_clothing</td>\n",
       "      <td>11</td>\n",
       "      <td>Mid-Alantic</td>\n",
       "    </tr>\n",
       "    <tr>\n",
       "      <th>3</th>\n",
       "      <td>1997-11-28</td>\n",
       "      <td>NewYork</td>\n",
       "      <td>mens_clothing</td>\n",
       "      <td>11</td>\n",
       "      <td>Mid-Alantic</td>\n",
       "    </tr>\n",
       "    <tr>\n",
       "      <th>4</th>\n",
       "      <td>1997-11-29</td>\n",
       "      <td>NewYork</td>\n",
       "      <td>mens_clothing</td>\n",
       "      <td>10</td>\n",
       "      <td>Mid-Alantic</td>\n",
       "    </tr>\n",
       "  </tbody>\n",
       "</table>\n",
       "</div>"
      ],
      "text/plain": [
       "          ds    state           item   y       region\n",
       "0 1997-11-25  NewYork  mens_clothing   8  Mid-Alantic\n",
       "1 1997-11-26  NewYork  mens_clothing   9  Mid-Alantic\n",
       "2 1997-11-27  NewYork  mens_clothing  11  Mid-Alantic\n",
       "3 1997-11-28  NewYork  mens_clothing  11  Mid-Alantic\n",
       "4 1997-11-29  NewYork  mens_clothing  10  Mid-Alantic"
      ]
     },
     "execution_count": 6,
     "metadata": {},
     "output_type": "execute_result"
    },
    {
     "name": "stdout",
     "output_type": "stream",
     "text": [
      "time: 108 ms (started: 2024-01-04 16:26:01 -03:00)\n"
     ]
    }
   ],
   "source": [
    "df = clean_data_baseline(df = dados)\n",
    "\n",
    "df.head()"
   ]
  },
  {
   "cell_type": "code",
   "execution_count": 7,
   "id": "3afc572f-4479-45ef-b9c0-2dfe4af461ce",
   "metadata": {},
   "outputs": [
    {
     "name": "stdout",
     "output_type": "stream",
     "text": [
      "time: 598 µs (started: 2024-01-04 16:26:01 -03:00)\n"
     ]
    }
   ],
   "source": [
    "def format_hierarchical_df(df: pd.DataFrame, cols_hierarchical: list):\n",
    "\n",
    "    #---- 1. Cria uma lista de listas: [[col1], [col1, col2], ..., [col1, col2, coln]]\n",
    "\n",
    "    hier_list = [cols_hierarchical[:i] for i in range(1, len(cols_hierarchical) + 1)]\n",
    "\n",
    "    #---- 2. Aplica a função aggregate que formata os dados em que a lib hierarchical pede\n",
    "\n",
    "    Y_df, S_df, tags = aggregate(df = df, spec = hier_list)\n",
    "\n",
    "    return Y_df, S_df, tags"
   ]
  },
  {
   "cell_type": "code",
   "execution_count": 8,
   "id": "999fc534-c03f-4553-a325-1a623f8f9228",
   "metadata": {},
   "outputs": [
    {
     "name": "stdout",
     "output_type": "stream",
     "text": [
      "time: 547 ms (started: 2024-01-04 16:26:01 -03:00)\n"
     ]
    }
   ],
   "source": [
    "cols_hierarchical = ['region', 'state', 'item']\n",
    "\n",
    "Y_df, S_df, tags = format_hierarchical_df(df = df, cols_hierarchical = cols_hierarchical)"
   ]
  },
  {
   "cell_type": "code",
   "execution_count": 9,
   "id": "98141e69-66c8-4ea6-af22-963af1f42a3c",
   "metadata": {},
   "outputs": [
    {
     "data": {
      "text/html": [
       "<div>\n",
       "<style scoped>\n",
       "    .dataframe tbody tr th:only-of-type {\n",
       "        vertical-align: middle;\n",
       "    }\n",
       "\n",
       "    .dataframe tbody tr th {\n",
       "        vertical-align: top;\n",
       "    }\n",
       "\n",
       "    .dataframe thead th {\n",
       "        text-align: right;\n",
       "    }\n",
       "</style>\n",
       "<table border=\"1\" class=\"dataframe\">\n",
       "  <thead>\n",
       "    <tr style=\"text-align: right;\">\n",
       "      <th></th>\n",
       "      <th>ds</th>\n",
       "      <th>y</th>\n",
       "    </tr>\n",
       "    <tr>\n",
       "      <th>unique_id</th>\n",
       "      <th></th>\n",
       "      <th></th>\n",
       "    </tr>\n",
       "  </thead>\n",
       "  <tbody>\n",
       "    <tr>\n",
       "      <th>EastNorthCentral</th>\n",
       "      <td>1997-11-25</td>\n",
       "      <td>507</td>\n",
       "    </tr>\n",
       "    <tr>\n",
       "      <th>EastNorthCentral</th>\n",
       "      <td>1997-11-26</td>\n",
       "      <td>504</td>\n",
       "    </tr>\n",
       "    <tr>\n",
       "      <th>EastNorthCentral</th>\n",
       "      <td>1997-11-27</td>\n",
       "      <td>510</td>\n",
       "    </tr>\n",
       "    <tr>\n",
       "      <th>EastNorthCentral</th>\n",
       "      <td>1997-11-28</td>\n",
       "      <td>507</td>\n",
       "    </tr>\n",
       "    <tr>\n",
       "      <th>EastNorthCentral</th>\n",
       "      <td>1997-11-29</td>\n",
       "      <td>513</td>\n",
       "    </tr>\n",
       "  </tbody>\n",
       "</table>\n",
       "</div>"
      ],
      "text/plain": [
       "                         ds    y\n",
       "unique_id                       \n",
       "EastNorthCentral 1997-11-25  507\n",
       "EastNorthCentral 1997-11-26  504\n",
       "EastNorthCentral 1997-11-27  510\n",
       "EastNorthCentral 1997-11-28  507\n",
       "EastNorthCentral 1997-11-29  513"
      ]
     },
     "metadata": {},
     "output_type": "display_data"
    },
    {
     "data": {
      "text/html": [
       "<div>\n",
       "<style scoped>\n",
       "    .dataframe tbody tr th:only-of-type {\n",
       "        vertical-align: middle;\n",
       "    }\n",
       "\n",
       "    .dataframe tbody tr th {\n",
       "        vertical-align: top;\n",
       "    }\n",
       "\n",
       "    .dataframe thead th {\n",
       "        text-align: right;\n",
       "    }\n",
       "</style>\n",
       "<table border=\"1\" class=\"dataframe\">\n",
       "  <thead>\n",
       "    <tr style=\"text-align: right;\">\n",
       "      <th></th>\n",
       "      <th>ds</th>\n",
       "      <th>y</th>\n",
       "    </tr>\n",
       "    <tr>\n",
       "      <th>unique_id</th>\n",
       "      <th></th>\n",
       "      <th></th>\n",
       "    </tr>\n",
       "  </thead>\n",
       "  <tbody>\n",
       "    <tr>\n",
       "      <th>SouthCentral/Tennessee/womens_shoes</th>\n",
       "      <td>2009-07-24</td>\n",
       "      <td>31</td>\n",
       "    </tr>\n",
       "    <tr>\n",
       "      <th>SouthCentral/Tennessee/womens_shoes</th>\n",
       "      <td>2009-07-25</td>\n",
       "      <td>30</td>\n",
       "    </tr>\n",
       "    <tr>\n",
       "      <th>SouthCentral/Tennessee/womens_shoes</th>\n",
       "      <td>2009-07-26</td>\n",
       "      <td>31</td>\n",
       "    </tr>\n",
       "    <tr>\n",
       "      <th>SouthCentral/Tennessee/womens_shoes</th>\n",
       "      <td>2009-07-27</td>\n",
       "      <td>29</td>\n",
       "    </tr>\n",
       "    <tr>\n",
       "      <th>SouthCentral/Tennessee/womens_shoes</th>\n",
       "      <td>2009-07-28</td>\n",
       "      <td>30</td>\n",
       "    </tr>\n",
       "  </tbody>\n",
       "</table>\n",
       "</div>"
      ],
      "text/plain": [
       "                                            ds   y\n",
       "unique_id                                         \n",
       "SouthCentral/Tennessee/womens_shoes 2009-07-24  31\n",
       "SouthCentral/Tennessee/womens_shoes 2009-07-25  30\n",
       "SouthCentral/Tennessee/womens_shoes 2009-07-26  31\n",
       "SouthCentral/Tennessee/womens_shoes 2009-07-27  29\n",
       "SouthCentral/Tennessee/womens_shoes 2009-07-28  30"
      ]
     },
     "metadata": {},
     "output_type": "display_data"
    },
    {
     "name": "stdout",
     "output_type": "stream",
     "text": [
      "time: 8.52 ms (started: 2024-01-04 16:26:01 -03:00)\n"
     ]
    }
   ],
   "source": [
    "display(Y_df.head())\n",
    "display(Y_df.tail())"
   ]
  },
  {
   "cell_type": "markdown",
   "id": "9420bec3-4c93-4604-9635-9ca7d0e4dae4",
   "metadata": {},
   "source": [
    "- **Dados de treino: 25/11/1997 a 31/12/2008**\n",
    "- **Dados de validação: 01/01/2009 a 28/07/2009**"
   ]
  },
  {
   "cell_type": "code",
   "execution_count": 10,
   "id": "99995911-9337-45c4-86b4-1621fbea7353",
   "metadata": {},
   "outputs": [
    {
     "name": "stdout",
     "output_type": "stream",
     "text": [
      "time: 1.9 ms (started: 2024-01-04 16:26:02 -03:00)\n"
     ]
    }
   ],
   "source": [
    "def split_train_test(df: pd.DataFrame, dt_start_train: str):\n",
    "\n",
    "    #---- 1. Dados de treino\n",
    "\n",
    "    train = df.query(f'ds < \"{dt_start_train}\"')\n",
    "\n",
    "    #---- 2. Dados de teste:\n",
    "    \n",
    "    valid = df.query(f'ds >= \"{dt_start_train}\"')\n",
    "\n",
    "    return train, valid"
   ]
  },
  {
   "cell_type": "code",
   "execution_count": 11,
   "id": "81fb172d-6cbb-42bf-aa05-0ce41449f927",
   "metadata": {},
   "outputs": [
    {
     "name": "stdout",
     "output_type": "stream",
     "text": [
      "time: 78.9 ms (started: 2024-01-04 16:26:02 -03:00)\n"
     ]
    }
   ],
   "source": [
    "Y_train_df, Y_valid_df = split_train_test(df = Y_df, dt_start_train = '2009-01-01')"
   ]
  },
  {
   "cell_type": "code",
   "execution_count": 12,
   "id": "47b95cd4-22d4-4bb8-9b74-63256f9db6d8",
   "metadata": {},
   "outputs": [
    {
     "data": {
      "text/html": [
       "<div>\n",
       "<style scoped>\n",
       "    .dataframe tbody tr th:only-of-type {\n",
       "        vertical-align: middle;\n",
       "    }\n",
       "\n",
       "    .dataframe tbody tr th {\n",
       "        vertical-align: top;\n",
       "    }\n",
       "\n",
       "    .dataframe thead th {\n",
       "        text-align: right;\n",
       "    }\n",
       "</style>\n",
       "<table border=\"1\" class=\"dataframe\">\n",
       "  <thead>\n",
       "    <tr style=\"text-align: right;\">\n",
       "      <th></th>\n",
       "      <th>ds</th>\n",
       "      <th>y</th>\n",
       "    </tr>\n",
       "    <tr>\n",
       "      <th>unique_id</th>\n",
       "      <th></th>\n",
       "      <th></th>\n",
       "    </tr>\n",
       "  </thead>\n",
       "  <tbody>\n",
       "    <tr>\n",
       "      <th>EastNorthCentral</th>\n",
       "      <td>1997-11-25</td>\n",
       "      <td>507</td>\n",
       "    </tr>\n",
       "    <tr>\n",
       "      <th>EastNorthCentral</th>\n",
       "      <td>1997-11-26</td>\n",
       "      <td>504</td>\n",
       "    </tr>\n",
       "    <tr>\n",
       "      <th>EastNorthCentral</th>\n",
       "      <td>1997-11-27</td>\n",
       "      <td>510</td>\n",
       "    </tr>\n",
       "    <tr>\n",
       "      <th>EastNorthCentral</th>\n",
       "      <td>1997-11-28</td>\n",
       "      <td>507</td>\n",
       "    </tr>\n",
       "    <tr>\n",
       "      <th>EastNorthCentral</th>\n",
       "      <td>1997-11-29</td>\n",
       "      <td>513</td>\n",
       "    </tr>\n",
       "  </tbody>\n",
       "</table>\n",
       "</div>"
      ],
      "text/plain": [
       "                         ds    y\n",
       "unique_id                       \n",
       "EastNorthCentral 1997-11-25  507\n",
       "EastNorthCentral 1997-11-26  504\n",
       "EastNorthCentral 1997-11-27  510\n",
       "EastNorthCentral 1997-11-28  507\n",
       "EastNorthCentral 1997-11-29  513"
      ]
     },
     "metadata": {},
     "output_type": "display_data"
    },
    {
     "data": {
      "text/html": [
       "<div>\n",
       "<style scoped>\n",
       "    .dataframe tbody tr th:only-of-type {\n",
       "        vertical-align: middle;\n",
       "    }\n",
       "\n",
       "    .dataframe tbody tr th {\n",
       "        vertical-align: top;\n",
       "    }\n",
       "\n",
       "    .dataframe thead th {\n",
       "        text-align: right;\n",
       "    }\n",
       "</style>\n",
       "<table border=\"1\" class=\"dataframe\">\n",
       "  <thead>\n",
       "    <tr style=\"text-align: right;\">\n",
       "      <th></th>\n",
       "      <th>ds</th>\n",
       "      <th>y</th>\n",
       "    </tr>\n",
       "    <tr>\n",
       "      <th>unique_id</th>\n",
       "      <th></th>\n",
       "      <th></th>\n",
       "    </tr>\n",
       "  </thead>\n",
       "  <tbody>\n",
       "    <tr>\n",
       "      <th>SouthCentral/Tennessee/womens_shoes</th>\n",
       "      <td>2008-12-27</td>\n",
       "      <td>31</td>\n",
       "    </tr>\n",
       "    <tr>\n",
       "      <th>SouthCentral/Tennessee/womens_shoes</th>\n",
       "      <td>2008-12-28</td>\n",
       "      <td>29</td>\n",
       "    </tr>\n",
       "    <tr>\n",
       "      <th>SouthCentral/Tennessee/womens_shoes</th>\n",
       "      <td>2008-12-29</td>\n",
       "      <td>28</td>\n",
       "    </tr>\n",
       "    <tr>\n",
       "      <th>SouthCentral/Tennessee/womens_shoes</th>\n",
       "      <td>2008-12-30</td>\n",
       "      <td>31</td>\n",
       "    </tr>\n",
       "    <tr>\n",
       "      <th>SouthCentral/Tennessee/womens_shoes</th>\n",
       "      <td>2008-12-31</td>\n",
       "      <td>31</td>\n",
       "    </tr>\n",
       "  </tbody>\n",
       "</table>\n",
       "</div>"
      ],
      "text/plain": [
       "                                            ds   y\n",
       "unique_id                                         \n",
       "SouthCentral/Tennessee/womens_shoes 2008-12-27  31\n",
       "SouthCentral/Tennessee/womens_shoes 2008-12-28  29\n",
       "SouthCentral/Tennessee/womens_shoes 2008-12-29  28\n",
       "SouthCentral/Tennessee/womens_shoes 2008-12-30  31\n",
       "SouthCentral/Tennessee/womens_shoes 2008-12-31  31"
      ]
     },
     "metadata": {},
     "output_type": "display_data"
    },
    {
     "name": "stdout",
     "output_type": "stream",
     "text": [
      "time: 10.3 ms (started: 2024-01-04 16:26:02 -03:00)\n"
     ]
    }
   ],
   "source": [
    "display(Y_train_df.head())\n",
    "display(Y_train_df.tail())"
   ]
  },
  {
   "cell_type": "markdown",
   "id": "8956e935-9676-4bb9-af9e-1fe224fab5ff",
   "metadata": {},
   "source": [
    "## 3. Modelagem"
   ]
  },
  {
   "cell_type": "code",
   "execution_count": 13,
   "id": "b37fe06b-8c83-42a7-a2d2-1867178ed95e",
   "metadata": {},
   "outputs": [
    {
     "name": "stdout",
     "output_type": "stream",
     "text": [
      "time: 129 ms (started: 2024-01-04 16:26:02 -03:00)\n"
     ]
    }
   ],
   "source": [
    "#---- Features de data:\n",
    "\n",
    "from numba import njit\n",
    "from window_ops.expanding import expanding_mean\n",
    "from window_ops.rolling import rolling_mean\n",
    "\n",
    "@njit\n",
    "def rolling_mean_7(x):\n",
    "    return rolling_mean(x, window_size = 7)\n",
    "\n",
    "@njit\n",
    "def rolling_mean_14(x):\n",
    "    return rolling_mean(x, window_size = 14)\n",
    "\n",
    "@njit\n",
    "def rolling_mean_21(x):\n",
    "    return rolling_mean(x, window_size = 21)\n",
    "\n",
    "@njit\n",
    "def rolling_mean_28(x):\n",
    "    return rolling_mean(x, window_size = 28)"
   ]
  },
  {
   "cell_type": "code",
   "execution_count": 14,
   "id": "c04b9326-f9ba-437c-ac6d-c8c3f93a646c",
   "metadata": {},
   "outputs": [
    {
     "name": "stdout",
     "output_type": "stream",
     "text": [
      "time: 591 µs (started: 2024-01-04 16:26:02 -03:00)\n"
     ]
    }
   ],
   "source": [
    "def rmse(y_true, y_pred):\n",
    "    \n",
    "    return np.sqrt(np.mean(np.square(y_true - y_pred)))"
   ]
  },
  {
   "cell_type": "code",
   "execution_count": 15,
   "id": "c1ff6523-bf87-44f7-aa2a-030194720f2e",
   "metadata": {},
   "outputs": [
    {
     "name": "stdout",
     "output_type": "stream",
     "text": [
      "time: 6.17 ms (started: 2024-01-04 16:26:02 -03:00)\n"
     ]
    }
   ],
   "source": [
    "n_horizon = Y_valid_df.ds.nunique() # Quantidade de dias para a projeção"
   ]
  },
  {
   "cell_type": "code",
   "execution_count": 16,
   "id": "321e58af-abf9-4769-a88f-0fe76334de3a",
   "metadata": {},
   "outputs": [
    {
     "name": "stdout",
     "output_type": "stream",
     "text": [
      "time: 265 ms (started: 2024-01-04 16:26:02 -03:00)\n"
     ]
    },
    {
     "name": "stderr",
     "output_type": "stream",
     "text": [
      "/home/rafa/Documentos/github/multiple-time-series-forecast/venv/lib/python3.10/site-packages/tqdm/auto.py:21: TqdmWarning: IProgress not found. Please update jupyter and ipywidgets. See https://ipywidgets.readthedocs.io/en/stable/user_install.html\n",
      "  from .autonotebook import tqdm as notebook_tqdm\n"
     ]
    }
   ],
   "source": [
    "import optuna\n",
    "from sklearn.metrics import mean_squared_error\n",
    "\n",
    "def objective(trial):\n",
    "\n",
    "    max_depth = trial.suggest_int('max_depth', 3, 15)\n",
    "    min_samples_split = trial.suggest_float('min_samples_split', 0.1, 1.0)\n",
    "    min_samples_leaf = trial.suggest_float('min_samples_leaf', 0.1, 0.5)\n",
    "    max_features = trial.suggest_float('max_features', 0.1, 1.0)\n",
    "\n",
    "    dec_tree = DecisionTreeRegressor(random_state = 19, \n",
    "                                     max_depth = max_depth,\n",
    "                                     min_samples_split = min_samples_split,\n",
    "                                     min_samples_leaf = min_samples_leaf,\n",
    "                                     max_features = max_features) \n",
    "    \n",
    "    models_list = [dec_tree]\n",
    "\n",
    "    model = MLForecast(models = models_list,\n",
    "                       freq = 'D',\n",
    "                       num_threads = 6,\n",
    "                       lags = [1, 7, 14, 21, 28, 30], \n",
    "                       date_features = ['dayofweek', 'month', 'year', 'quarter', 'day', 'week'],\n",
    "                       lag_transforms = {\n",
    "                           1: [expanding_mean],\n",
    "                           7: [rolling_mean_7],\n",
    "                           14: [rolling_mean_14],\n",
    "                           21: [rolling_mean_21],\n",
    "                           28: [rolling_mean_28],\n",
    "                       }\n",
    "               )\n",
    "\n",
    "    model.fit(Y_train_df.reset_index(), id_col = 'unique_id', time_col = 'ds', target_col = 'y', fitted = True)\n",
    "\n",
    "    Y_hat_df = model.predict(h = n_horizon)\n",
    "\n",
    "    p = Y_hat_df.reset_index().merge(Y_valid_df.reset_index(), on = ['unique_id', 'ds'], how = 'left')\n",
    "\n",
    "    error = rmse(p['y'], p['DecisionTreeRegressor'])\n",
    "    \n",
    "    return error"
   ]
  },
  {
   "cell_type": "code",
   "execution_count": 17,
   "id": "8177f556-5759-41bd-93bc-9cc6a29af1eb",
   "metadata": {},
   "outputs": [
    {
     "name": "stderr",
     "output_type": "stream",
     "text": [
      "[I 2024-01-04 16:26:02,541] A new study created in memory with name: no-name-6702ab85-dac5-4743-9e99-87a677169d34\n",
      "[I 2024-01-04 16:26:10,275] Trial 0 finished with value: 195.08073829605715 and parameters: {'max_depth': 4, 'min_samples_split': 0.22312797279738403, 'min_samples_leaf': 0.13949141437097798, 'max_features': 0.22980441737419627}. Best is trial 0 with value: 195.08073829605715.\n",
      "[I 2024-01-04 16:26:12,985] Trial 1 finished with value: 216.70787926833452 and parameters: {'max_depth': 7, 'min_samples_split': 0.7870618235875569, 'min_samples_leaf': 0.27932489959953816, 'max_features': 0.8857193491067641}. Best is trial 0 with value: 195.08073829605715.\n",
      "[I 2024-01-04 16:26:15,683] Trial 2 finished with value: 241.70257626769157 and parameters: {'max_depth': 12, 'min_samples_split': 0.9339699107847861, 'min_samples_leaf': 0.4273864283032369, 'max_features': 0.9798949766666408}. Best is trial 0 with value: 195.08073829605715.\n",
      "[I 2024-01-04 16:26:18,152] Trial 3 finished with value: 239.7504175984923 and parameters: {'max_depth': 3, 'min_samples_split': 0.6794975131885971, 'min_samples_leaf': 0.40852997412996417, 'max_features': 0.26837988286579745}. Best is trial 0 with value: 195.08073829605715.\n",
      "[I 2024-01-04 16:26:20,501] Trial 4 finished with value: 226.8769101657277 and parameters: {'max_depth': 5, 'min_samples_split': 0.7013590057253661, 'min_samples_leaf': 0.34855936911555313, 'max_features': 0.1444575092235803}. Best is trial 0 with value: 195.08073829605715.\n",
      "[I 2024-01-04 16:26:23,028] Trial 5 finished with value: 213.59983439584389 and parameters: {'max_depth': 15, 'min_samples_split': 0.39901850336359057, 'min_samples_leaf': 0.2631318315437528, 'max_features': 0.45667388270356635}. Best is trial 0 with value: 195.08073829605715.\n",
      "[I 2024-01-04 16:26:25,803] Trial 6 finished with value: 197.33896961573146 and parameters: {'max_depth': 14, 'min_samples_split': 0.14991343144104566, 'min_samples_leaf': 0.15608426520679597, 'max_features': 0.3854017595650254}. Best is trial 0 with value: 195.08073829605715.\n",
      "[I 2024-01-04 16:26:28,458] Trial 7 finished with value: 246.82412319925933 and parameters: {'max_depth': 13, 'min_samples_split': 0.8537541333851693, 'min_samples_leaf': 0.473948075808187, 'max_features': 0.7871136439714509}. Best is trial 0 with value: 195.08073829605715.\n",
      "[I 2024-01-04 16:26:31,042] Trial 8 finished with value: 243.34572946694584 and parameters: {'max_depth': 5, 'min_samples_split': 0.4116326833896887, 'min_samples_leaf': 0.4410998145391728, 'max_features': 0.728261634945836}. Best is trial 0 with value: 195.08073829605715.\n",
      "[I 2024-01-04 16:26:33,561] Trial 9 finished with value: 216.18744369055253 and parameters: {'max_depth': 15, 'min_samples_split': 0.48941564597052456, 'min_samples_leaf': 0.2797010484898649, 'max_features': 0.3462970011528108}. Best is trial 0 with value: 195.08073829605715.\n",
      "[I 2024-01-04 16:26:36,613] Trial 10 finished with value: 195.21503498457707 and parameters: {'max_depth': 10, 'min_samples_split': 0.17506678740447917, 'min_samples_leaf': 0.1412976275652339, 'max_features': 0.6225744834838887}. Best is trial 0 with value: 195.08073829605715.\n",
      "[I 2024-01-04 16:26:39,750] Trial 11 finished with value: 184.73715169491484 and parameters: {'max_depth': 10, 'min_samples_split': 0.11331780855034805, 'min_samples_leaf': 0.10400817718682875, 'max_features': 0.6054907418091597}. Best is trial 11 with value: 184.73715169491484.\n",
      "[I 2024-01-04 16:26:42,761] Trial 12 finished with value: 187.02520927915387 and parameters: {'max_depth': 9, 'min_samples_split': 0.2693481972178261, 'min_samples_leaf': 0.11236956820230708, 'max_features': 0.5936671365466406}. Best is trial 11 with value: 184.73715169491484.\n",
      "[I 2024-01-04 16:26:45,849] Trial 13 finished with value: 183.6332808179366 and parameters: {'max_depth': 9, 'min_samples_split': 0.2930989440360583, 'min_samples_leaf': 0.10161549111936899, 'max_features': 0.5399265996000545}. Best is trial 13 with value: 183.6332808179366.\n",
      "[I 2024-01-04 16:26:48,770] Trial 14 finished with value: 198.42225434886547 and parameters: {'max_depth': 10, 'min_samples_split': 0.32826781555678247, 'min_samples_leaf': 0.1696193421333733, 'max_features': 0.5069391296218624}. Best is trial 13 with value: 183.6332808179366.\n",
      "[I 2024-01-04 16:26:51,624] Trial 15 finished with value: 209.25714301400063 and parameters: {'max_depth': 8, 'min_samples_split': 0.10625359991565264, 'min_samples_leaf': 0.22796876885097195, 'max_features': 0.672876426740054}. Best is trial 13 with value: 183.6332808179366.\n",
      "[I 2024-01-04 16:26:54,344] Trial 16 finished with value: 205.55881401196737 and parameters: {'max_depth': 11, 'min_samples_split': 0.3114357048935402, 'min_samples_leaf': 0.20501782124320206, 'max_features': 0.5222474535238864}. Best is trial 13 with value: 183.6332808179366.\n",
      "[I 2024-01-04 16:26:57,447] Trial 17 finished with value: 185.23225338481268 and parameters: {'max_depth': 7, 'min_samples_split': 0.5268542898809984, 'min_samples_leaf': 0.10688735237993761, 'max_features': 0.8023252122554108}. Best is trial 13 with value: 183.6332808179366.\n",
      "[I 2024-01-04 16:26:59,999] Trial 18 finished with value: 224.9597896327298 and parameters: {'max_depth': 12, 'min_samples_split': 0.6170758193016019, 'min_samples_leaf': 0.3447954640178752, 'max_features': 0.42729625086585105}. Best is trial 13 with value: 183.6332808179366.\n",
      "[I 2024-01-04 16:27:02,855] Trial 19 finished with value: 201.89846850518833 and parameters: {'max_depth': 8, 'min_samples_split': 0.10258374228599501, 'min_samples_leaf': 0.19275442518404212, 'max_features': 0.56799657550761}. Best is trial 13 with value: 183.6332808179366.\n",
      "[I 2024-01-04 16:27:05,701] Trial 20 finished with value: 211.35942983320726 and parameters: {'max_depth': 10, 'min_samples_split': 0.404821624654773, 'min_samples_leaf': 0.24312767293119075, 'max_features': 0.6879583892518154}. Best is trial 13 with value: 183.6332808179366.\n",
      "[I 2024-01-04 16:27:08,826] Trial 21 finished with value: 190.03740258403823 and parameters: {'max_depth': 7, 'min_samples_split': 0.519258551183726, 'min_samples_leaf': 0.11605036212399192, 'max_features': 0.8103185697908699}. Best is trial 13 with value: 183.6332808179366.\n",
      "[I 2024-01-04 16:27:12,265] Trial 22 finished with value: 184.7649593978859 and parameters: {'max_depth': 7, 'min_samples_split': 0.22324539355544454, 'min_samples_leaf': 0.10352137346543372, 'max_features': 0.8673843746654047}. Best is trial 13 with value: 183.6332808179366.\n",
      "[I 2024-01-04 16:27:15,760] Trial 23 finished with value: 182.97161400021125 and parameters: {'max_depth': 6, 'min_samples_split': 0.2183538819404795, 'min_samples_leaf': 0.10094467502971759, 'max_features': 0.9787778448844082}. Best is trial 23 with value: 182.97161400021125.\n",
      "[I 2024-01-04 16:27:19,021] Trial 24 finished with value: 201.14970277319287 and parameters: {'max_depth': 5, 'min_samples_split': 0.21496973407677422, 'min_samples_leaf': 0.185284037409279, 'max_features': 0.9928359230427153}. Best is trial 23 with value: 182.97161400021125.\n",
      "[I 2024-01-04 16:27:21,644] Trial 25 finished with value: 195.78384923260597 and parameters: {'max_depth': 9, 'min_samples_split': 0.3306880482065354, 'min_samples_leaf': 0.1439074382443714, 'max_features': 0.31835571909878446}. Best is trial 23 with value: 182.97161400021125.\n",
      "[I 2024-01-04 16:27:24,514] Trial 26 finished with value: 222.30022874211073 and parameters: {'max_depth': 6, 'min_samples_split': 0.24767385681065673, 'min_samples_leaf': 0.3308707784823175, 'max_features': 0.9275441484172267}. Best is trial 23 with value: 182.97161400021125.\n",
      "[I 2024-01-04 16:27:27,264] Trial 27 finished with value: 207.92677854199263 and parameters: {'max_depth': 9, 'min_samples_split': 0.16236163514672478, 'min_samples_leaf': 0.22237832065748783, 'max_features': 0.48306964166624544}. Best is trial 23 with value: 182.97161400021125.\n",
      "[I 2024-01-04 16:27:30,356] Trial 28 finished with value: 191.7881534342679 and parameters: {'max_depth': 11, 'min_samples_split': 0.4359921849400641, 'min_samples_leaf': 0.13278423715870613, 'max_features': 0.6573014571648325}. Best is trial 23 with value: 182.97161400021125.\n",
      "[I 2024-01-04 16:27:32,781] Trial 29 finished with value: 202.7285085030731 and parameters: {'max_depth': 3, 'min_samples_split': 0.28313539095871854, 'min_samples_leaf': 0.16922320596986415, 'max_features': 0.15376700771053747}. Best is trial 23 with value: 182.97161400021125.\n"
     ]
    },
    {
     "name": "stdout",
     "output_type": "stream",
     "text": [
      "time: 1min 30s (started: 2024-01-04 16:26:02 -03:00)\n"
     ]
    }
   ],
   "source": [
    "study = optuna.create_study(direction = 'minimize')\n",
    "study.optimize(objective, n_trials = 30)"
   ]
  },
  {
   "cell_type": "code",
   "execution_count": 18,
   "id": "2cb4227a-abb5-4060-bb5d-2f0db10db0a4",
   "metadata": {},
   "outputs": [
    {
     "data": {
      "text/plain": [
       "{'max_depth': 6,\n",
       " 'min_samples_split': 0.2183538819404795,\n",
       " 'min_samples_leaf': 0.10094467502971759,\n",
       " 'max_features': 0.9787778448844082}"
      ]
     },
     "execution_count": 18,
     "metadata": {},
     "output_type": "execute_result"
    },
    {
     "name": "stdout",
     "output_type": "stream",
     "text": [
      "time: 2.96 ms (started: 2024-01-04 16:27:32 -03:00)\n"
     ]
    }
   ],
   "source": [
    "study.best_params"
   ]
  },
  {
   "cell_type": "code",
   "execution_count": 19,
   "id": "a265b8dd-a83d-4343-bf52-44b72cd6fe50",
   "metadata": {},
   "outputs": [
    {
     "name": "stdout",
     "output_type": "stream",
     "text": [
      "time: 2.39 ms (started: 2024-01-04 16:27:32 -03:00)\n"
     ]
    }
   ],
   "source": [
    "#---- Salvando os melhores parâmetros em um JSON:\n",
    "\n",
    "import json\n",
    "\n",
    "with open('decision-tree-best-parameters.json', 'w') as jsn:\n",
    "    json.dump(dict(study.best_params), jsn)"
   ]
  },
  {
   "cell_type": "code",
   "execution_count": 20,
   "id": "75f21d97-912b-4908-893b-570158ce5301",
   "metadata": {},
   "outputs": [
    {
     "data": {
      "text/plain": [
       "182.97161400021125"
      ]
     },
     "execution_count": 20,
     "metadata": {},
     "output_type": "execute_result"
    },
    {
     "name": "stdout",
     "output_type": "stream",
     "text": [
      "time: 8.83 ms (started: 2024-01-04 16:27:32 -03:00)\n"
     ]
    }
   ],
   "source": [
    "study.best_value"
   ]
  }
 ],
 "metadata": {
  "kernelspec": {
   "display_name": "Python 3 (ipykernel)",
   "language": "python",
   "name": "python3"
  },
  "language_info": {
   "codemirror_mode": {
    "name": "ipython",
    "version": 3
   },
   "file_extension": ".py",
   "mimetype": "text/x-python",
   "name": "python",
   "nbconvert_exporter": "python",
   "pygments_lexer": "ipython3",
   "version": "3.10.6"
  }
 },
 "nbformat": 4,
 "nbformat_minor": 5
}
