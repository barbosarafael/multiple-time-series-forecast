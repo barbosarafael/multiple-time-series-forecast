{
 "cells": [
  {
   "cell_type": "markdown",
   "id": "139dc490-23d0-49ed-863f-ee062f809725",
   "metadata": {},
   "source": [
    "# Modelos de ML\n",
    "\n",
    "**Objetivo**: Criar modelos de ML para a projeção de todas as nossas séries.\n",
    "\n",
    "**Metodologias**: \n",
    "\n",
    "- Regressão Linear\n",
    "- Árvore de decisão\n",
    "- Random Forest\n",
    "- XGBoost\n",
    "- LightGBM"
   ]
  },
  {
   "cell_type": "markdown",
   "id": "4dcfa96b-bb88-4d49-b0fe-37e18b813067",
   "metadata": {},
   "source": [
    "## 0. Setup"
   ]
  },
  {
   "cell_type": "code",
   "execution_count": 1,
   "id": "2557e764-2692-481e-b5aa-acbfe1cfb93e",
   "metadata": {},
   "outputs": [
    {
     "name": "stdout",
     "output_type": "stream",
     "text": [
      "time: 181 µs (started: 2024-01-04 12:16:56 -03:00)\n"
     ]
    }
   ],
   "source": [
    "%load_ext autotime"
   ]
  },
  {
   "cell_type": "code",
   "execution_count": 2,
   "id": "06549e4f-9c06-4888-b9d5-6c74c26c4ab3",
   "metadata": {},
   "outputs": [
    {
     "name": "stdout",
     "output_type": "stream",
     "text": [
      "time: 1.67 s (started: 2024-01-04 12:16:56 -03:00)\n"
     ]
    }
   ],
   "source": [
    "#---- Manipulação de dados:\n",
    "\n",
    "import pandas as pd\n",
    "import numpy as np\n",
    "\n",
    "#---- Modelagem:\n",
    "\n",
    "from hierarchicalforecast.utils import aggregate\n",
    "from mlforecast import MLForecast\n",
    "from sklearn.linear_model import LinearRegression\n",
    "from sklearn.tree import DecisionTreeRegressor\n",
    "from sklearn.ensemble import RandomForestRegressor\n",
    "from lightgbm import LGBMRegressor\n",
    "from xgboost import XGBRegressor\n",
    "\n",
    "#---- Reconciliação\n",
    "\n",
    "from hierarchicalforecast.methods import BottomUp, TopDown, ERM, OptimalCombination, MinTrace, MiddleOut\n",
    "from hierarchicalforecast.core import HierarchicalReconciliation\n",
    "\n",
    "#---- Visualização\n",
    "\n",
    "import plotly.express as px"
   ]
  },
  {
   "cell_type": "markdown",
   "id": "ba1f788c-d0b4-42e4-bfd4-2fb54590d30b",
   "metadata": {},
   "source": [
    "## 1. Dados: vendas de roupas no varejo"
   ]
  },
  {
   "cell_type": "code",
   "execution_count": 3,
   "id": "93320272-0944-46c3-9a29-e7316bf00f95",
   "metadata": {},
   "outputs": [
    {
     "data": {
      "text/html": [
       "<div>\n",
       "<style scoped>\n",
       "    .dataframe tbody tr th:only-of-type {\n",
       "        vertical-align: middle;\n",
       "    }\n",
       "\n",
       "    .dataframe tbody tr th {\n",
       "        vertical-align: top;\n",
       "    }\n",
       "\n",
       "    .dataframe thead th {\n",
       "        text-align: right;\n",
       "    }\n",
       "</style>\n",
       "<table border=\"1\" class=\"dataframe\">\n",
       "  <thead>\n",
       "    <tr style=\"text-align: right;\">\n",
       "      <th></th>\n",
       "      <th>date</th>\n",
       "      <th>state</th>\n",
       "      <th>item</th>\n",
       "      <th>quantity</th>\n",
       "      <th>region</th>\n",
       "      <th>country</th>\n",
       "    </tr>\n",
       "  </thead>\n",
       "  <tbody>\n",
       "    <tr>\n",
       "      <th>0</th>\n",
       "      <td>1997-11-25</td>\n",
       "      <td>NewYork</td>\n",
       "      <td>mens_clothing</td>\n",
       "      <td>8</td>\n",
       "      <td>Mid-Alantic</td>\n",
       "      <td>USA</td>\n",
       "    </tr>\n",
       "    <tr>\n",
       "      <th>1</th>\n",
       "      <td>1997-11-26</td>\n",
       "      <td>NewYork</td>\n",
       "      <td>mens_clothing</td>\n",
       "      <td>9</td>\n",
       "      <td>Mid-Alantic</td>\n",
       "      <td>USA</td>\n",
       "    </tr>\n",
       "    <tr>\n",
       "      <th>2</th>\n",
       "      <td>1997-11-27</td>\n",
       "      <td>NewYork</td>\n",
       "      <td>mens_clothing</td>\n",
       "      <td>11</td>\n",
       "      <td>Mid-Alantic</td>\n",
       "      <td>USA</td>\n",
       "    </tr>\n",
       "    <tr>\n",
       "      <th>3</th>\n",
       "      <td>1997-11-28</td>\n",
       "      <td>NewYork</td>\n",
       "      <td>mens_clothing</td>\n",
       "      <td>11</td>\n",
       "      <td>Mid-Alantic</td>\n",
       "      <td>USA</td>\n",
       "    </tr>\n",
       "    <tr>\n",
       "      <th>4</th>\n",
       "      <td>1997-11-29</td>\n",
       "      <td>NewYork</td>\n",
       "      <td>mens_clothing</td>\n",
       "      <td>10</td>\n",
       "      <td>Mid-Alantic</td>\n",
       "      <td>USA</td>\n",
       "    </tr>\n",
       "  </tbody>\n",
       "</table>\n",
       "</div>"
      ],
      "text/plain": [
       "         date    state           item  quantity       region country\n",
       "0  1997-11-25  NewYork  mens_clothing         8  Mid-Alantic     USA\n",
       "1  1997-11-26  NewYork  mens_clothing         9  Mid-Alantic     USA\n",
       "2  1997-11-27  NewYork  mens_clothing        11  Mid-Alantic     USA\n",
       "3  1997-11-28  NewYork  mens_clothing        11  Mid-Alantic     USA\n",
       "4  1997-11-29  NewYork  mens_clothing        10  Mid-Alantic     USA"
      ]
     },
     "execution_count": 3,
     "metadata": {},
     "output_type": "execute_result"
    },
    {
     "name": "stdout",
     "output_type": "stream",
     "text": [
      "time: 1.11 s (started: 2024-01-04 12:16:57 -03:00)\n"
     ]
    }
   ],
   "source": [
    "dados = pd.read_csv('https://raw.githubusercontent.com/aws-samples/amazon-sagemaker-hierarchical-forecasting/main/retail-usa-clothing.csv')\n",
    "\n",
    "dados.head()"
   ]
  },
  {
   "cell_type": "code",
   "execution_count": 4,
   "id": "703297e3-1652-4727-9b18-c9ac373696c1",
   "metadata": {},
   "outputs": [
    {
     "name": "stdout",
     "output_type": "stream",
     "text": [
      "<class 'pandas.core.frame.DataFrame'>\n",
      "RangeIndex: 388024 entries, 0 to 388023\n",
      "Data columns (total 6 columns):\n",
      " #   Column    Non-Null Count   Dtype \n",
      "---  ------    --------------   ----- \n",
      " 0   date      388024 non-null  object\n",
      " 1   state     388024 non-null  object\n",
      " 2   item      388024 non-null  object\n",
      " 3   quantity  388024 non-null  int64 \n",
      " 4   region    388024 non-null  object\n",
      " 5   country   388024 non-null  object\n",
      "dtypes: int64(1), object(5)\n",
      "memory usage: 17.8+ MB\n",
      "time: 59.6 ms (started: 2024-01-04 12:16:58 -03:00)\n"
     ]
    }
   ],
   "source": [
    "dados.info()"
   ]
  },
  {
   "cell_type": "markdown",
   "id": "7303d5ca-61fb-4679-878f-89ac4888edf4",
   "metadata": {},
   "source": [
    "## 2. Modificação nos dados "
   ]
  },
  {
   "cell_type": "code",
   "execution_count": 5,
   "id": "75cb6b8b-03a1-4768-9e60-214606dadb7f",
   "metadata": {},
   "outputs": [
    {
     "name": "stdout",
     "output_type": "stream",
     "text": [
      "time: 822 µs (started: 2024-01-04 12:16:58 -03:00)\n"
     ]
    }
   ],
   "source": [
    "def clean_data_baseline(df: pd.DataFrame):\n",
    "\n",
    "    #---- 1. Excluindo a variável de country:\n",
    "\n",
    "    df = df\\\n",
    "        .drop(columns = 'country')\n",
    "\n",
    "    #---- 2. Mudando o tipo da variável de date para datetime:\n",
    "\n",
    "    df['date'] = pd.to_datetime(df['date'])\n",
    "\n",
    "    #---- 3. Renomeando as variáveis de quantidade de vendas e data:\n",
    "    # date -> ds\n",
    "    # quantity -> y\n",
    "\n",
    "    df = df\\\n",
    "        .rename(columns = {'date': 'ds', \n",
    "                           'quantity': 'y'})\n",
    "\n",
    "    return df"
   ]
  },
  {
   "cell_type": "code",
   "execution_count": 6,
   "id": "296b83a2-cd3a-4920-b992-afd9752364ac",
   "metadata": {},
   "outputs": [
    {
     "data": {
      "text/html": [
       "<div>\n",
       "<style scoped>\n",
       "    .dataframe tbody tr th:only-of-type {\n",
       "        vertical-align: middle;\n",
       "    }\n",
       "\n",
       "    .dataframe tbody tr th {\n",
       "        vertical-align: top;\n",
       "    }\n",
       "\n",
       "    .dataframe thead th {\n",
       "        text-align: right;\n",
       "    }\n",
       "</style>\n",
       "<table border=\"1\" class=\"dataframe\">\n",
       "  <thead>\n",
       "    <tr style=\"text-align: right;\">\n",
       "      <th></th>\n",
       "      <th>ds</th>\n",
       "      <th>state</th>\n",
       "      <th>item</th>\n",
       "      <th>y</th>\n",
       "      <th>region</th>\n",
       "    </tr>\n",
       "  </thead>\n",
       "  <tbody>\n",
       "    <tr>\n",
       "      <th>0</th>\n",
       "      <td>1997-11-25</td>\n",
       "      <td>NewYork</td>\n",
       "      <td>mens_clothing</td>\n",
       "      <td>8</td>\n",
       "      <td>Mid-Alantic</td>\n",
       "    </tr>\n",
       "    <tr>\n",
       "      <th>1</th>\n",
       "      <td>1997-11-26</td>\n",
       "      <td>NewYork</td>\n",
       "      <td>mens_clothing</td>\n",
       "      <td>9</td>\n",
       "      <td>Mid-Alantic</td>\n",
       "    </tr>\n",
       "    <tr>\n",
       "      <th>2</th>\n",
       "      <td>1997-11-27</td>\n",
       "      <td>NewYork</td>\n",
       "      <td>mens_clothing</td>\n",
       "      <td>11</td>\n",
       "      <td>Mid-Alantic</td>\n",
       "    </tr>\n",
       "    <tr>\n",
       "      <th>3</th>\n",
       "      <td>1997-11-28</td>\n",
       "      <td>NewYork</td>\n",
       "      <td>mens_clothing</td>\n",
       "      <td>11</td>\n",
       "      <td>Mid-Alantic</td>\n",
       "    </tr>\n",
       "    <tr>\n",
       "      <th>4</th>\n",
       "      <td>1997-11-29</td>\n",
       "      <td>NewYork</td>\n",
       "      <td>mens_clothing</td>\n",
       "      <td>10</td>\n",
       "      <td>Mid-Alantic</td>\n",
       "    </tr>\n",
       "  </tbody>\n",
       "</table>\n",
       "</div>"
      ],
      "text/plain": [
       "          ds    state           item   y       region\n",
       "0 1997-11-25  NewYork  mens_clothing   8  Mid-Alantic\n",
       "1 1997-11-26  NewYork  mens_clothing   9  Mid-Alantic\n",
       "2 1997-11-27  NewYork  mens_clothing  11  Mid-Alantic\n",
       "3 1997-11-28  NewYork  mens_clothing  11  Mid-Alantic\n",
       "4 1997-11-29  NewYork  mens_clothing  10  Mid-Alantic"
      ]
     },
     "execution_count": 6,
     "metadata": {},
     "output_type": "execute_result"
    },
    {
     "name": "stdout",
     "output_type": "stream",
     "text": [
      "time: 109 ms (started: 2024-01-04 12:16:58 -03:00)\n"
     ]
    }
   ],
   "source": [
    "df = clean_data_baseline(df = dados)\n",
    "\n",
    "df.head()"
   ]
  },
  {
   "cell_type": "code",
   "execution_count": 7,
   "id": "3afc572f-4479-45ef-b9c0-2dfe4af461ce",
   "metadata": {},
   "outputs": [
    {
     "name": "stdout",
     "output_type": "stream",
     "text": [
      "time: 740 µs (started: 2024-01-04 12:16:59 -03:00)\n"
     ]
    }
   ],
   "source": [
    "def format_hierarchical_df(df: pd.DataFrame, cols_hierarchical: list):\n",
    "\n",
    "    #---- 1. Cria uma lista de listas: [[col1], [col1, col2], ..., [col1, col2, coln]]\n",
    "\n",
    "    hier_list = [cols_hierarchical[:i] for i in range(1, len(cols_hierarchical) + 1)]\n",
    "\n",
    "    #---- 2. Aplica a função aggregate que formata os dados em que a lib hierarchical pede\n",
    "\n",
    "    Y_df, S_df, tags = aggregate(df = df, spec = hier_list)\n",
    "\n",
    "    return Y_df, S_df, tags"
   ]
  },
  {
   "cell_type": "code",
   "execution_count": 8,
   "id": "999fc534-c03f-4553-a325-1a623f8f9228",
   "metadata": {},
   "outputs": [
    {
     "name": "stdout",
     "output_type": "stream",
     "text": [
      "time: 666 ms (started: 2024-01-04 12:16:59 -03:00)\n"
     ]
    }
   ],
   "source": [
    "cols_hierarchical = ['region', 'state', 'item']\n",
    "\n",
    "Y_df, S_df, tags = format_hierarchical_df(df = df, cols_hierarchical = cols_hierarchical)"
   ]
  },
  {
   "cell_type": "code",
   "execution_count": 9,
   "id": "98141e69-66c8-4ea6-af22-963af1f42a3c",
   "metadata": {},
   "outputs": [
    {
     "data": {
      "text/html": [
       "<div>\n",
       "<style scoped>\n",
       "    .dataframe tbody tr th:only-of-type {\n",
       "        vertical-align: middle;\n",
       "    }\n",
       "\n",
       "    .dataframe tbody tr th {\n",
       "        vertical-align: top;\n",
       "    }\n",
       "\n",
       "    .dataframe thead th {\n",
       "        text-align: right;\n",
       "    }\n",
       "</style>\n",
       "<table border=\"1\" class=\"dataframe\">\n",
       "  <thead>\n",
       "    <tr style=\"text-align: right;\">\n",
       "      <th></th>\n",
       "      <th>ds</th>\n",
       "      <th>y</th>\n",
       "    </tr>\n",
       "    <tr>\n",
       "      <th>unique_id</th>\n",
       "      <th></th>\n",
       "      <th></th>\n",
       "    </tr>\n",
       "  </thead>\n",
       "  <tbody>\n",
       "    <tr>\n",
       "      <th>EastNorthCentral</th>\n",
       "      <td>1997-11-25</td>\n",
       "      <td>507</td>\n",
       "    </tr>\n",
       "    <tr>\n",
       "      <th>EastNorthCentral</th>\n",
       "      <td>1997-11-26</td>\n",
       "      <td>504</td>\n",
       "    </tr>\n",
       "    <tr>\n",
       "      <th>EastNorthCentral</th>\n",
       "      <td>1997-11-27</td>\n",
       "      <td>510</td>\n",
       "    </tr>\n",
       "    <tr>\n",
       "      <th>EastNorthCentral</th>\n",
       "      <td>1997-11-28</td>\n",
       "      <td>507</td>\n",
       "    </tr>\n",
       "    <tr>\n",
       "      <th>EastNorthCentral</th>\n",
       "      <td>1997-11-29</td>\n",
       "      <td>513</td>\n",
       "    </tr>\n",
       "  </tbody>\n",
       "</table>\n",
       "</div>"
      ],
      "text/plain": [
       "                         ds    y\n",
       "unique_id                       \n",
       "EastNorthCentral 1997-11-25  507\n",
       "EastNorthCentral 1997-11-26  504\n",
       "EastNorthCentral 1997-11-27  510\n",
       "EastNorthCentral 1997-11-28  507\n",
       "EastNorthCentral 1997-11-29  513"
      ]
     },
     "metadata": {},
     "output_type": "display_data"
    },
    {
     "data": {
      "text/html": [
       "<div>\n",
       "<style scoped>\n",
       "    .dataframe tbody tr th:only-of-type {\n",
       "        vertical-align: middle;\n",
       "    }\n",
       "\n",
       "    .dataframe tbody tr th {\n",
       "        vertical-align: top;\n",
       "    }\n",
       "\n",
       "    .dataframe thead th {\n",
       "        text-align: right;\n",
       "    }\n",
       "</style>\n",
       "<table border=\"1\" class=\"dataframe\">\n",
       "  <thead>\n",
       "    <tr style=\"text-align: right;\">\n",
       "      <th></th>\n",
       "      <th>ds</th>\n",
       "      <th>y</th>\n",
       "    </tr>\n",
       "    <tr>\n",
       "      <th>unique_id</th>\n",
       "      <th></th>\n",
       "      <th></th>\n",
       "    </tr>\n",
       "  </thead>\n",
       "  <tbody>\n",
       "    <tr>\n",
       "      <th>SouthCentral/Tennessee/womens_shoes</th>\n",
       "      <td>2009-07-24</td>\n",
       "      <td>31</td>\n",
       "    </tr>\n",
       "    <tr>\n",
       "      <th>SouthCentral/Tennessee/womens_shoes</th>\n",
       "      <td>2009-07-25</td>\n",
       "      <td>30</td>\n",
       "    </tr>\n",
       "    <tr>\n",
       "      <th>SouthCentral/Tennessee/womens_shoes</th>\n",
       "      <td>2009-07-26</td>\n",
       "      <td>31</td>\n",
       "    </tr>\n",
       "    <tr>\n",
       "      <th>SouthCentral/Tennessee/womens_shoes</th>\n",
       "      <td>2009-07-27</td>\n",
       "      <td>29</td>\n",
       "    </tr>\n",
       "    <tr>\n",
       "      <th>SouthCentral/Tennessee/womens_shoes</th>\n",
       "      <td>2009-07-28</td>\n",
       "      <td>30</td>\n",
       "    </tr>\n",
       "  </tbody>\n",
       "</table>\n",
       "</div>"
      ],
      "text/plain": [
       "                                            ds   y\n",
       "unique_id                                         \n",
       "SouthCentral/Tennessee/womens_shoes 2009-07-24  31\n",
       "SouthCentral/Tennessee/womens_shoes 2009-07-25  30\n",
       "SouthCentral/Tennessee/womens_shoes 2009-07-26  31\n",
       "SouthCentral/Tennessee/womens_shoes 2009-07-27  29\n",
       "SouthCentral/Tennessee/womens_shoes 2009-07-28  30"
      ]
     },
     "metadata": {},
     "output_type": "display_data"
    },
    {
     "name": "stdout",
     "output_type": "stream",
     "text": [
      "time: 15.3 ms (started: 2024-01-04 12:16:59 -03:00)\n"
     ]
    }
   ],
   "source": [
    "display(Y_df.head())\n",
    "display(Y_df.tail())"
   ]
  },
  {
   "cell_type": "markdown",
   "id": "9420bec3-4c93-4604-9635-9ca7d0e4dae4",
   "metadata": {},
   "source": [
    "- **Dados de treino: 25/11/1997 a 31/12/2008**\n",
    "- **Dados de validação: 01/01/2009 a 28/07/2009**"
   ]
  },
  {
   "cell_type": "code",
   "execution_count": 10,
   "id": "99995911-9337-45c4-86b4-1621fbea7353",
   "metadata": {},
   "outputs": [
    {
     "name": "stdout",
     "output_type": "stream",
     "text": [
      "time: 574 µs (started: 2024-01-04 12:16:59 -03:00)\n"
     ]
    }
   ],
   "source": [
    "def split_train_test(df: pd.DataFrame, dt_start_train: str):\n",
    "\n",
    "    #---- 1. Dados de treino\n",
    "\n",
    "    train = df.query(f'ds < \"{dt_start_train}\"')\n",
    "\n",
    "    #---- 2. Dados de teste:\n",
    "    \n",
    "    valid = df.query(f'ds >= \"{dt_start_train}\"')\n",
    "\n",
    "    return train, valid"
   ]
  },
  {
   "cell_type": "code",
   "execution_count": 11,
   "id": "81fb172d-6cbb-42bf-aa05-0ce41449f927",
   "metadata": {},
   "outputs": [
    {
     "name": "stdout",
     "output_type": "stream",
     "text": [
      "time: 84 ms (started: 2024-01-04 12:16:59 -03:00)\n"
     ]
    }
   ],
   "source": [
    "Y_train_df, Y_valid_df = split_train_test(df = Y_df, dt_start_train = '2009-01-01')"
   ]
  },
  {
   "cell_type": "code",
   "execution_count": 12,
   "id": "47b95cd4-22d4-4bb8-9b74-63256f9db6d8",
   "metadata": {},
   "outputs": [
    {
     "data": {
      "text/html": [
       "<div>\n",
       "<style scoped>\n",
       "    .dataframe tbody tr th:only-of-type {\n",
       "        vertical-align: middle;\n",
       "    }\n",
       "\n",
       "    .dataframe tbody tr th {\n",
       "        vertical-align: top;\n",
       "    }\n",
       "\n",
       "    .dataframe thead th {\n",
       "        text-align: right;\n",
       "    }\n",
       "</style>\n",
       "<table border=\"1\" class=\"dataframe\">\n",
       "  <thead>\n",
       "    <tr style=\"text-align: right;\">\n",
       "      <th></th>\n",
       "      <th>ds</th>\n",
       "      <th>y</th>\n",
       "    </tr>\n",
       "    <tr>\n",
       "      <th>unique_id</th>\n",
       "      <th></th>\n",
       "      <th></th>\n",
       "    </tr>\n",
       "  </thead>\n",
       "  <tbody>\n",
       "    <tr>\n",
       "      <th>EastNorthCentral</th>\n",
       "      <td>1997-11-25</td>\n",
       "      <td>507</td>\n",
       "    </tr>\n",
       "    <tr>\n",
       "      <th>EastNorthCentral</th>\n",
       "      <td>1997-11-26</td>\n",
       "      <td>504</td>\n",
       "    </tr>\n",
       "    <tr>\n",
       "      <th>EastNorthCentral</th>\n",
       "      <td>1997-11-27</td>\n",
       "      <td>510</td>\n",
       "    </tr>\n",
       "    <tr>\n",
       "      <th>EastNorthCentral</th>\n",
       "      <td>1997-11-28</td>\n",
       "      <td>507</td>\n",
       "    </tr>\n",
       "    <tr>\n",
       "      <th>EastNorthCentral</th>\n",
       "      <td>1997-11-29</td>\n",
       "      <td>513</td>\n",
       "    </tr>\n",
       "  </tbody>\n",
       "</table>\n",
       "</div>"
      ],
      "text/plain": [
       "                         ds    y\n",
       "unique_id                       \n",
       "EastNorthCentral 1997-11-25  507\n",
       "EastNorthCentral 1997-11-26  504\n",
       "EastNorthCentral 1997-11-27  510\n",
       "EastNorthCentral 1997-11-28  507\n",
       "EastNorthCentral 1997-11-29  513"
      ]
     },
     "metadata": {},
     "output_type": "display_data"
    },
    {
     "data": {
      "text/html": [
       "<div>\n",
       "<style scoped>\n",
       "    .dataframe tbody tr th:only-of-type {\n",
       "        vertical-align: middle;\n",
       "    }\n",
       "\n",
       "    .dataframe tbody tr th {\n",
       "        vertical-align: top;\n",
       "    }\n",
       "\n",
       "    .dataframe thead th {\n",
       "        text-align: right;\n",
       "    }\n",
       "</style>\n",
       "<table border=\"1\" class=\"dataframe\">\n",
       "  <thead>\n",
       "    <tr style=\"text-align: right;\">\n",
       "      <th></th>\n",
       "      <th>ds</th>\n",
       "      <th>y</th>\n",
       "    </tr>\n",
       "    <tr>\n",
       "      <th>unique_id</th>\n",
       "      <th></th>\n",
       "      <th></th>\n",
       "    </tr>\n",
       "  </thead>\n",
       "  <tbody>\n",
       "    <tr>\n",
       "      <th>SouthCentral/Tennessee/womens_shoes</th>\n",
       "      <td>2008-12-27</td>\n",
       "      <td>31</td>\n",
       "    </tr>\n",
       "    <tr>\n",
       "      <th>SouthCentral/Tennessee/womens_shoes</th>\n",
       "      <td>2008-12-28</td>\n",
       "      <td>29</td>\n",
       "    </tr>\n",
       "    <tr>\n",
       "      <th>SouthCentral/Tennessee/womens_shoes</th>\n",
       "      <td>2008-12-29</td>\n",
       "      <td>28</td>\n",
       "    </tr>\n",
       "    <tr>\n",
       "      <th>SouthCentral/Tennessee/womens_shoes</th>\n",
       "      <td>2008-12-30</td>\n",
       "      <td>31</td>\n",
       "    </tr>\n",
       "    <tr>\n",
       "      <th>SouthCentral/Tennessee/womens_shoes</th>\n",
       "      <td>2008-12-31</td>\n",
       "      <td>31</td>\n",
       "    </tr>\n",
       "  </tbody>\n",
       "</table>\n",
       "</div>"
      ],
      "text/plain": [
       "                                            ds   y\n",
       "unique_id                                         \n",
       "SouthCentral/Tennessee/womens_shoes 2008-12-27  31\n",
       "SouthCentral/Tennessee/womens_shoes 2008-12-28  29\n",
       "SouthCentral/Tennessee/womens_shoes 2008-12-29  28\n",
       "SouthCentral/Tennessee/womens_shoes 2008-12-30  31\n",
       "SouthCentral/Tennessee/womens_shoes 2008-12-31  31"
      ]
     },
     "metadata": {},
     "output_type": "display_data"
    },
    {
     "name": "stdout",
     "output_type": "stream",
     "text": [
      "time: 12.6 ms (started: 2024-01-04 12:16:59 -03:00)\n"
     ]
    }
   ],
   "source": [
    "display(Y_train_df.head())\n",
    "display(Y_train_df.tail())"
   ]
  },
  {
   "cell_type": "markdown",
   "id": "8956e935-9676-4bb9-af9e-1fe224fab5ff",
   "metadata": {},
   "source": [
    "## 3. Modelagem"
   ]
  },
  {
   "cell_type": "code",
   "execution_count": 13,
   "id": "b37fe06b-8c83-42a7-a2d2-1867178ed95e",
   "metadata": {},
   "outputs": [
    {
     "name": "stdout",
     "output_type": "stream",
     "text": [
      "time: 5.29 ms (started: 2024-01-04 12:16:59 -03:00)\n"
     ]
    }
   ],
   "source": [
    "#---- Features de data:\n",
    "\n",
    "from numba import njit\n",
    "from window_ops.expanding import expanding_mean\n",
    "from window_ops.rolling import rolling_mean\n",
    "\n",
    "@njit\n",
    "def rolling_mean_7(x):\n",
    "    return rolling_mean(x, window_size = 7)\n",
    "\n",
    "@njit\n",
    "def rolling_mean_14(x):\n",
    "    return rolling_mean(x, window_size = 14)\n",
    "\n",
    "@njit\n",
    "def rolling_mean_21(x):\n",
    "    return rolling_mean(x, window_size = 21)\n",
    "\n",
    "@njit\n",
    "def rolling_mean_28(x):\n",
    "    return rolling_mean(x, window_size = 28)"
   ]
  },
  {
   "cell_type": "code",
   "execution_count": 14,
   "id": "c04b9326-f9ba-437c-ac6d-c8c3f93a646c",
   "metadata": {},
   "outputs": [
    {
     "name": "stdout",
     "output_type": "stream",
     "text": [
      "time: 1.77 ms (started: 2024-01-04 12:16:59 -03:00)\n"
     ]
    }
   ],
   "source": [
    "def rmse(y_true, y_pred):\n",
    "    \n",
    "    return np.sqrt(np.mean(np.square(y_true - y_pred)))"
   ]
  },
  {
   "cell_type": "code",
   "execution_count": 15,
   "id": "c1ff6523-bf87-44f7-aa2a-030194720f2e",
   "metadata": {},
   "outputs": [
    {
     "name": "stdout",
     "output_type": "stream",
     "text": [
      "time: 2.63 ms (started: 2024-01-04 12:16:59 -03:00)\n"
     ]
    }
   ],
   "source": [
    "n_horizon = Y_valid_df.ds.nunique() # Quantidade de dias para a projeção"
   ]
  },
  {
   "cell_type": "code",
   "execution_count": 16,
   "id": "321e58af-abf9-4769-a88f-0fe76334de3a",
   "metadata": {},
   "outputs": [
    {
     "name": "stdout",
     "output_type": "stream",
     "text": [
      "time: 326 ms (started: 2024-01-04 12:16:59 -03:00)\n"
     ]
    },
    {
     "name": "stderr",
     "output_type": "stream",
     "text": [
      "/home/rafa/Documentos/github/multiple-time-series-forecast/venv/lib/python3.10/site-packages/tqdm/auto.py:21: TqdmWarning: IProgress not found. Please update jupyter and ipywidgets. See https://ipywidgets.readthedocs.io/en/stable/user_install.html\n",
      "  from .autonotebook import tqdm as notebook_tqdm\n"
     ]
    }
   ],
   "source": [
    "import optuna\n",
    "from sklearn.metrics import mean_squared_error\n",
    "\n",
    "def objective(trial):\n",
    "\n",
    "    max_depth = trial.suggest_int('max_depth', 3, 15)\n",
    "    min_samples_split = trial.suggest_float('min_samples_split', 0.1, 1.0)\n",
    "    min_samples_leaf = trial.suggest_float('min_samples_leaf', 0.1, 0.5)\n",
    "    max_features = trial.suggest_float('max_features', 0.1, 1.0)\n",
    "\n",
    "    dec_tree = DecisionTreeRegressor(random_state = 19, \n",
    "                                     max_depth = max_depth,\n",
    "                                     min_samples_split = min_samples_split,\n",
    "                                     min_samples_leaf = min_samples_leaf,\n",
    "                                     max_features = max_features) \n",
    "    \n",
    "    models_list = [dec_tree]\n",
    "\n",
    "    model = MLForecast(models = models_list,\n",
    "                       freq = 'D',\n",
    "                       num_threads = 6,\n",
    "                       lags = [1, 7, 14, 21, 28, 30], \n",
    "                       date_features = ['dayofweek', 'month', 'year', 'quarter', 'day', 'week'],\n",
    "                       lag_transforms = {\n",
    "                           1: [expanding_mean],\n",
    "                           7: [rolling_mean_7],\n",
    "                           14: [rolling_mean_14],\n",
    "                           21: [rolling_mean_21],\n",
    "                           28: [rolling_mean_28],\n",
    "                       }\n",
    "               )\n",
    "\n",
    "    model.fit(Y_train_df.reset_index(), id_col = 'unique_id', time_col = 'ds', target_col = 'y', fitted = True)\n",
    "\n",
    "    Y_hat_df = model.predict(h = n_horizon)\n",
    "\n",
    "    p = Y_hat_df.reset_index().merge(Y_valid_df.reset_index(), on = ['unique_id', 'ds'], how = 'left')\n",
    "\n",
    "    error = rmse(p['y'], p['DecisionTreeRegressor'])\n",
    "    \n",
    "    return error"
   ]
  },
  {
   "cell_type": "code",
   "execution_count": 17,
   "id": "8177f556-5759-41bd-93bc-9cc6a29af1eb",
   "metadata": {},
   "outputs": [
    {
     "name": "stderr",
     "output_type": "stream",
     "text": [
      "[I 2024-01-04 12:17:00,255] A new study created in memory with name: no-name-625ff928-4989-40c5-9aa8-79fa52e63621\n",
      "[I 2024-01-04 12:17:10,122] Trial 0 finished with value: 207.83736313631593 and parameters: {'max_depth': 15, 'min_samples_split': 0.11066409463439794, 'min_samples_leaf': 0.2217124074054182, 'max_features': 0.5039649175254981}. Best is trial 0 with value: 207.83736313631593.\n",
      "[I 2024-01-04 12:17:13,041] Trial 1 finished with value: 246.60828939522204 and parameters: {'max_depth': 5, 'min_samples_split': 0.3839721352877493, 'min_samples_leaf': 0.46364927165163006, 'max_features': 0.2363977299579}. Best is trial 0 with value: 207.83736313631593.\n",
      "[I 2024-01-04 12:17:16,306] Trial 2 finished with value: 218.5790662142466 and parameters: {'max_depth': 9, 'min_samples_split': 0.9690925635138773, 'min_samples_leaf': 0.29587172243265947, 'max_features': 0.46029178148881533}. Best is trial 0 with value: 207.83736313631593.\n",
      "[I 2024-01-04 12:17:19,549] Trial 3 finished with value: 241.09204184070862 and parameters: {'max_depth': 9, 'min_samples_split': 0.7260923790449368, 'min_samples_leaf': 0.41873165617441865, 'max_features': 0.2620722058776891}. Best is trial 0 with value: 207.83736313631593.\n",
      "[I 2024-01-04 12:17:22,576] Trial 4 finished with value: 237.60594809445735 and parameters: {'max_depth': 13, 'min_samples_split': 0.2583762567926584, 'min_samples_leaf': 0.3869059927687435, 'max_features': 0.38090059666231013}. Best is trial 0 with value: 207.83736313631593.\n",
      "[I 2024-01-04 12:17:27,068] Trial 5 finished with value: 199.33683909670495 and parameters: {'max_depth': 12, 'min_samples_split': 0.4586475637535957, 'min_samples_leaf': 0.17840056400041351, 'max_features': 0.9930542042768655}. Best is trial 5 with value: 199.33683909670495.\n",
      "[I 2024-01-04 12:17:30,366] Trial 6 finished with value: 216.5115132748997 and parameters: {'max_depth': 11, 'min_samples_split': 0.9056909469336739, 'min_samples_leaf': 0.27638457667426386, 'max_features': 0.18142842656772043}. Best is trial 5 with value: 199.33683909670495.\n",
      "[I 2024-01-04 12:17:33,657] Trial 7 finished with value: 197.17298579502264 and parameters: {'max_depth': 10, 'min_samples_split': 0.6044014804615563, 'min_samples_leaf': 0.15160568743154335, 'max_features': 0.4557819477168926}. Best is trial 7 with value: 197.17298579502264.\n",
      "[I 2024-01-04 12:17:36,857] Trial 8 finished with value: 210.889268225663 and parameters: {'max_depth': 4, 'min_samples_split': 0.6887594404282675, 'min_samples_leaf': 0.23725642389480173, 'max_features': 0.5500952503034604}. Best is trial 7 with value: 197.17298579502264.\n",
      "[I 2024-01-04 12:17:40,318] Trial 9 finished with value: 214.5604538332342 and parameters: {'max_depth': 14, 'min_samples_split': 0.19522840291937255, 'min_samples_leaf': 0.2716243486183206, 'max_features': 0.8377067918286031}. Best is trial 7 with value: 197.17298579502264.\n",
      "[I 2024-01-04 12:17:43,862] Trial 10 finished with value: 186.45360212971386 and parameters: {'max_depth': 7, 'min_samples_split': 0.6672381353533826, 'min_samples_leaf': 0.10648894956306261, 'max_features': 0.6871687589270961}. Best is trial 10 with value: 186.45360212971386.\n",
      "[I 2024-01-04 12:17:47,402] Trial 11 finished with value: 185.37554724589458 and parameters: {'max_depth': 7, 'min_samples_split': 0.6141414272711779, 'min_samples_leaf': 0.10490752303478545, 'max_features': 0.6954315642564219}. Best is trial 11 with value: 185.37554724589458.\n",
      "[I 2024-01-04 12:17:51,620] Trial 12 finished with value: 184.91002557243777 and parameters: {'max_depth': 7, 'min_samples_split': 0.79042294685385, 'min_samples_leaf': 0.10204962844878346, 'max_features': 0.69719869350979}. Best is trial 12 with value: 184.91002557243777.\n",
      "[I 2024-01-04 12:17:55,228] Trial 13 finished with value: 186.6407687968875 and parameters: {'max_depth': 7, 'min_samples_split': 0.829526050706621, 'min_samples_leaf': 0.1023273233379743, 'max_features': 0.7011485577325419}. Best is trial 12 with value: 184.91002557243777.\n",
      "[I 2024-01-04 12:17:58,804] Trial 14 finished with value: 198.2646348467204 and parameters: {'max_depth': 6, 'min_samples_split': 0.5017650428512878, 'min_samples_leaf': 0.16697601300535603, 'max_features': 0.7013204528713958}. Best is trial 12 with value: 184.91002557243777.\n",
      "[I 2024-01-04 12:18:02,010] Trial 15 finished with value: 234.4493038365021 and parameters: {'max_depth': 3, 'min_samples_split': 0.8188817454432075, 'min_samples_leaf': 0.37231140018912146, 'max_features': 0.8348610626918714}. Best is trial 12 with value: 184.91002557243777.\n",
      "[I 2024-01-04 12:18:05,147] Trial 16 finished with value: 196.1329801270415 and parameters: {'max_depth': 8, 'min_samples_split': 0.7732604529200117, 'min_samples_leaf': 0.1455998669843993, 'max_features': 0.6135937790058972}. Best is trial 12 with value: 184.91002557243777.\n",
      "[I 2024-01-04 12:18:08,559] Trial 17 finished with value: 205.98202218330542 and parameters: {'max_depth': 5, 'min_samples_split': 0.5525673175046214, 'min_samples_leaf': 0.20734836591741984, 'max_features': 0.8525870627875882}. Best is trial 12 with value: 184.91002557243777.\n",
      "[I 2024-01-04 12:18:12,881] Trial 18 finished with value: 183.7324358084525 and parameters: {'max_depth': 7, 'min_samples_split': 0.40868549783968977, 'min_samples_leaf': 0.10047873536633527, 'max_features': 0.9772330502742559}. Best is trial 18 with value: 183.7324358084525.\n",
      "[I 2024-01-04 12:18:16,012] Trial 19 finished with value: 223.60015537576115 and parameters: {'max_depth': 10, 'min_samples_split': 0.3669848303942983, 'min_samples_leaf': 0.338094279295073, 'max_features': 0.980572054286947}. Best is trial 18 with value: 183.7324358084525.\n",
      "[I 2024-01-04 12:18:19,498] Trial 20 finished with value: 250.94268554355702 and parameters: {'max_depth': 3, 'min_samples_split': 0.35471288813394797, 'min_samples_leaf': 0.49642177532551274, 'max_features': 0.9010062317956831}. Best is trial 18 with value: 183.7324358084525.\n",
      "[I 2024-01-04 12:18:23,339] Trial 21 finished with value: 190.0542683353215 and parameters: {'max_depth': 7, 'min_samples_split': 0.6237029767793189, 'min_samples_leaf': 0.12666212088445292, 'max_features': 0.7256236241380565}. Best is trial 18 with value: 183.7324358084525.\n",
      "[I 2024-01-04 12:18:27,085] Trial 22 finished with value: 201.28263517786914 and parameters: {'max_depth': 6, 'min_samples_split': 0.497976922687322, 'min_samples_leaf': 0.18650275298195562, 'max_features': 0.6066422955926023}. Best is trial 18 with value: 183.7324358084525.\n",
      "[I 2024-01-04 12:18:31,056] Trial 23 finished with value: 191.91070227033032 and parameters: {'max_depth': 8, 'min_samples_split': 0.5848464269025815, 'min_samples_leaf': 0.1330693753345291, 'max_features': 0.8042694910107117}. Best is trial 18 with value: 183.7324358084525.\n",
      "[I 2024-01-04 12:18:34,955] Trial 24 finished with value: 185.28373228147134 and parameters: {'max_depth': 8, 'min_samples_split': 0.4244639981233126, 'min_samples_leaf': 0.10510384700476719, 'max_features': 0.7654403553038145}. Best is trial 18 with value: 183.7324358084525.\n",
      "[I 2024-01-04 12:18:39,159] Trial 25 finished with value: 202.04290437348507 and parameters: {'max_depth': 8, 'min_samples_split': 0.42191491847701224, 'min_samples_leaf': 0.1948087423144076, 'max_features': 0.899074500199454}. Best is trial 18 with value: 183.7324358084525.\n",
      "[I 2024-01-04 12:18:42,982] Trial 26 finished with value: 195.1599276329675 and parameters: {'max_depth': 5, 'min_samples_split': 0.28675563943143456, 'min_samples_leaf': 0.14044808528736552, 'max_features': 0.7675828892718}. Best is trial 18 with value: 183.7324358084525.\n",
      "[I 2024-01-04 12:18:46,505] Trial 27 finished with value: 211.68311153057118 and parameters: {'max_depth': 10, 'min_samples_split': 0.2957236335914067, 'min_samples_leaf': 0.24579895403815616, 'max_features': 0.9070743132707801}. Best is trial 18 with value: 183.7324358084525.\n",
      "[I 2024-01-04 12:18:49,974] Trial 28 finished with value: 198.04870616203812 and parameters: {'max_depth': 6, 'min_samples_split': 0.19936990953598466, 'min_samples_leaf': 0.16565897296253257, 'max_features': 0.5985834038786555}. Best is trial 18 with value: 183.7324358084525.\n",
      "[I 2024-01-04 12:18:53,656] Trial 29 finished with value: 207.52397226219213 and parameters: {'max_depth': 8, 'min_samples_split': 0.14666488583820392, 'min_samples_leaf': 0.2178735307178854, 'max_features': 0.940676726928938}. Best is trial 18 with value: 183.7324358084525.\n"
     ]
    },
    {
     "name": "stdout",
     "output_type": "stream",
     "text": [
      "time: 1min 53s (started: 2024-01-04 12:17:00 -03:00)\n"
     ]
    }
   ],
   "source": [
    "study = optuna.create_study(direction = 'minimize')\n",
    "study.optimize(objective, n_trials = 30)"
   ]
  },
  {
   "cell_type": "code",
   "execution_count": 18,
   "id": "2cb4227a-abb5-4060-bb5d-2f0db10db0a4",
   "metadata": {},
   "outputs": [
    {
     "data": {
      "text/plain": [
       "{'max_depth': 7,\n",
       " 'min_samples_split': 0.40868549783968977,\n",
       " 'min_samples_leaf': 0.10047873536633527,\n",
       " 'max_features': 0.9772330502742559}"
      ]
     },
     "execution_count": 18,
     "metadata": {},
     "output_type": "execute_result"
    },
    {
     "name": "stdout",
     "output_type": "stream",
     "text": [
      "time: 3.08 ms (started: 2024-01-04 12:18:53 -03:00)\n"
     ]
    }
   ],
   "source": [
    "study.best_params"
   ]
  },
  {
   "cell_type": "code",
   "execution_count": 19,
   "id": "75f21d97-912b-4908-893b-570158ce5301",
   "metadata": {},
   "outputs": [
    {
     "data": {
      "text/plain": [
       "183.7324358084525"
      ]
     },
     "execution_count": 19,
     "metadata": {},
     "output_type": "execute_result"
    },
    {
     "name": "stdout",
     "output_type": "stream",
     "text": [
      "time: 2.85 ms (started: 2024-01-04 12:18:53 -03:00)\n"
     ]
    }
   ],
   "source": [
    "study.best_value"
   ]
  }
 ],
 "metadata": {
  "kernelspec": {
   "display_name": "Python 3 (ipykernel)",
   "language": "python",
   "name": "python3"
  },
  "language_info": {
   "codemirror_mode": {
    "name": "ipython",
    "version": 3
   },
   "file_extension": ".py",
   "mimetype": "text/x-python",
   "name": "python",
   "nbconvert_exporter": "python",
   "pygments_lexer": "ipython3",
   "version": "3.10.6"
  }
 },
 "nbformat": 4,
 "nbformat_minor": 5
}
