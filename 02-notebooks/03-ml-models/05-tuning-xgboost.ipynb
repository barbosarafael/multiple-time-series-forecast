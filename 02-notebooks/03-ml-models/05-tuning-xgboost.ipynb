{
 "cells": [
  {
   "cell_type": "markdown",
   "id": "139dc490-23d0-49ed-863f-ee062f809725",
   "metadata": {},
   "source": [
    "# Modelos de ML\n",
    "\n",
    "**Objetivo**: Criar modelos de ML para a projeção de todas as nossas séries.\n",
    "\n",
    "**Metodologias**: \n",
    "\n",
    "- Regressão Linear\n",
    "- Árvore de decisão\n",
    "- Random Forest\n",
    "- XGBoost\n",
    "- LightGBM"
   ]
  },
  {
   "cell_type": "markdown",
   "id": "4dcfa96b-bb88-4d49-b0fe-37e18b813067",
   "metadata": {},
   "source": [
    "## 0. Setup"
   ]
  },
  {
   "cell_type": "code",
   "execution_count": 1,
   "id": "2557e764-2692-481e-b5aa-acbfe1cfb93e",
   "metadata": {},
   "outputs": [
    {
     "name": "stdout",
     "output_type": "stream",
     "text": [
      "time: 162 µs (started: 2024-01-04 15:21:35 -03:00)\n"
     ]
    }
   ],
   "source": [
    "%load_ext autotime"
   ]
  },
  {
   "cell_type": "code",
   "execution_count": 2,
   "id": "06549e4f-9c06-4888-b9d5-6c74c26c4ab3",
   "metadata": {},
   "outputs": [
    {
     "name": "stdout",
     "output_type": "stream",
     "text": [
      "time: 4.35 s (started: 2024-01-04 15:21:35 -03:00)\n"
     ]
    }
   ],
   "source": [
    "#---- Manipulação de dados:\n",
    "\n",
    "import pandas as pd\n",
    "import numpy as np\n",
    "\n",
    "#---- Modelagem:\n",
    "\n",
    "from hierarchicalforecast.utils import aggregate\n",
    "from mlforecast import MLForecast\n",
    "from sklearn.linear_model import LinearRegression\n",
    "from sklearn.tree import DecisionTreeRegressor\n",
    "from sklearn.ensemble import RandomForestRegressor\n",
    "from lightgbm import LGBMRegressor\n",
    "from xgboost import XGBRegressor\n",
    "\n",
    "#---- Reconciliação\n",
    "\n",
    "from hierarchicalforecast.methods import BottomUp, TopDown, ERM, OptimalCombination, MinTrace, MiddleOut\n",
    "from hierarchicalforecast.core import HierarchicalReconciliation\n",
    "\n",
    "#---- Visualização\n",
    "\n",
    "import plotly.express as px"
   ]
  },
  {
   "cell_type": "markdown",
   "id": "ba1f788c-d0b4-42e4-bfd4-2fb54590d30b",
   "metadata": {},
   "source": [
    "## 1. Dados: vendas de roupas no varejo"
   ]
  },
  {
   "cell_type": "code",
   "execution_count": 3,
   "id": "93320272-0944-46c3-9a29-e7316bf00f95",
   "metadata": {},
   "outputs": [
    {
     "data": {
      "text/html": [
       "<div>\n",
       "<style scoped>\n",
       "    .dataframe tbody tr th:only-of-type {\n",
       "        vertical-align: middle;\n",
       "    }\n",
       "\n",
       "    .dataframe tbody tr th {\n",
       "        vertical-align: top;\n",
       "    }\n",
       "\n",
       "    .dataframe thead th {\n",
       "        text-align: right;\n",
       "    }\n",
       "</style>\n",
       "<table border=\"1\" class=\"dataframe\">\n",
       "  <thead>\n",
       "    <tr style=\"text-align: right;\">\n",
       "      <th></th>\n",
       "      <th>date</th>\n",
       "      <th>state</th>\n",
       "      <th>item</th>\n",
       "      <th>quantity</th>\n",
       "      <th>region</th>\n",
       "      <th>country</th>\n",
       "    </tr>\n",
       "  </thead>\n",
       "  <tbody>\n",
       "    <tr>\n",
       "      <th>0</th>\n",
       "      <td>1997-11-25</td>\n",
       "      <td>NewYork</td>\n",
       "      <td>mens_clothing</td>\n",
       "      <td>8</td>\n",
       "      <td>Mid-Alantic</td>\n",
       "      <td>USA</td>\n",
       "    </tr>\n",
       "    <tr>\n",
       "      <th>1</th>\n",
       "      <td>1997-11-26</td>\n",
       "      <td>NewYork</td>\n",
       "      <td>mens_clothing</td>\n",
       "      <td>9</td>\n",
       "      <td>Mid-Alantic</td>\n",
       "      <td>USA</td>\n",
       "    </tr>\n",
       "    <tr>\n",
       "      <th>2</th>\n",
       "      <td>1997-11-27</td>\n",
       "      <td>NewYork</td>\n",
       "      <td>mens_clothing</td>\n",
       "      <td>11</td>\n",
       "      <td>Mid-Alantic</td>\n",
       "      <td>USA</td>\n",
       "    </tr>\n",
       "    <tr>\n",
       "      <th>3</th>\n",
       "      <td>1997-11-28</td>\n",
       "      <td>NewYork</td>\n",
       "      <td>mens_clothing</td>\n",
       "      <td>11</td>\n",
       "      <td>Mid-Alantic</td>\n",
       "      <td>USA</td>\n",
       "    </tr>\n",
       "    <tr>\n",
       "      <th>4</th>\n",
       "      <td>1997-11-29</td>\n",
       "      <td>NewYork</td>\n",
       "      <td>mens_clothing</td>\n",
       "      <td>10</td>\n",
       "      <td>Mid-Alantic</td>\n",
       "      <td>USA</td>\n",
       "    </tr>\n",
       "  </tbody>\n",
       "</table>\n",
       "</div>"
      ],
      "text/plain": [
       "         date    state           item  quantity       region country\n",
       "0  1997-11-25  NewYork  mens_clothing         8  Mid-Alantic     USA\n",
       "1  1997-11-26  NewYork  mens_clothing         9  Mid-Alantic     USA\n",
       "2  1997-11-27  NewYork  mens_clothing        11  Mid-Alantic     USA\n",
       "3  1997-11-28  NewYork  mens_clothing        11  Mid-Alantic     USA\n",
       "4  1997-11-29  NewYork  mens_clothing        10  Mid-Alantic     USA"
      ]
     },
     "execution_count": 3,
     "metadata": {},
     "output_type": "execute_result"
    },
    {
     "name": "stdout",
     "output_type": "stream",
     "text": [
      "time: 1.77 s (started: 2024-01-04 15:21:40 -03:00)\n"
     ]
    }
   ],
   "source": [
    "dados = pd.read_csv('https://raw.githubusercontent.com/aws-samples/amazon-sagemaker-hierarchical-forecasting/main/retail-usa-clothing.csv')\n",
    "\n",
    "dados.head()"
   ]
  },
  {
   "cell_type": "code",
   "execution_count": 4,
   "id": "703297e3-1652-4727-9b18-c9ac373696c1",
   "metadata": {},
   "outputs": [
    {
     "name": "stdout",
     "output_type": "stream",
     "text": [
      "<class 'pandas.core.frame.DataFrame'>\n",
      "RangeIndex: 388024 entries, 0 to 388023\n",
      "Data columns (total 6 columns):\n",
      " #   Column    Non-Null Count   Dtype \n",
      "---  ------    --------------   ----- \n",
      " 0   date      388024 non-null  object\n",
      " 1   state     388024 non-null  object\n",
      " 2   item      388024 non-null  object\n",
      " 3   quantity  388024 non-null  int64 \n",
      " 4   region    388024 non-null  object\n",
      " 5   country   388024 non-null  object\n",
      "dtypes: int64(1), object(5)\n",
      "memory usage: 17.8+ MB\n",
      "time: 66.2 ms (started: 2024-01-04 15:21:41 -03:00)\n"
     ]
    }
   ],
   "source": [
    "dados.info()"
   ]
  },
  {
   "cell_type": "markdown",
   "id": "7303d5ca-61fb-4679-878f-89ac4888edf4",
   "metadata": {},
   "source": [
    "## 2. Modificação nos dados "
   ]
  },
  {
   "cell_type": "code",
   "execution_count": 5,
   "id": "75cb6b8b-03a1-4768-9e60-214606dadb7f",
   "metadata": {},
   "outputs": [
    {
     "name": "stdout",
     "output_type": "stream",
     "text": [
      "time: 597 µs (started: 2024-01-04 15:21:41 -03:00)\n"
     ]
    }
   ],
   "source": [
    "def clean_data_baseline(df: pd.DataFrame):\n",
    "\n",
    "    #---- 1. Excluindo a variável de country:\n",
    "\n",
    "    df = df\\\n",
    "        .drop(columns = 'country')\n",
    "\n",
    "    #---- 2. Mudando o tipo da variável de date para datetime:\n",
    "\n",
    "    df['date'] = pd.to_datetime(df['date'])\n",
    "\n",
    "    #---- 3. Renomeando as variáveis de quantidade de vendas e data:\n",
    "    # date -> ds\n",
    "    # quantity -> y\n",
    "\n",
    "    df = df\\\n",
    "        .rename(columns = {'date': 'ds', \n",
    "                           'quantity': 'y'})\n",
    "\n",
    "    return df"
   ]
  },
  {
   "cell_type": "code",
   "execution_count": 6,
   "id": "296b83a2-cd3a-4920-b992-afd9752364ac",
   "metadata": {},
   "outputs": [
    {
     "data": {
      "text/html": [
       "<div>\n",
       "<style scoped>\n",
       "    .dataframe tbody tr th:only-of-type {\n",
       "        vertical-align: middle;\n",
       "    }\n",
       "\n",
       "    .dataframe tbody tr th {\n",
       "        vertical-align: top;\n",
       "    }\n",
       "\n",
       "    .dataframe thead th {\n",
       "        text-align: right;\n",
       "    }\n",
       "</style>\n",
       "<table border=\"1\" class=\"dataframe\">\n",
       "  <thead>\n",
       "    <tr style=\"text-align: right;\">\n",
       "      <th></th>\n",
       "      <th>ds</th>\n",
       "      <th>state</th>\n",
       "      <th>item</th>\n",
       "      <th>y</th>\n",
       "      <th>region</th>\n",
       "    </tr>\n",
       "  </thead>\n",
       "  <tbody>\n",
       "    <tr>\n",
       "      <th>0</th>\n",
       "      <td>1997-11-25</td>\n",
       "      <td>NewYork</td>\n",
       "      <td>mens_clothing</td>\n",
       "      <td>8</td>\n",
       "      <td>Mid-Alantic</td>\n",
       "    </tr>\n",
       "    <tr>\n",
       "      <th>1</th>\n",
       "      <td>1997-11-26</td>\n",
       "      <td>NewYork</td>\n",
       "      <td>mens_clothing</td>\n",
       "      <td>9</td>\n",
       "      <td>Mid-Alantic</td>\n",
       "    </tr>\n",
       "    <tr>\n",
       "      <th>2</th>\n",
       "      <td>1997-11-27</td>\n",
       "      <td>NewYork</td>\n",
       "      <td>mens_clothing</td>\n",
       "      <td>11</td>\n",
       "      <td>Mid-Alantic</td>\n",
       "    </tr>\n",
       "    <tr>\n",
       "      <th>3</th>\n",
       "      <td>1997-11-28</td>\n",
       "      <td>NewYork</td>\n",
       "      <td>mens_clothing</td>\n",
       "      <td>11</td>\n",
       "      <td>Mid-Alantic</td>\n",
       "    </tr>\n",
       "    <tr>\n",
       "      <th>4</th>\n",
       "      <td>1997-11-29</td>\n",
       "      <td>NewYork</td>\n",
       "      <td>mens_clothing</td>\n",
       "      <td>10</td>\n",
       "      <td>Mid-Alantic</td>\n",
       "    </tr>\n",
       "  </tbody>\n",
       "</table>\n",
       "</div>"
      ],
      "text/plain": [
       "          ds    state           item   y       region\n",
       "0 1997-11-25  NewYork  mens_clothing   8  Mid-Alantic\n",
       "1 1997-11-26  NewYork  mens_clothing   9  Mid-Alantic\n",
       "2 1997-11-27  NewYork  mens_clothing  11  Mid-Alantic\n",
       "3 1997-11-28  NewYork  mens_clothing  11  Mid-Alantic\n",
       "4 1997-11-29  NewYork  mens_clothing  10  Mid-Alantic"
      ]
     },
     "execution_count": 6,
     "metadata": {},
     "output_type": "execute_result"
    },
    {
     "name": "stdout",
     "output_type": "stream",
     "text": [
      "time: 95.6 ms (started: 2024-01-04 15:21:41 -03:00)\n"
     ]
    }
   ],
   "source": [
    "df = clean_data_baseline(df = dados)\n",
    "\n",
    "df.head()"
   ]
  },
  {
   "cell_type": "code",
   "execution_count": 7,
   "id": "3afc572f-4479-45ef-b9c0-2dfe4af461ce",
   "metadata": {},
   "outputs": [
    {
     "name": "stdout",
     "output_type": "stream",
     "text": [
      "time: 690 µs (started: 2024-01-04 15:21:42 -03:00)\n"
     ]
    }
   ],
   "source": [
    "def format_hierarchical_df(df: pd.DataFrame, cols_hierarchical: list):\n",
    "\n",
    "    #---- 1. Cria uma lista de listas: [[col1], [col1, col2], ..., [col1, col2, coln]]\n",
    "\n",
    "    hier_list = [cols_hierarchical[:i] for i in range(1, len(cols_hierarchical) + 1)]\n",
    "\n",
    "    #---- 2. Aplica a função aggregate que formata os dados em que a lib hierarchical pede\n",
    "\n",
    "    Y_df, S_df, tags = aggregate(df = df, spec = hier_list)\n",
    "\n",
    "    return Y_df, S_df, tags"
   ]
  },
  {
   "cell_type": "code",
   "execution_count": 8,
   "id": "999fc534-c03f-4553-a325-1a623f8f9228",
   "metadata": {},
   "outputs": [
    {
     "name": "stdout",
     "output_type": "stream",
     "text": [
      "time: 536 ms (started: 2024-01-04 15:21:42 -03:00)\n"
     ]
    }
   ],
   "source": [
    "cols_hierarchical = ['region', 'state', 'item']\n",
    "\n",
    "Y_df, S_df, tags = format_hierarchical_df(df = df, cols_hierarchical = cols_hierarchical)"
   ]
  },
  {
   "cell_type": "code",
   "execution_count": 9,
   "id": "98141e69-66c8-4ea6-af22-963af1f42a3c",
   "metadata": {},
   "outputs": [
    {
     "data": {
      "text/html": [
       "<div>\n",
       "<style scoped>\n",
       "    .dataframe tbody tr th:only-of-type {\n",
       "        vertical-align: middle;\n",
       "    }\n",
       "\n",
       "    .dataframe tbody tr th {\n",
       "        vertical-align: top;\n",
       "    }\n",
       "\n",
       "    .dataframe thead th {\n",
       "        text-align: right;\n",
       "    }\n",
       "</style>\n",
       "<table border=\"1\" class=\"dataframe\">\n",
       "  <thead>\n",
       "    <tr style=\"text-align: right;\">\n",
       "      <th></th>\n",
       "      <th>ds</th>\n",
       "      <th>y</th>\n",
       "    </tr>\n",
       "    <tr>\n",
       "      <th>unique_id</th>\n",
       "      <th></th>\n",
       "      <th></th>\n",
       "    </tr>\n",
       "  </thead>\n",
       "  <tbody>\n",
       "    <tr>\n",
       "      <th>EastNorthCentral</th>\n",
       "      <td>1997-11-25</td>\n",
       "      <td>507</td>\n",
       "    </tr>\n",
       "    <tr>\n",
       "      <th>EastNorthCentral</th>\n",
       "      <td>1997-11-26</td>\n",
       "      <td>504</td>\n",
       "    </tr>\n",
       "    <tr>\n",
       "      <th>EastNorthCentral</th>\n",
       "      <td>1997-11-27</td>\n",
       "      <td>510</td>\n",
       "    </tr>\n",
       "    <tr>\n",
       "      <th>EastNorthCentral</th>\n",
       "      <td>1997-11-28</td>\n",
       "      <td>507</td>\n",
       "    </tr>\n",
       "    <tr>\n",
       "      <th>EastNorthCentral</th>\n",
       "      <td>1997-11-29</td>\n",
       "      <td>513</td>\n",
       "    </tr>\n",
       "  </tbody>\n",
       "</table>\n",
       "</div>"
      ],
      "text/plain": [
       "                         ds    y\n",
       "unique_id                       \n",
       "EastNorthCentral 1997-11-25  507\n",
       "EastNorthCentral 1997-11-26  504\n",
       "EastNorthCentral 1997-11-27  510\n",
       "EastNorthCentral 1997-11-28  507\n",
       "EastNorthCentral 1997-11-29  513"
      ]
     },
     "metadata": {},
     "output_type": "display_data"
    },
    {
     "data": {
      "text/html": [
       "<div>\n",
       "<style scoped>\n",
       "    .dataframe tbody tr th:only-of-type {\n",
       "        vertical-align: middle;\n",
       "    }\n",
       "\n",
       "    .dataframe tbody tr th {\n",
       "        vertical-align: top;\n",
       "    }\n",
       "\n",
       "    .dataframe thead th {\n",
       "        text-align: right;\n",
       "    }\n",
       "</style>\n",
       "<table border=\"1\" class=\"dataframe\">\n",
       "  <thead>\n",
       "    <tr style=\"text-align: right;\">\n",
       "      <th></th>\n",
       "      <th>ds</th>\n",
       "      <th>y</th>\n",
       "    </tr>\n",
       "    <tr>\n",
       "      <th>unique_id</th>\n",
       "      <th></th>\n",
       "      <th></th>\n",
       "    </tr>\n",
       "  </thead>\n",
       "  <tbody>\n",
       "    <tr>\n",
       "      <th>SouthCentral/Tennessee/womens_shoes</th>\n",
       "      <td>2009-07-24</td>\n",
       "      <td>31</td>\n",
       "    </tr>\n",
       "    <tr>\n",
       "      <th>SouthCentral/Tennessee/womens_shoes</th>\n",
       "      <td>2009-07-25</td>\n",
       "      <td>30</td>\n",
       "    </tr>\n",
       "    <tr>\n",
       "      <th>SouthCentral/Tennessee/womens_shoes</th>\n",
       "      <td>2009-07-26</td>\n",
       "      <td>31</td>\n",
       "    </tr>\n",
       "    <tr>\n",
       "      <th>SouthCentral/Tennessee/womens_shoes</th>\n",
       "      <td>2009-07-27</td>\n",
       "      <td>29</td>\n",
       "    </tr>\n",
       "    <tr>\n",
       "      <th>SouthCentral/Tennessee/womens_shoes</th>\n",
       "      <td>2009-07-28</td>\n",
       "      <td>30</td>\n",
       "    </tr>\n",
       "  </tbody>\n",
       "</table>\n",
       "</div>"
      ],
      "text/plain": [
       "                                            ds   y\n",
       "unique_id                                         \n",
       "SouthCentral/Tennessee/womens_shoes 2009-07-24  31\n",
       "SouthCentral/Tennessee/womens_shoes 2009-07-25  30\n",
       "SouthCentral/Tennessee/womens_shoes 2009-07-26  31\n",
       "SouthCentral/Tennessee/womens_shoes 2009-07-27  29\n",
       "SouthCentral/Tennessee/womens_shoes 2009-07-28  30"
      ]
     },
     "metadata": {},
     "output_type": "display_data"
    },
    {
     "name": "stdout",
     "output_type": "stream",
     "text": [
      "time: 10.4 ms (started: 2024-01-04 15:21:42 -03:00)\n"
     ]
    }
   ],
   "source": [
    "display(Y_df.head())\n",
    "display(Y_df.tail())"
   ]
  },
  {
   "cell_type": "markdown",
   "id": "9420bec3-4c93-4604-9635-9ca7d0e4dae4",
   "metadata": {},
   "source": [
    "- **Dados de treino: 25/11/1997 a 31/12/2008**\n",
    "- **Dados de validação: 01/01/2009 a 28/07/2009**"
   ]
  },
  {
   "cell_type": "code",
   "execution_count": 10,
   "id": "99995911-9337-45c4-86b4-1621fbea7353",
   "metadata": {},
   "outputs": [
    {
     "name": "stdout",
     "output_type": "stream",
     "text": [
      "time: 534 µs (started: 2024-01-04 15:21:42 -03:00)\n"
     ]
    }
   ],
   "source": [
    "def split_train_test(df: pd.DataFrame, dt_start_train: str):\n",
    "\n",
    "    #---- 1. Dados de treino\n",
    "\n",
    "    train = df.query(f'ds < \"{dt_start_train}\"')\n",
    "\n",
    "    #---- 2. Dados de teste:\n",
    "    \n",
    "    valid = df.query(f'ds >= \"{dt_start_train}\"')\n",
    "\n",
    "    return train, valid"
   ]
  },
  {
   "cell_type": "code",
   "execution_count": 11,
   "id": "81fb172d-6cbb-42bf-aa05-0ce41449f927",
   "metadata": {},
   "outputs": [
    {
     "name": "stdout",
     "output_type": "stream",
     "text": [
      "time: 78 ms (started: 2024-01-04 15:21:42 -03:00)\n"
     ]
    }
   ],
   "source": [
    "Y_train_df, Y_valid_df = split_train_test(df = Y_df, dt_start_train = '2009-01-01')"
   ]
  },
  {
   "cell_type": "code",
   "execution_count": 12,
   "id": "47b95cd4-22d4-4bb8-9b74-63256f9db6d8",
   "metadata": {},
   "outputs": [
    {
     "data": {
      "text/html": [
       "<div>\n",
       "<style scoped>\n",
       "    .dataframe tbody tr th:only-of-type {\n",
       "        vertical-align: middle;\n",
       "    }\n",
       "\n",
       "    .dataframe tbody tr th {\n",
       "        vertical-align: top;\n",
       "    }\n",
       "\n",
       "    .dataframe thead th {\n",
       "        text-align: right;\n",
       "    }\n",
       "</style>\n",
       "<table border=\"1\" class=\"dataframe\">\n",
       "  <thead>\n",
       "    <tr style=\"text-align: right;\">\n",
       "      <th></th>\n",
       "      <th>ds</th>\n",
       "      <th>y</th>\n",
       "    </tr>\n",
       "    <tr>\n",
       "      <th>unique_id</th>\n",
       "      <th></th>\n",
       "      <th></th>\n",
       "    </tr>\n",
       "  </thead>\n",
       "  <tbody>\n",
       "    <tr>\n",
       "      <th>EastNorthCentral</th>\n",
       "      <td>1997-11-25</td>\n",
       "      <td>507</td>\n",
       "    </tr>\n",
       "    <tr>\n",
       "      <th>EastNorthCentral</th>\n",
       "      <td>1997-11-26</td>\n",
       "      <td>504</td>\n",
       "    </tr>\n",
       "    <tr>\n",
       "      <th>EastNorthCentral</th>\n",
       "      <td>1997-11-27</td>\n",
       "      <td>510</td>\n",
       "    </tr>\n",
       "    <tr>\n",
       "      <th>EastNorthCentral</th>\n",
       "      <td>1997-11-28</td>\n",
       "      <td>507</td>\n",
       "    </tr>\n",
       "    <tr>\n",
       "      <th>EastNorthCentral</th>\n",
       "      <td>1997-11-29</td>\n",
       "      <td>513</td>\n",
       "    </tr>\n",
       "  </tbody>\n",
       "</table>\n",
       "</div>"
      ],
      "text/plain": [
       "                         ds    y\n",
       "unique_id                       \n",
       "EastNorthCentral 1997-11-25  507\n",
       "EastNorthCentral 1997-11-26  504\n",
       "EastNorthCentral 1997-11-27  510\n",
       "EastNorthCentral 1997-11-28  507\n",
       "EastNorthCentral 1997-11-29  513"
      ]
     },
     "metadata": {},
     "output_type": "display_data"
    },
    {
     "data": {
      "text/html": [
       "<div>\n",
       "<style scoped>\n",
       "    .dataframe tbody tr th:only-of-type {\n",
       "        vertical-align: middle;\n",
       "    }\n",
       "\n",
       "    .dataframe tbody tr th {\n",
       "        vertical-align: top;\n",
       "    }\n",
       "\n",
       "    .dataframe thead th {\n",
       "        text-align: right;\n",
       "    }\n",
       "</style>\n",
       "<table border=\"1\" class=\"dataframe\">\n",
       "  <thead>\n",
       "    <tr style=\"text-align: right;\">\n",
       "      <th></th>\n",
       "      <th>ds</th>\n",
       "      <th>y</th>\n",
       "    </tr>\n",
       "    <tr>\n",
       "      <th>unique_id</th>\n",
       "      <th></th>\n",
       "      <th></th>\n",
       "    </tr>\n",
       "  </thead>\n",
       "  <tbody>\n",
       "    <tr>\n",
       "      <th>SouthCentral/Tennessee/womens_shoes</th>\n",
       "      <td>2008-12-27</td>\n",
       "      <td>31</td>\n",
       "    </tr>\n",
       "    <tr>\n",
       "      <th>SouthCentral/Tennessee/womens_shoes</th>\n",
       "      <td>2008-12-28</td>\n",
       "      <td>29</td>\n",
       "    </tr>\n",
       "    <tr>\n",
       "      <th>SouthCentral/Tennessee/womens_shoes</th>\n",
       "      <td>2008-12-29</td>\n",
       "      <td>28</td>\n",
       "    </tr>\n",
       "    <tr>\n",
       "      <th>SouthCentral/Tennessee/womens_shoes</th>\n",
       "      <td>2008-12-30</td>\n",
       "      <td>31</td>\n",
       "    </tr>\n",
       "    <tr>\n",
       "      <th>SouthCentral/Tennessee/womens_shoes</th>\n",
       "      <td>2008-12-31</td>\n",
       "      <td>31</td>\n",
       "    </tr>\n",
       "  </tbody>\n",
       "</table>\n",
       "</div>"
      ],
      "text/plain": [
       "                                            ds   y\n",
       "unique_id                                         \n",
       "SouthCentral/Tennessee/womens_shoes 2008-12-27  31\n",
       "SouthCentral/Tennessee/womens_shoes 2008-12-28  29\n",
       "SouthCentral/Tennessee/womens_shoes 2008-12-29  28\n",
       "SouthCentral/Tennessee/womens_shoes 2008-12-30  31\n",
       "SouthCentral/Tennessee/womens_shoes 2008-12-31  31"
      ]
     },
     "metadata": {},
     "output_type": "display_data"
    },
    {
     "name": "stdout",
     "output_type": "stream",
     "text": [
      "time: 8.71 ms (started: 2024-01-04 15:21:42 -03:00)\n"
     ]
    }
   ],
   "source": [
    "display(Y_train_df.head())\n",
    "display(Y_train_df.tail())"
   ]
  },
  {
   "cell_type": "markdown",
   "id": "8956e935-9676-4bb9-af9e-1fe224fab5ff",
   "metadata": {},
   "source": [
    "## 3. Modelagem"
   ]
  },
  {
   "cell_type": "code",
   "execution_count": 13,
   "id": "b37fe06b-8c83-42a7-a2d2-1867178ed95e",
   "metadata": {},
   "outputs": [
    {
     "name": "stdout",
     "output_type": "stream",
     "text": [
      "time: 10 ms (started: 2024-01-04 15:21:42 -03:00)\n"
     ]
    }
   ],
   "source": [
    "#---- Features de data:\n",
    "\n",
    "from numba import njit\n",
    "from window_ops.expanding import expanding_mean\n",
    "from window_ops.rolling import rolling_mean\n",
    "\n",
    "@njit\n",
    "def rolling_mean_7(x):\n",
    "    return rolling_mean(x, window_size = 7)\n",
    "\n",
    "@njit\n",
    "def rolling_mean_14(x):\n",
    "    return rolling_mean(x, window_size = 14)\n",
    "\n",
    "@njit\n",
    "def rolling_mean_21(x):\n",
    "    return rolling_mean(x, window_size = 21)\n",
    "\n",
    "@njit\n",
    "def rolling_mean_28(x):\n",
    "    return rolling_mean(x, window_size = 28)"
   ]
  },
  {
   "cell_type": "code",
   "execution_count": 14,
   "id": "c04b9326-f9ba-437c-ac6d-c8c3f93a646c",
   "metadata": {},
   "outputs": [
    {
     "name": "stdout",
     "output_type": "stream",
     "text": [
      "time: 397 µs (started: 2024-01-04 15:21:42 -03:00)\n"
     ]
    }
   ],
   "source": [
    "def rmse(y_true, y_pred):\n",
    "    \n",
    "    return np.sqrt(np.mean(np.square(y_true - y_pred)))"
   ]
  },
  {
   "cell_type": "code",
   "execution_count": 15,
   "id": "c1ff6523-bf87-44f7-aa2a-030194720f2e",
   "metadata": {},
   "outputs": [
    {
     "name": "stdout",
     "output_type": "stream",
     "text": [
      "time: 2.71 ms (started: 2024-01-04 15:21:42 -03:00)\n"
     ]
    }
   ],
   "source": [
    "n_horizon = Y_valid_df.ds.nunique() # Quantidade de dias para a projeção"
   ]
  },
  {
   "cell_type": "code",
   "execution_count": 18,
   "id": "321e58af-abf9-4769-a88f-0fe76334de3a",
   "metadata": {},
   "outputs": [
    {
     "name": "stdout",
     "output_type": "stream",
     "text": [
      "time: 3.69 ms (started: 2024-01-04 15:23:33 -03:00)\n"
     ]
    }
   ],
   "source": [
    "import optuna\n",
    "from sklearn.metrics import mean_squared_error\n",
    "\n",
    "def objective(trial):\n",
    "\n",
    "    learning_rate = trial.suggest_float('learning_rate', 1e-3, 1e-1)\n",
    "    reg_alpha = trial.suggest_float('reg_alpha', 1e-3, 10.0, log = True)\n",
    "    reg_lambda = trial.suggest_float('reg_alpha', 1e-3, 10.0, log = True)\n",
    "    max_depth = trial.suggest_int('max_depth', 3, 15)\n",
    "    min_child_weight = trial.suggest_float('min_child_weight', 1e-3, 10.0, log = True)\n",
    "    subsample = trial.suggest_float('subsample', 0.1, 1.0)\n",
    "    colsample_bytree = trial.suggest_float('colsample_bytree', 0.1, 1.0)\n",
    "    max_delta_step = trial.suggest_int('max_delta_step', 0, 10)\n",
    "    scale_pos_weight = trial.suggest_float('scale_pos_weight', 0.1, 1.0)    \n",
    "\n",
    "    xgb = XGBRegressor(max_depth = max_depth, \n",
    "                       learning_rate = learning_rate,\n",
    "                       n_estimators = 500,\n",
    "                       reg_alpha = reg_alpha,\n",
    "                       reg_lambda = reg_lambda,\n",
    "                       min_child_weight = min_child_weight,\n",
    "                       subsample = subsample,\n",
    "                       colsample_bytree = colsample_bytree,\n",
    "                       max_delta_step = max_delta_step,\n",
    "                       scale_pos_weight = scale_pos_weight,\n",
    "                       random_state = 19\n",
    "                       )\n",
    "    \n",
    "    models_list = [xgb]\n",
    "\n",
    "    model = MLForecast(models = models_list,\n",
    "                       freq = 'D',\n",
    "                       num_threads = 6,\n",
    "                       lags = [1, 7, 14, 21, 28, 30], \n",
    "                       date_features = ['dayofweek', 'month', 'year', 'quarter', 'day', 'week'],\n",
    "                       lag_transforms = {\n",
    "                           1: [expanding_mean],\n",
    "                           7: [rolling_mean_7],\n",
    "                           14: [rolling_mean_14],\n",
    "                           21: [rolling_mean_21],\n",
    "                           28: [rolling_mean_28],\n",
    "                       }\n",
    "               )\n",
    "\n",
    "    model.fit(Y_train_df.reset_index(), id_col = 'unique_id', time_col = 'ds', target_col = 'y', fitted = True)\n",
    "\n",
    "    Y_hat_df = model.predict(h = n_horizon)\n",
    "\n",
    "    p = Y_hat_df.reset_index().merge(Y_valid_df.reset_index(), on = ['unique_id', 'ds'], how = 'left')\n",
    "\n",
    "    error = rmse(p['y'], p['XGBRegressor'])\n",
    "    \n",
    "    return error"
   ]
  },
  {
   "cell_type": "code",
   "execution_count": 19,
   "id": "8177f556-5759-41bd-93bc-9cc6a29af1eb",
   "metadata": {},
   "outputs": [
    {
     "name": "stderr",
     "output_type": "stream",
     "text": [
      "[I 2024-01-04 15:23:34,180] A new study created in memory with name: no-name-a3ffe4e1-892a-4049-a5dd-3efa0b6cee54\n",
      "[I 2024-01-04 15:23:42,416] Trial 0 finished with value: 248.99696137742419 and parameters: {'learning_rate': 0.019573948483793138, 'reg_alpha': 0.0020840509706208377, 'max_depth': 4, 'min_child_weight': 0.07495249054694259, 'subsample': 0.5798555306491624, 'colsample_bytree': 0.3609085505489348, 'max_delta_step': 8, 'scale_pos_weight': 0.9749333713029478}. Best is trial 0 with value: 248.99696137742419.\n",
      "[I 2024-01-04 15:23:53,747] Trial 1 finished with value: 238.77005755596343 and parameters: {'learning_rate': 0.07010398867263551, 'reg_alpha': 0.002170705163882954, 'max_depth': 11, 'min_child_weight': 0.2300071475052542, 'subsample': 0.2341838959647129, 'colsample_bytree': 0.33498629762737153, 'max_delta_step': 3, 'scale_pos_weight': 0.7149209282420981}. Best is trial 1 with value: 238.77005755596343.\n",
      "[I 2024-01-04 15:24:02,029] Trial 2 finished with value: 252.54420909982468 and parameters: {'learning_rate': 0.027026606392372938, 'reg_alpha': 0.35875841576429635, 'max_depth': 7, 'min_child_weight': 0.0017214953402332129, 'subsample': 0.8397630082389975, 'colsample_bytree': 0.6752950316575681, 'max_delta_step': 5, 'scale_pos_weight': 0.8005566749897842}. Best is trial 1 with value: 238.77005755596343.\n",
      "[I 2024-01-04 15:24:11,095] Trial 3 finished with value: 194.14771231180083 and parameters: {'learning_rate': 0.09472096206750943, 'reg_alpha': 0.29600764860077483, 'max_depth': 7, 'min_child_weight': 1.8401426717793725, 'subsample': 0.6694860634274656, 'colsample_bytree': 0.923846651278195, 'max_delta_step': 6, 'scale_pos_weight': 0.2952204017496547}. Best is trial 3 with value: 194.14771231180083.\n",
      "[I 2024-01-04 15:24:17,554] Trial 4 finished with value: 190.21764855072365 and parameters: {'learning_rate': 0.06198955496031501, 'reg_alpha': 0.1222473172149217, 'max_depth': 3, 'min_child_weight': 0.021707750836961612, 'subsample': 0.9391303999937409, 'colsample_bytree': 0.6928824160624822, 'max_delta_step': 10, 'scale_pos_weight': 0.14103890059672777}. Best is trial 4 with value: 190.21764855072365.\n",
      "[I 2024-01-04 15:24:38,902] Trial 5 finished with value: 205.7502158032301 and parameters: {'learning_rate': 0.09213556417712147, 'reg_alpha': 0.10483314560595311, 'max_depth': 14, 'min_child_weight': 0.20489370889104183, 'subsample': 0.9587531229070836, 'colsample_bytree': 0.23579349665326754, 'max_delta_step': 5, 'scale_pos_weight': 0.4871329101860691}. Best is trial 4 with value: 190.21764855072365.\n",
      "[I 2024-01-04 15:24:46,876] Trial 6 finished with value: 264.4340683153099 and parameters: {'learning_rate': 0.012696689328442246, 'reg_alpha': 0.41274899090365574, 'max_depth': 6, 'min_child_weight': 0.23213507103338285, 'subsample': 0.42640551829265805, 'colsample_bytree': 0.9315862924111339, 'max_delta_step': 7, 'scale_pos_weight': 0.11596106589880546}. Best is trial 4 with value: 190.21764855072365.\n",
      "[I 2024-01-04 15:24:58,279] Trial 7 finished with value: 272.62902265274835 and parameters: {'learning_rate': 0.006441016556398729, 'reg_alpha': 0.12195441156784802, 'max_depth': 15, 'min_child_weight': 6.8818608489229645, 'subsample': 0.5596809249219923, 'colsample_bytree': 0.5475338828237146, 'max_delta_step': 8, 'scale_pos_weight': 0.5820719648351713}. Best is trial 4 with value: 190.21764855072365.\n",
      "[I 2024-01-04 15:25:09,302] Trial 8 finished with value: 238.60052871915985 and parameters: {'learning_rate': 0.05493880368818481, 'reg_alpha': 0.022721775061580247, 'max_depth': 10, 'min_child_weight': 0.19590014560328808, 'subsample': 0.7017639779474282, 'colsample_bytree': 0.6208148302174128, 'max_delta_step': 4, 'scale_pos_weight': 0.26371206130024955}. Best is trial 4 with value: 190.21764855072365.\n",
      "[I 2024-01-04 15:25:20,714] Trial 9 finished with value: 217.7550038758415 and parameters: {'learning_rate': 0.03875093309701252, 'reg_alpha': 0.005423556865090055, 'max_depth': 9, 'min_child_weight': 0.2431936052726984, 'subsample': 0.3125699844508717, 'colsample_bytree': 0.5841320994914653, 'max_delta_step': 10, 'scale_pos_weight': 0.8980496718643707}. Best is trial 4 with value: 190.21764855072365.\n",
      "[I 2024-01-04 15:25:27,041] Trial 10 finished with value: 265.77108907092355 and parameters: {'learning_rate': 0.0662535564006645, 'reg_alpha': 8.197990319149623, 'max_depth': 3, 'min_child_weight': 0.006462756625409481, 'subsample': 0.9423921264026986, 'colsample_bytree': 0.7799215737298834, 'max_delta_step': 1, 'scale_pos_weight': 0.10559499044823452}. Best is trial 4 with value: 190.21764855072365.\n",
      "[I 2024-01-04 15:25:35,573] Trial 11 finished with value: 152.4159579879383 and parameters: {'learning_rate': 0.09838236746265153, 'reg_alpha': 2.0880619230106534, 'max_depth': 6, 'min_child_weight': 7.555764022726369, 'subsample': 0.7652336985816581, 'colsample_bytree': 0.9804368485284789, 'max_delta_step': 10, 'scale_pos_weight': 0.3335392114501903}. Best is trial 11 with value: 152.4159579879383.\n",
      "[I 2024-01-04 15:25:43,399] Trial 12 finished with value: 171.16270055101143 and parameters: {'learning_rate': 0.07956160864531156, 'reg_alpha': 7.036695359802625, 'max_depth': 5, 'min_child_weight': 0.019677390889894387, 'subsample': 0.7897879409529345, 'colsample_bytree': 0.9858594357567965, 'max_delta_step': 10, 'scale_pos_weight': 0.33908276089499945}. Best is trial 11 with value: 152.4159579879383.\n",
      "[I 2024-01-04 15:25:51,196] Trial 13 finished with value: 170.56555285342714 and parameters: {'learning_rate': 0.08015872541757167, 'reg_alpha': 9.897403075089573, 'max_depth': 5, 'min_child_weight': 1.464196617513655, 'subsample': 0.8037041539599619, 'colsample_bytree': 0.994264305966601, 'max_delta_step': 10, 'scale_pos_weight': 0.40609996384315983}. Best is trial 11 with value: 152.4159579879383.\n",
      "[I 2024-01-04 15:26:01,020] Trial 14 finished with value: 184.6765001289244 and parameters: {'learning_rate': 0.08265135295860601, 'reg_alpha': 1.5802277466799766, 'max_depth': 8, 'min_child_weight': 9.404468321264671, 'subsample': 0.7647479179177801, 'colsample_bytree': 0.8416108806216791, 'max_delta_step': 8, 'scale_pos_weight': 0.4599021845492578}. Best is trial 11 with value: 152.4159579879383.\n",
      "[I 2024-01-04 15:26:08,719] Trial 15 finished with value: 181.57358466807838 and parameters: {'learning_rate': 0.07973499473635189, 'reg_alpha': 1.9843245346772844, 'max_depth': 5, 'min_child_weight': 1.4696222704060253, 'subsample': 0.10654886780702788, 'colsample_bytree': 0.7969590346098703, 'max_delta_step': 9, 'scale_pos_weight': 0.6037192553740756}. Best is trial 11 with value: 152.4159579879383.\n",
      "[I 2024-01-04 15:26:27,140] Trial 16 finished with value: 17.664120472195915 and parameters: {'learning_rate': 0.09706508183742094, 'reg_alpha': 2.5856419356137534, 'max_depth': 12, 'min_child_weight': 1.7605206073240915, 'subsample': 0.6489869134403273, 'colsample_bytree': 0.9926559366238281, 'max_delta_step': 0, 'scale_pos_weight': 0.4118214241620429}. Best is trial 16 with value: 17.664120472195915.\n",
      "[I 2024-01-04 15:26:43,654] Trial 17 finished with value: 18.186282893354605 and parameters: {'learning_rate': 0.09534190001241022, 'reg_alpha': 1.312916660039739, 'max_depth': 12, 'min_child_weight': 2.4851854136566414, 'subsample': 0.48406516924938003, 'colsample_bytree': 0.45766950514493926, 'max_delta_step': 0, 'scale_pos_weight': 0.22818197728967315}. Best is trial 16 with value: 17.664120472195915.\n",
      "[I 2024-01-04 15:27:01,500] Trial 18 finished with value: 18.294187359342313 and parameters: {'learning_rate': 0.03978057845174867, 'reg_alpha': 0.8520750414916379, 'max_depth': 12, 'min_child_weight': 0.9236123468593765, 'subsample': 0.4532276342655852, 'colsample_bytree': 0.46491492662541967, 'max_delta_step': 0, 'scale_pos_weight': 0.21807932055593762}. Best is trial 16 with value: 17.664120472195915.\n",
      "[I 2024-01-04 15:27:08,426] Trial 19 finished with value: 248.72154489699972 and parameters: {'learning_rate': 0.09079957098973697, 'reg_alpha': 0.024447409868707963, 'max_depth': 13, 'min_child_weight': 3.4086722859804617, 'subsample': 0.4672026248199137, 'colsample_bytree': 0.10873967827880093, 'max_delta_step': 2, 'scale_pos_weight': 0.21282491923073418}. Best is trial 16 with value: 17.664120472195915.\n"
     ]
    },
    {
     "name": "stdout",
     "output_type": "stream",
     "text": [
      "time: 3min 34s (started: 2024-01-04 15:23:34 -03:00)\n"
     ]
    }
   ],
   "source": [
    "study = optuna.create_study(direction = 'minimize')\n",
    "study.optimize(objective, n_trials = 20)"
   ]
  },
  {
   "cell_type": "code",
   "execution_count": 20,
   "id": "2cb4227a-abb5-4060-bb5d-2f0db10db0a4",
   "metadata": {},
   "outputs": [
    {
     "data": {
      "text/plain": [
       "{'learning_rate': 0.09706508183742094,\n",
       " 'reg_alpha': 2.5856419356137534,\n",
       " 'max_depth': 12,\n",
       " 'min_child_weight': 1.7605206073240915,\n",
       " 'subsample': 0.6489869134403273,\n",
       " 'colsample_bytree': 0.9926559366238281,\n",
       " 'max_delta_step': 0,\n",
       " 'scale_pos_weight': 0.4118214241620429}"
      ]
     },
     "execution_count": 20,
     "metadata": {},
     "output_type": "execute_result"
    },
    {
     "name": "stdout",
     "output_type": "stream",
     "text": [
      "time: 3.62 ms (started: 2024-01-04 15:27:08 -03:00)\n"
     ]
    }
   ],
   "source": [
    "study.best_params"
   ]
  },
  {
   "cell_type": "code",
   "execution_count": 22,
   "id": "98a0cb54-c169-4168-bf38-20b7ac25fda2",
   "metadata": {},
   "outputs": [
    {
     "name": "stdout",
     "output_type": "stream",
     "text": [
      "time: 1.53 ms (started: 2024-01-04 15:27:08 -03:00)\n"
     ]
    }
   ],
   "source": [
    "#---- Salvando os melhores parâmetros em um JSON:\n",
    "\n",
    "import json\n",
    "\n",
    "with open('xgboost-best-parameters.json', 'w') as jsn:\n",
    "    json.dump(dict(study.best_params), jsn)"
   ]
  },
  {
   "cell_type": "code",
   "execution_count": 21,
   "id": "75f21d97-912b-4908-893b-570158ce5301",
   "metadata": {},
   "outputs": [
    {
     "data": {
      "text/plain": [
       "17.664120472195915"
      ]
     },
     "execution_count": 21,
     "metadata": {},
     "output_type": "execute_result"
    },
    {
     "name": "stdout",
     "output_type": "stream",
     "text": [
      "time: 3.01 ms (started: 2024-01-04 15:27:08 -03:00)\n"
     ]
    }
   ],
   "source": [
    "study.best_value"
   ]
  },
  {
   "cell_type": "code",
   "execution_count": null,
   "id": "b1b53af3-73d7-4883-b0c8-48edb5ab7633",
   "metadata": {},
   "outputs": [],
   "source": []
  }
 ],
 "metadata": {
  "kernelspec": {
   "display_name": "Python 3 (ipykernel)",
   "language": "python",
   "name": "python3"
  },
  "language_info": {
   "codemirror_mode": {
    "name": "ipython",
    "version": 3
   },
   "file_extension": ".py",
   "mimetype": "text/x-python",
   "name": "python",
   "nbconvert_exporter": "python",
   "pygments_lexer": "ipython3",
   "version": "3.10.6"
  }
 },
 "nbformat": 4,
 "nbformat_minor": 5
}
