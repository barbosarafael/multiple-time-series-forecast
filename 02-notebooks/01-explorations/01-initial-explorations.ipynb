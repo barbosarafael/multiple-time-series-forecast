{
 "cells": [
  {
   "cell_type": "markdown",
   "id": "001fef72-98df-4b10-b8c2-2795d38c2fba",
   "metadata": {},
   "source": [
    "# Explorações iniciais\n",
    "\n",
    "**Objetivo do projeto**: Utilizar a abordagem de \"hierarchical forecasting\" para projetar múltiplas séries temporais"
   ]
  },
  {
   "cell_type": "markdown",
   "id": "f5b89425-5e63-43ef-adb0-341a6b372c1d",
   "metadata": {},
   "source": [
    "## 0. Setup"
   ]
  },
  {
   "cell_type": "code",
   "execution_count": 1,
   "id": "719ff8eb-0a2a-4722-b61b-ec2bb7aa1f5d",
   "metadata": {},
   "outputs": [
    {
     "name": "stdout",
     "output_type": "stream",
     "text": [
      "time: 181 µs (started: 2023-12-28 16:14:29 -03:00)\n"
     ]
    }
   ],
   "source": [
    "%load_ext autotime"
   ]
  },
  {
   "cell_type": "code",
   "execution_count": 2,
   "id": "3f672f49-48c3-4987-ad96-9deb372d75ee",
   "metadata": {},
   "outputs": [
    {
     "name": "stdout",
     "output_type": "stream",
     "text": [
      "time: 305 ms (started: 2023-12-28 16:14:29 -03:00)\n"
     ]
    }
   ],
   "source": [
    "import pandas as pd\n",
    "import numpy as np"
   ]
  },
  {
   "cell_type": "markdown",
   "id": "a4c1de1a-3519-45af-8d1f-e2bb32744868",
   "metadata": {},
   "source": [
    "## 1. Dados: vendas de roupas no varejo"
   ]
  },
  {
   "cell_type": "code",
   "execution_count": 3,
   "id": "2b836e00-df0e-4804-8ee3-649029889dbb",
   "metadata": {},
   "outputs": [
    {
     "data": {
      "text/html": [
       "<div>\n",
       "<style scoped>\n",
       "    .dataframe tbody tr th:only-of-type {\n",
       "        vertical-align: middle;\n",
       "    }\n",
       "\n",
       "    .dataframe tbody tr th {\n",
       "        vertical-align: top;\n",
       "    }\n",
       "\n",
       "    .dataframe thead th {\n",
       "        text-align: right;\n",
       "    }\n",
       "</style>\n",
       "<table border=\"1\" class=\"dataframe\">\n",
       "  <thead>\n",
       "    <tr style=\"text-align: right;\">\n",
       "      <th></th>\n",
       "      <th>date</th>\n",
       "      <th>state</th>\n",
       "      <th>item</th>\n",
       "      <th>quantity</th>\n",
       "      <th>region</th>\n",
       "      <th>country</th>\n",
       "    </tr>\n",
       "  </thead>\n",
       "  <tbody>\n",
       "    <tr>\n",
       "      <th>0</th>\n",
       "      <td>1997-11-25</td>\n",
       "      <td>NewYork</td>\n",
       "      <td>mens_clothing</td>\n",
       "      <td>8</td>\n",
       "      <td>Mid-Alantic</td>\n",
       "      <td>USA</td>\n",
       "    </tr>\n",
       "    <tr>\n",
       "      <th>1</th>\n",
       "      <td>1997-11-26</td>\n",
       "      <td>NewYork</td>\n",
       "      <td>mens_clothing</td>\n",
       "      <td>9</td>\n",
       "      <td>Mid-Alantic</td>\n",
       "      <td>USA</td>\n",
       "    </tr>\n",
       "    <tr>\n",
       "      <th>2</th>\n",
       "      <td>1997-11-27</td>\n",
       "      <td>NewYork</td>\n",
       "      <td>mens_clothing</td>\n",
       "      <td>11</td>\n",
       "      <td>Mid-Alantic</td>\n",
       "      <td>USA</td>\n",
       "    </tr>\n",
       "    <tr>\n",
       "      <th>3</th>\n",
       "      <td>1997-11-28</td>\n",
       "      <td>NewYork</td>\n",
       "      <td>mens_clothing</td>\n",
       "      <td>11</td>\n",
       "      <td>Mid-Alantic</td>\n",
       "      <td>USA</td>\n",
       "    </tr>\n",
       "    <tr>\n",
       "      <th>4</th>\n",
       "      <td>1997-11-29</td>\n",
       "      <td>NewYork</td>\n",
       "      <td>mens_clothing</td>\n",
       "      <td>10</td>\n",
       "      <td>Mid-Alantic</td>\n",
       "      <td>USA</td>\n",
       "    </tr>\n",
       "  </tbody>\n",
       "</table>\n",
       "</div>"
      ],
      "text/plain": [
       "         date    state           item  quantity       region country\n",
       "0  1997-11-25  NewYork  mens_clothing         8  Mid-Alantic     USA\n",
       "1  1997-11-26  NewYork  mens_clothing         9  Mid-Alantic     USA\n",
       "2  1997-11-27  NewYork  mens_clothing        11  Mid-Alantic     USA\n",
       "3  1997-11-28  NewYork  mens_clothing        11  Mid-Alantic     USA\n",
       "4  1997-11-29  NewYork  mens_clothing        10  Mid-Alantic     USA"
      ]
     },
     "execution_count": 3,
     "metadata": {},
     "output_type": "execute_result"
    },
    {
     "name": "stdout",
     "output_type": "stream",
     "text": [
      "time: 968 ms (started: 2023-12-28 16:14:29 -03:00)\n"
     ]
    }
   ],
   "source": [
    "dados = pd.read_csv('https://raw.githubusercontent.com/aws-samples/amazon-sagemaker-hierarchical-forecasting/main/retail-usa-clothing.csv')\n",
    "\n",
    "dados.head()"
   ]
  },
  {
   "cell_type": "code",
   "execution_count": 4,
   "id": "65502bf8-8bcd-44e4-b140-6be774a36654",
   "metadata": {},
   "outputs": [
    {
     "name": "stdout",
     "output_type": "stream",
     "text": [
      "<class 'pandas.core.frame.DataFrame'>\n",
      "RangeIndex: 388024 entries, 0 to 388023\n",
      "Data columns (total 6 columns):\n",
      " #   Column    Non-Null Count   Dtype \n",
      "---  ------    --------------   ----- \n",
      " 0   date      388024 non-null  object\n",
      " 1   state     388024 non-null  object\n",
      " 2   item      388024 non-null  object\n",
      " 3   quantity  388024 non-null  int64 \n",
      " 4   region    388024 non-null  object\n",
      " 5   country   388024 non-null  object\n",
      "dtypes: int64(1), object(5)\n",
      "memory usage: 17.8+ MB\n",
      "time: 51.7 ms (started: 2023-12-28 16:14:30 -03:00)\n"
     ]
    }
   ],
   "source": [
    "dados.info()"
   ]
  },
  {
   "cell_type": "markdown",
   "id": "a8022f59-7a56-4907-9798-a4576bafe4dc",
   "metadata": {},
   "source": [
    "## 2. Explorações iniciais"
   ]
  },
  {
   "cell_type": "markdown",
   "id": "4c54971a-6b6d-4d31-9713-f50b5f44c114",
   "metadata": {},
   "source": [
    "### 2.1. Início e fim do dataset"
   ]
  },
  {
   "cell_type": "code",
   "execution_count": 5,
   "id": "b462a5bb-939a-4f45-bacc-44a4d586a9ff",
   "metadata": {},
   "outputs": [
    {
     "data": {
      "text/plain": [
       "min    1997-11-25\n",
       "max    2009-07-28\n",
       "Name: date, dtype: object"
      ]
     },
     "execution_count": 5,
     "metadata": {},
     "output_type": "execute_result"
    },
    {
     "name": "stdout",
     "output_type": "stream",
     "text": [
      "time: 40.9 ms (started: 2023-12-28 16:14:30 -03:00)\n"
     ]
    }
   ],
   "source": [
    "dados['date']\\\n",
    "    .agg(['min', 'max'])"
   ]
  },
  {
   "cell_type": "markdown",
   "id": "1154f047-ad36-4b64-857b-222c8b38ca72",
   "metadata": {},
   "source": [
    "### 2.2. Valores únicos e frequência por variável\n",
    "\n",
    "**Highlights**: \n",
    "\n",
    "- Temos 4.264 dias distintos. Entretanto, a quantidade de dias entre 25/11/1997 e 28/07/2009 nos aponta 4350. Logo, existem dias sem vendas.\n",
    "- NewYork e Alabama são os estados que aparecem com mais frequência nos dados. Vermont é o que menos aparece.\n",
    "- Poucas frequências nas vendas de sapatos masculinos\n",
    "- SouthCentral é a região/regional que aparece com mais frequência. EastNorthCentral a que menos aparece."
   ]
  },
  {
   "cell_type": "code",
   "execution_count": 6,
   "id": "44fd9f30-c862-403c-8d50-0edbf019da90",
   "metadata": {},
   "outputs": [
    {
     "name": "stdout",
     "output_type": "stream",
     "text": [
      ">>>>>>>>>> Coluna: date\n",
      "\n",
      "Quantidade de valores únicos: 4264\n",
      "Tabela de frequência:\n"
     ]
    },
    {
     "data": {
      "text/plain": [
       "date\n",
       "1997-11-25    91\n",
       "2005-09-11    91\n",
       "2005-08-28    91\n",
       "2005-08-29    91\n",
       "2005-08-30    91\n",
       "              ..\n",
       "2001-10-22    91\n",
       "2001-10-23    91\n",
       "2001-10-24    91\n",
       "2001-10-25    91\n",
       "2009-07-28    91\n",
       "Name: count, Length: 4264, dtype: int64"
      ]
     },
     "metadata": {},
     "output_type": "display_data"
    },
    {
     "name": "stdout",
     "output_type": "stream",
     "text": [
      "---------- \n",
      "\n",
      ">>>>>>>>>> Coluna: state\n",
      "\n",
      "Quantidade de valores únicos: 18\n",
      "Tabela de frequência:\n"
     ]
    },
    {
     "data": {
      "text/plain": [
       "state\n",
       "NewYork         25584\n",
       "Alabama         25584\n",
       "Ohio            21320\n",
       "Maine           21320\n",
       "Connecticut     21320\n",
       "Oregon          21320\n",
       "RhodeIsland     21320\n",
       "Tennessee       21320\n",
       "California      21320\n",
       "Pennsylvania    21320\n",
       "NewJersey       21320\n",
       "Indiana         21320\n",
       "Hawaii          21320\n",
       "Illinois        21320\n",
       "Mississippi     21320\n",
       "Kentucky        21320\n",
       "Alaska          21320\n",
       "Vermont         17056\n",
       "Name: count, dtype: int64"
      ]
     },
     "metadata": {},
     "output_type": "display_data"
    },
    {
     "name": "stdout",
     "output_type": "stream",
     "text": [
      "---------- \n",
      "\n",
      ">>>>>>>>>> Coluna: item\n",
      "\n",
      "Quantidade de valores únicos: 6\n",
      "Tabela de frequência:\n"
     ]
    },
    {
     "data": {
      "text/plain": [
       "item\n",
       "mens_clothing      76752\n",
       "womens_clothing    76752\n",
       "kids_shoes         76752\n",
       "womens_shoes       76752\n",
       "kids_clothing      72488\n",
       "mens_shoes          8528\n",
       "Name: count, dtype: int64"
      ]
     },
     "metadata": {},
     "output_type": "display_data"
    },
    {
     "name": "stdout",
     "output_type": "stream",
     "text": [
      "---------- \n",
      "\n",
      ">>>>>>>>>> Coluna: quantity\n",
      "\n",
      "Quantidade de valores únicos: 309\n",
      "Tabela de frequência:\n"
     ]
    },
    {
     "data": {
      "text/plain": [
       "quantity\n",
       "12     13705\n",
       "11     13369\n",
       "13     13106\n",
       "10     12675\n",
       "18     11180\n",
       "       ...  \n",
       "256        2\n",
       "275        2\n",
       "277        1\n",
       "244        1\n",
       "246        1\n",
       "Name: count, Length: 309, dtype: int64"
      ]
     },
     "metadata": {},
     "output_type": "display_data"
    },
    {
     "name": "stdout",
     "output_type": "stream",
     "text": [
      "---------- \n",
      "\n",
      ">>>>>>>>>> Coluna: region\n",
      "\n",
      "Quantidade de valores únicos: 5\n",
      "Tabela de frequência:\n"
     ]
    },
    {
     "data": {
      "text/plain": [
       "region\n",
       "SouthCentral        89544\n",
       "Pacific             85280\n",
       "NewEngland          81016\n",
       "Mid-Alantic         68224\n",
       "EastNorthCentral    63960\n",
       "Name: count, dtype: int64"
      ]
     },
     "metadata": {},
     "output_type": "display_data"
    },
    {
     "name": "stdout",
     "output_type": "stream",
     "text": [
      "---------- \n",
      "\n",
      ">>>>>>>>>> Coluna: country\n",
      "\n",
      "Quantidade de valores únicos: 1\n",
      "Tabela de frequência:\n"
     ]
    },
    {
     "data": {
      "text/plain": [
       "country\n",
       "USA    388024\n",
       "Name: count, dtype: int64"
      ]
     },
     "metadata": {},
     "output_type": "display_data"
    },
    {
     "name": "stdout",
     "output_type": "stream",
     "text": [
      "---------- \n",
      "\n",
      "time: 195 ms (started: 2023-12-28 16:14:30 -03:00)\n"
     ]
    }
   ],
   "source": [
    "for col in dados.columns:\n",
    "\n",
    "    print(f'>>>>>>>>>> Coluna: {col}\\n')\n",
    "    print(f'Quantidade de valores únicos: {dados[col].nunique()}')\n",
    "\n",
    "    print(f'Tabela de frequência:')\n",
    "    \n",
    "    display(dados[col].value_counts())\n",
    "\n",
    "    print('-' * 10, '\\n')"
   ]
  },
  {
   "cell_type": "markdown",
   "id": "c02a4d9c-da78-4edb-8b58-eeaf7105f42f",
   "metadata": {},
   "source": [
    "### 2.3. Total de vendas"
   ]
  },
  {
   "cell_type": "code",
   "execution_count": 7,
   "id": "c4712bf8-4e34-412c-9220-666b7eaaa3eb",
   "metadata": {},
   "outputs": [
    {
     "data": {
      "text/plain": [
       "19208921"
      ]
     },
     "execution_count": 7,
     "metadata": {},
     "output_type": "execute_result"
    },
    {
     "name": "stdout",
     "output_type": "stream",
     "text": [
      "time: 3.17 ms (started: 2023-12-28 16:14:31 -03:00)\n"
     ]
    }
   ],
   "source": [
    "dados['quantity'].sum()"
   ]
  },
  {
   "cell_type": "markdown",
   "id": "706951a7-c6df-4602-8351-1bd6b9de69df",
   "metadata": {},
   "source": [
    "### 2.4. Total de vendas por variável\n",
    "\n",
    "**Highlights**: \n",
    "\n",
    "- As datas mais recentes são as que possuem mais vendas\n",
    "- Tennessee (1.351.608), Kentucky (1.298.425) e California (1.173.635) são os estados com mais vendas\n",
    "- Vestimentas de mulheres são os itens mais vendidos (11.283.595)\n",
    "- SouthCentral é a região/regional com maior quantidade de vendas (4.792.847)"
   ]
  },
  {
   "cell_type": "code",
   "execution_count": 8,
   "id": "d0aa9c58-982f-40fd-955c-4c13959b88ca",
   "metadata": {},
   "outputs": [
    {
     "name": "stdout",
     "output_type": "stream",
     "text": [
      ">>>>>>>>>> Coluna: date\n",
      "\n"
     ]
    },
    {
     "data": {
      "text/html": [
       "<div>\n",
       "<style scoped>\n",
       "    .dataframe tbody tr th:only-of-type {\n",
       "        vertical-align: middle;\n",
       "    }\n",
       "\n",
       "    .dataframe tbody tr th {\n",
       "        vertical-align: top;\n",
       "    }\n",
       "\n",
       "    .dataframe thead th {\n",
       "        text-align: right;\n",
       "    }\n",
       "</style>\n",
       "<table border=\"1\" class=\"dataframe\">\n",
       "  <thead>\n",
       "    <tr style=\"text-align: right;\">\n",
       "      <th></th>\n",
       "      <th>date</th>\n",
       "      <th>quantity</th>\n",
       "    </tr>\n",
       "  </thead>\n",
       "  <tbody>\n",
       "    <tr>\n",
       "      <th>4261</th>\n",
       "      <td>2009-07-26</td>\n",
       "      <td>6555</td>\n",
       "    </tr>\n",
       "    <tr>\n",
       "      <th>4241</th>\n",
       "      <td>2009-07-06</td>\n",
       "      <td>6551</td>\n",
       "    </tr>\n",
       "    <tr>\n",
       "      <th>4252</th>\n",
       "      <td>2009-07-17</td>\n",
       "      <td>6550</td>\n",
       "    </tr>\n",
       "    <tr>\n",
       "      <th>4249</th>\n",
       "      <td>2009-07-14</td>\n",
       "      <td>6538</td>\n",
       "    </tr>\n",
       "    <tr>\n",
       "      <th>4260</th>\n",
       "      <td>2009-07-25</td>\n",
       "      <td>6536</td>\n",
       "    </tr>\n",
       "    <tr>\n",
       "      <th>...</th>\n",
       "      <td>...</td>\n",
       "      <td>...</td>\n",
       "    </tr>\n",
       "    <tr>\n",
       "      <th>3</th>\n",
       "      <td>1997-11-28</td>\n",
       "      <td>3123</td>\n",
       "    </tr>\n",
       "    <tr>\n",
       "      <th>4</th>\n",
       "      <td>1997-11-29</td>\n",
       "      <td>3119</td>\n",
       "    </tr>\n",
       "    <tr>\n",
       "      <th>0</th>\n",
       "      <td>1997-11-25</td>\n",
       "      <td>3115</td>\n",
       "    </tr>\n",
       "    <tr>\n",
       "      <th>2</th>\n",
       "      <td>1997-11-27</td>\n",
       "      <td>3101</td>\n",
       "    </tr>\n",
       "    <tr>\n",
       "      <th>1</th>\n",
       "      <td>1997-11-26</td>\n",
       "      <td>3071</td>\n",
       "    </tr>\n",
       "  </tbody>\n",
       "</table>\n",
       "<p>4264 rows × 2 columns</p>\n",
       "</div>"
      ],
      "text/plain": [
       "            date  quantity\n",
       "4261  2009-07-26      6555\n",
       "4241  2009-07-06      6551\n",
       "4252  2009-07-17      6550\n",
       "4249  2009-07-14      6538\n",
       "4260  2009-07-25      6536\n",
       "...          ...       ...\n",
       "3     1997-11-28      3123\n",
       "4     1997-11-29      3119\n",
       "0     1997-11-25      3115\n",
       "2     1997-11-27      3101\n",
       "1     1997-11-26      3071\n",
       "\n",
       "[4264 rows x 2 columns]"
      ]
     },
     "metadata": {},
     "output_type": "display_data"
    },
    {
     "name": "stdout",
     "output_type": "stream",
     "text": [
      ">>>>>>>>>> Coluna: state\n",
      "\n"
     ]
    },
    {
     "data": {
      "text/html": [
       "<div>\n",
       "<style scoped>\n",
       "    .dataframe tbody tr th:only-of-type {\n",
       "        vertical-align: middle;\n",
       "    }\n",
       "\n",
       "    .dataframe tbody tr th {\n",
       "        vertical-align: top;\n",
       "    }\n",
       "\n",
       "    .dataframe thead th {\n",
       "        text-align: right;\n",
       "    }\n",
       "</style>\n",
       "<table border=\"1\" class=\"dataframe\">\n",
       "  <thead>\n",
       "    <tr style=\"text-align: right;\">\n",
       "      <th></th>\n",
       "      <th>state</th>\n",
       "      <th>quantity</th>\n",
       "    </tr>\n",
       "  </thead>\n",
       "  <tbody>\n",
       "    <tr>\n",
       "      <th>16</th>\n",
       "      <td>Tennessee</td>\n",
       "      <td>1351608</td>\n",
       "    </tr>\n",
       "    <tr>\n",
       "      <th>7</th>\n",
       "      <td>Kentucky</td>\n",
       "      <td>1298425</td>\n",
       "    </tr>\n",
       "    <tr>\n",
       "      <th>2</th>\n",
       "      <td>California</td>\n",
       "      <td>1173635</td>\n",
       "    </tr>\n",
       "    <tr>\n",
       "      <th>14</th>\n",
       "      <td>Pennsylvania</td>\n",
       "      <td>1166056</td>\n",
       "    </tr>\n",
       "    <tr>\n",
       "      <th>15</th>\n",
       "      <td>RhodeIsland</td>\n",
       "      <td>1151458</td>\n",
       "    </tr>\n",
       "    <tr>\n",
       "      <th>1</th>\n",
       "      <td>Alaska</td>\n",
       "      <td>1149948</td>\n",
       "    </tr>\n",
       "    <tr>\n",
       "      <th>17</th>\n",
       "      <td>Vermont</td>\n",
       "      <td>1109734</td>\n",
       "    </tr>\n",
       "    <tr>\n",
       "      <th>11</th>\n",
       "      <td>NewYork</td>\n",
       "      <td>1108082</td>\n",
       "    </tr>\n",
       "    <tr>\n",
       "      <th>9</th>\n",
       "      <td>Mississippi</td>\n",
       "      <td>1100123</td>\n",
       "    </tr>\n",
       "    <tr>\n",
       "      <th>0</th>\n",
       "      <td>Alabama</td>\n",
       "      <td>1042691</td>\n",
       "    </tr>\n",
       "    <tr>\n",
       "      <th>10</th>\n",
       "      <td>NewJersey</td>\n",
       "      <td>1030787</td>\n",
       "    </tr>\n",
       "    <tr>\n",
       "      <th>12</th>\n",
       "      <td>Ohio</td>\n",
       "      <td>1002982</td>\n",
       "    </tr>\n",
       "    <tr>\n",
       "      <th>6</th>\n",
       "      <td>Indiana</td>\n",
       "      <td>988159</td>\n",
       "    </tr>\n",
       "    <tr>\n",
       "      <th>13</th>\n",
       "      <td>Oregon</td>\n",
       "      <td>976281</td>\n",
       "    </tr>\n",
       "    <tr>\n",
       "      <th>3</th>\n",
       "      <td>Connecticut</td>\n",
       "      <td>951263</td>\n",
       "    </tr>\n",
       "    <tr>\n",
       "      <th>4</th>\n",
       "      <td>Hawaii</td>\n",
       "      <td>888594</td>\n",
       "    </tr>\n",
       "    <tr>\n",
       "      <th>5</th>\n",
       "      <td>Illinois</td>\n",
       "      <td>873087</td>\n",
       "    </tr>\n",
       "    <tr>\n",
       "      <th>8</th>\n",
       "      <td>Maine</td>\n",
       "      <td>846008</td>\n",
       "    </tr>\n",
       "  </tbody>\n",
       "</table>\n",
       "</div>"
      ],
      "text/plain": [
       "           state  quantity\n",
       "16     Tennessee   1351608\n",
       "7       Kentucky   1298425\n",
       "2     California   1173635\n",
       "14  Pennsylvania   1166056\n",
       "15   RhodeIsland   1151458\n",
       "1         Alaska   1149948\n",
       "17       Vermont   1109734\n",
       "11       NewYork   1108082\n",
       "9    Mississippi   1100123\n",
       "0        Alabama   1042691\n",
       "10     NewJersey   1030787\n",
       "12          Ohio   1002982\n",
       "6        Indiana    988159\n",
       "13        Oregon    976281\n",
       "3    Connecticut    951263\n",
       "4         Hawaii    888594\n",
       "5       Illinois    873087\n",
       "8          Maine    846008"
      ]
     },
     "metadata": {},
     "output_type": "display_data"
    },
    {
     "name": "stdout",
     "output_type": "stream",
     "text": [
      ">>>>>>>>>> Coluna: item\n",
      "\n"
     ]
    },
    {
     "data": {
      "text/html": [
       "<div>\n",
       "<style scoped>\n",
       "    .dataframe tbody tr th:only-of-type {\n",
       "        vertical-align: middle;\n",
       "    }\n",
       "\n",
       "    .dataframe tbody tr th {\n",
       "        vertical-align: top;\n",
       "    }\n",
       "\n",
       "    .dataframe thead th {\n",
       "        text-align: right;\n",
       "    }\n",
       "</style>\n",
       "<table border=\"1\" class=\"dataframe\">\n",
       "  <thead>\n",
       "    <tr style=\"text-align: right;\">\n",
       "      <th></th>\n",
       "      <th>item</th>\n",
       "      <th>quantity</th>\n",
       "    </tr>\n",
       "  </thead>\n",
       "  <tbody>\n",
       "    <tr>\n",
       "      <th>4</th>\n",
       "      <td>womens_clothing</td>\n",
       "      <td>11283595</td>\n",
       "    </tr>\n",
       "    <tr>\n",
       "      <th>0</th>\n",
       "      <td>kids_clothing</td>\n",
       "      <td>3331230</td>\n",
       "    </tr>\n",
       "    <tr>\n",
       "      <th>5</th>\n",
       "      <td>womens_shoes</td>\n",
       "      <td>2038735</td>\n",
       "    </tr>\n",
       "    <tr>\n",
       "      <th>1</th>\n",
       "      <td>kids_shoes</td>\n",
       "      <td>1261274</td>\n",
       "    </tr>\n",
       "    <tr>\n",
       "      <th>2</th>\n",
       "      <td>mens_clothing</td>\n",
       "      <td>1189688</td>\n",
       "    </tr>\n",
       "    <tr>\n",
       "      <th>3</th>\n",
       "      <td>mens_shoes</td>\n",
       "      <td>104399</td>\n",
       "    </tr>\n",
       "  </tbody>\n",
       "</table>\n",
       "</div>"
      ],
      "text/plain": [
       "              item  quantity\n",
       "4  womens_clothing  11283595\n",
       "0    kids_clothing   3331230\n",
       "5     womens_shoes   2038735\n",
       "1       kids_shoes   1261274\n",
       "2    mens_clothing   1189688\n",
       "3       mens_shoes    104399"
      ]
     },
     "metadata": {},
     "output_type": "display_data"
    },
    {
     "name": "stdout",
     "output_type": "stream",
     "text": [
      ">>>>>>>>>> Coluna: quantity\n",
      "\n"
     ]
    },
    {
     "data": {
      "text/html": [
       "<div>\n",
       "<style scoped>\n",
       "    .dataframe tbody tr th:only-of-type {\n",
       "        vertical-align: middle;\n",
       "    }\n",
       "\n",
       "    .dataframe tbody tr th {\n",
       "        vertical-align: top;\n",
       "    }\n",
       "\n",
       "    .dataframe thead th {\n",
       "        text-align: right;\n",
       "    }\n",
       "</style>\n",
       "<table border=\"1\" class=\"dataframe\">\n",
       "  <thead>\n",
       "    <tr style=\"text-align: right;\">\n",
       "      <th></th>\n",
       "      <th>quantity</th>\n",
       "    </tr>\n",
       "  </thead>\n",
       "  <tbody>\n",
       "    <tr>\n",
       "      <th>118</th>\n",
       "      <td>318840</td>\n",
       "    </tr>\n",
       "    <tr>\n",
       "      <th>121</th>\n",
       "      <td>318324</td>\n",
       "    </tr>\n",
       "    <tr>\n",
       "      <th>119</th>\n",
       "      <td>317262</td>\n",
       "    </tr>\n",
       "    <tr>\n",
       "      <th>120</th>\n",
       "      <td>315980</td>\n",
       "    </tr>\n",
       "    <tr>\n",
       "      <th>31</th>\n",
       "      <td>258225</td>\n",
       "    </tr>\n",
       "    <tr>\n",
       "      <th>...</th>\n",
       "      <td>...</td>\n",
       "    </tr>\n",
       "    <tr>\n",
       "      <th>217</th>\n",
       "      <td>438</td>\n",
       "    </tr>\n",
       "    <tr>\n",
       "      <th>264</th>\n",
       "      <td>277</td>\n",
       "    </tr>\n",
       "    <tr>\n",
       "      <th>240</th>\n",
       "      <td>246</td>\n",
       "    </tr>\n",
       "    <tr>\n",
       "      <th>239</th>\n",
       "      <td>244</td>\n",
       "    </tr>\n",
       "    <tr>\n",
       "      <th>0</th>\n",
       "      <td>116</td>\n",
       "    </tr>\n",
       "  </tbody>\n",
       "</table>\n",
       "<p>309 rows × 1 columns</p>\n",
       "</div>"
      ],
      "text/plain": [
       "     quantity\n",
       "118    318840\n",
       "121    318324\n",
       "119    317262\n",
       "120    315980\n",
       "31     258225\n",
       "..        ...\n",
       "217       438\n",
       "264       277\n",
       "240       246\n",
       "239       244\n",
       "0         116\n",
       "\n",
       "[309 rows x 1 columns]"
      ]
     },
     "metadata": {},
     "output_type": "display_data"
    },
    {
     "name": "stdout",
     "output_type": "stream",
     "text": [
      ">>>>>>>>>> Coluna: region\n",
      "\n"
     ]
    },
    {
     "data": {
      "text/html": [
       "<div>\n",
       "<style scoped>\n",
       "    .dataframe tbody tr th:only-of-type {\n",
       "        vertical-align: middle;\n",
       "    }\n",
       "\n",
       "    .dataframe tbody tr th {\n",
       "        vertical-align: top;\n",
       "    }\n",
       "\n",
       "    .dataframe thead th {\n",
       "        text-align: right;\n",
       "    }\n",
       "</style>\n",
       "<table border=\"1\" class=\"dataframe\">\n",
       "  <thead>\n",
       "    <tr style=\"text-align: right;\">\n",
       "      <th></th>\n",
       "      <th>region</th>\n",
       "      <th>quantity</th>\n",
       "    </tr>\n",
       "  </thead>\n",
       "  <tbody>\n",
       "    <tr>\n",
       "      <th>4</th>\n",
       "      <td>SouthCentral</td>\n",
       "      <td>4792847</td>\n",
       "    </tr>\n",
       "    <tr>\n",
       "      <th>3</th>\n",
       "      <td>Pacific</td>\n",
       "      <td>4188458</td>\n",
       "    </tr>\n",
       "    <tr>\n",
       "      <th>2</th>\n",
       "      <td>NewEngland</td>\n",
       "      <td>4058463</td>\n",
       "    </tr>\n",
       "    <tr>\n",
       "      <th>1</th>\n",
       "      <td>Mid-Alantic</td>\n",
       "      <td>3304925</td>\n",
       "    </tr>\n",
       "    <tr>\n",
       "      <th>0</th>\n",
       "      <td>EastNorthCentral</td>\n",
       "      <td>2864228</td>\n",
       "    </tr>\n",
       "  </tbody>\n",
       "</table>\n",
       "</div>"
      ],
      "text/plain": [
       "             region  quantity\n",
       "4      SouthCentral   4792847\n",
       "3           Pacific   4188458\n",
       "2        NewEngland   4058463\n",
       "1       Mid-Alantic   3304925\n",
       "0  EastNorthCentral   2864228"
      ]
     },
     "metadata": {},
     "output_type": "display_data"
    },
    {
     "name": "stdout",
     "output_type": "stream",
     "text": [
      ">>>>>>>>>> Coluna: country\n",
      "\n"
     ]
    },
    {
     "data": {
      "text/html": [
       "<div>\n",
       "<style scoped>\n",
       "    .dataframe tbody tr th:only-of-type {\n",
       "        vertical-align: middle;\n",
       "    }\n",
       "\n",
       "    .dataframe tbody tr th {\n",
       "        vertical-align: top;\n",
       "    }\n",
       "\n",
       "    .dataframe thead th {\n",
       "        text-align: right;\n",
       "    }\n",
       "</style>\n",
       "<table border=\"1\" class=\"dataframe\">\n",
       "  <thead>\n",
       "    <tr style=\"text-align: right;\">\n",
       "      <th></th>\n",
       "      <th>country</th>\n",
       "      <th>quantity</th>\n",
       "    </tr>\n",
       "  </thead>\n",
       "  <tbody>\n",
       "    <tr>\n",
       "      <th>0</th>\n",
       "      <td>USA</td>\n",
       "      <td>19208921</td>\n",
       "    </tr>\n",
       "  </tbody>\n",
       "</table>\n",
       "</div>"
      ],
      "text/plain": [
       "  country  quantity\n",
       "0     USA  19208921"
      ]
     },
     "metadata": {},
     "output_type": "display_data"
    },
    {
     "name": "stdout",
     "output_type": "stream",
     "text": [
      "time: 201 ms (started: 2023-12-28 16:14:31 -03:00)\n"
     ]
    }
   ],
   "source": [
    "for col in dados.columns:\n",
    "\n",
    "    print(f'>>>>>>>>>> Coluna: {col}\\n')\n",
    "\n",
    "    df_temp = dados\\\n",
    "        .groupby(col, dropna = False, as_index = False)['quantity']\\\n",
    "        .sum()\\\n",
    "        .sort_values(by = 'quantity', ascending = False)\n",
    "\n",
    "    display(df_temp)"
   ]
  },
  {
   "cell_type": "markdown",
   "id": "cf6073a3-896e-4f70-ad46-153c2cc1c72d",
   "metadata": {},
   "source": [
    "### 2.5. Temos nulos?\n",
    "\n",
    "No"
   ]
  },
  {
   "cell_type": "code",
   "execution_count": 9,
   "id": "154bb84a-6b2d-4d8e-bb3d-8bcef34fd632",
   "metadata": {},
   "outputs": [
    {
     "data": {
      "text/plain": [
       "date        0\n",
       "state       0\n",
       "item        0\n",
       "quantity    0\n",
       "region      0\n",
       "country     0\n",
       "dtype: int64"
      ]
     },
     "execution_count": 9,
     "metadata": {},
     "output_type": "execute_result"
    },
    {
     "name": "stdout",
     "output_type": "stream",
     "text": [
      "time: 52.7 ms (started: 2023-12-28 16:14:31 -03:00)\n"
     ]
    }
   ],
   "source": [
    "dados.isnull().sum()"
   ]
  },
  {
   "cell_type": "markdown",
   "id": "f28f3039-989b-4b54-99ef-9c063d6e020a",
   "metadata": {},
   "source": [
    "### X. TO-DOs:\n",
    "\n",
    "- Corrigir o tipo da variável data\n",
    "- Excluir a coluna country\n",
    "- "
   ]
  },
  {
   "cell_type": "code",
   "execution_count": null,
   "id": "b7954a46-7273-4681-be17-e54ef48a8b3e",
   "metadata": {},
   "outputs": [],
   "source": []
  }
 ],
 "metadata": {
  "kernelspec": {
   "display_name": "Python 3 (ipykernel)",
   "language": "python",
   "name": "python3"
  },
  "language_info": {
   "codemirror_mode": {
    "name": "ipython",
    "version": 3
   },
   "file_extension": ".py",
   "mimetype": "text/x-python",
   "name": "python",
   "nbconvert_exporter": "python",
   "pygments_lexer": "ipython3",
   "version": "3.10.6"
  }
 },
 "nbformat": 4,
 "nbformat_minor": 5
}
