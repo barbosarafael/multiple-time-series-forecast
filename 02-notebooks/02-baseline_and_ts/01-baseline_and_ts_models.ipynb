{
 "cells": [
  {
   "cell_type": "markdown",
   "id": "2da93d00-bc47-4d5d-b60d-bbed4977614b",
   "metadata": {},
   "source": [
    "# Baseline do projeto\n",
    "\n",
    "**Objetivo**: Criar um modelo simples de projeção para todas as nossas séries. \n",
    "\n",
    "**Metodologia**: Naive ou HistoricAverage"
   ]
  },
  {
   "cell_type": "markdown",
   "id": "4dcfa96b-bb88-4d49-b0fe-37e18b813067",
   "metadata": {},
   "source": [
    "## 0. Setup"
   ]
  },
  {
   "cell_type": "code",
   "execution_count": 1,
   "id": "2557e764-2692-481e-b5aa-acbfe1cfb93e",
   "metadata": {},
   "outputs": [
    {
     "name": "stdout",
     "output_type": "stream",
     "text": [
      "time: 95.4 µs (started: 2024-01-02 12:58:33 -03:00)\n"
     ]
    }
   ],
   "source": [
    "%load_ext autotime"
   ]
  },
  {
   "cell_type": "code",
   "execution_count": 2,
   "id": "06549e4f-9c06-4888-b9d5-6c74c26c4ab3",
   "metadata": {},
   "outputs": [
    {
     "name": "stderr",
     "output_type": "stream",
     "text": [
      "/home/rafa/Documentos/github/multiple-time-series-forecast/venv/lib/python3.10/site-packages/statsforecast/core.py:26: TqdmWarning: IProgress not found. Please update jupyter and ipywidgets. See https://ipywidgets.readthedocs.io/en/stable/user_install.html\n",
      "  from tqdm.autonotebook import tqdm\n"
     ]
    },
    {
     "name": "stdout",
     "output_type": "stream",
     "text": [
      "time: 4.25 s (started: 2024-01-02 12:58:33 -03:00)\n"
     ]
    }
   ],
   "source": [
    "#---- Manipulação de dados:\n",
    "\n",
    "import pandas as pd\n",
    "import numpy as np\n",
    "\n",
    "#---- Modelagem:\n",
    "\n",
    "from hierarchicalforecast.utils import aggregate\n",
    "from statsforecast import StatsForecast\n",
    "from statsforecast.models import HistoricAverage, Naive, SeasonalNaive, AutoARIMA, HoltWinters, AutoETS\n",
    "\n",
    "#---- Reconciliação\n",
    "\n",
    "from hierarchicalforecast.methods import BottomUp, TopDown, ERM, OptimalCombination, MinTrace, MiddleOut\n",
    "from hierarchicalforecast.core import HierarchicalReconciliation\n",
    "\n",
    "#---- Visualização\n",
    "\n",
    "import plotly.express as px"
   ]
  },
  {
   "cell_type": "markdown",
   "id": "ba1f788c-d0b4-42e4-bfd4-2fb54590d30b",
   "metadata": {},
   "source": [
    "## 1. Dados: vendas de roupas no varejo"
   ]
  },
  {
   "cell_type": "code",
   "execution_count": 3,
   "id": "93320272-0944-46c3-9a29-e7316bf00f95",
   "metadata": {},
   "outputs": [
    {
     "data": {
      "text/html": [
       "<div>\n",
       "<style scoped>\n",
       "    .dataframe tbody tr th:only-of-type {\n",
       "        vertical-align: middle;\n",
       "    }\n",
       "\n",
       "    .dataframe tbody tr th {\n",
       "        vertical-align: top;\n",
       "    }\n",
       "\n",
       "    .dataframe thead th {\n",
       "        text-align: right;\n",
       "    }\n",
       "</style>\n",
       "<table border=\"1\" class=\"dataframe\">\n",
       "  <thead>\n",
       "    <tr style=\"text-align: right;\">\n",
       "      <th></th>\n",
       "      <th>date</th>\n",
       "      <th>state</th>\n",
       "      <th>item</th>\n",
       "      <th>quantity</th>\n",
       "      <th>region</th>\n",
       "      <th>country</th>\n",
       "    </tr>\n",
       "  </thead>\n",
       "  <tbody>\n",
       "    <tr>\n",
       "      <th>0</th>\n",
       "      <td>1997-11-25</td>\n",
       "      <td>NewYork</td>\n",
       "      <td>mens_clothing</td>\n",
       "      <td>8</td>\n",
       "      <td>Mid-Alantic</td>\n",
       "      <td>USA</td>\n",
       "    </tr>\n",
       "    <tr>\n",
       "      <th>1</th>\n",
       "      <td>1997-11-26</td>\n",
       "      <td>NewYork</td>\n",
       "      <td>mens_clothing</td>\n",
       "      <td>9</td>\n",
       "      <td>Mid-Alantic</td>\n",
       "      <td>USA</td>\n",
       "    </tr>\n",
       "    <tr>\n",
       "      <th>2</th>\n",
       "      <td>1997-11-27</td>\n",
       "      <td>NewYork</td>\n",
       "      <td>mens_clothing</td>\n",
       "      <td>11</td>\n",
       "      <td>Mid-Alantic</td>\n",
       "      <td>USA</td>\n",
       "    </tr>\n",
       "    <tr>\n",
       "      <th>3</th>\n",
       "      <td>1997-11-28</td>\n",
       "      <td>NewYork</td>\n",
       "      <td>mens_clothing</td>\n",
       "      <td>11</td>\n",
       "      <td>Mid-Alantic</td>\n",
       "      <td>USA</td>\n",
       "    </tr>\n",
       "    <tr>\n",
       "      <th>4</th>\n",
       "      <td>1997-11-29</td>\n",
       "      <td>NewYork</td>\n",
       "      <td>mens_clothing</td>\n",
       "      <td>10</td>\n",
       "      <td>Mid-Alantic</td>\n",
       "      <td>USA</td>\n",
       "    </tr>\n",
       "  </tbody>\n",
       "</table>\n",
       "</div>"
      ],
      "text/plain": [
       "         date    state           item  quantity       region country\n",
       "0  1997-11-25  NewYork  mens_clothing         8  Mid-Alantic     USA\n",
       "1  1997-11-26  NewYork  mens_clothing         9  Mid-Alantic     USA\n",
       "2  1997-11-27  NewYork  mens_clothing        11  Mid-Alantic     USA\n",
       "3  1997-11-28  NewYork  mens_clothing        11  Mid-Alantic     USA\n",
       "4  1997-11-29  NewYork  mens_clothing        10  Mid-Alantic     USA"
      ]
     },
     "execution_count": 3,
     "metadata": {},
     "output_type": "execute_result"
    },
    {
     "name": "stdout",
     "output_type": "stream",
     "text": [
      "time: 1.99 s (started: 2024-01-02 12:58:37 -03:00)\n"
     ]
    }
   ],
   "source": [
    "dados = pd.read_csv('https://raw.githubusercontent.com/aws-samples/amazon-sagemaker-hierarchical-forecasting/main/retail-usa-clothing.csv')\n",
    "\n",
    "dados.head()"
   ]
  },
  {
   "cell_type": "code",
   "execution_count": 4,
   "id": "703297e3-1652-4727-9b18-c9ac373696c1",
   "metadata": {},
   "outputs": [
    {
     "name": "stdout",
     "output_type": "stream",
     "text": [
      "<class 'pandas.core.frame.DataFrame'>\n",
      "RangeIndex: 388024 entries, 0 to 388023\n",
      "Data columns (total 6 columns):\n",
      " #   Column    Non-Null Count   Dtype \n",
      "---  ------    --------------   ----- \n",
      " 0   date      388024 non-null  object\n",
      " 1   state     388024 non-null  object\n",
      " 2   item      388024 non-null  object\n",
      " 3   quantity  388024 non-null  int64 \n",
      " 4   region    388024 non-null  object\n",
      " 5   country   388024 non-null  object\n",
      "dtypes: int64(1), object(5)\n",
      "memory usage: 17.8+ MB\n",
      "time: 80.2 ms (started: 2024-01-02 12:58:39 -03:00)\n"
     ]
    }
   ],
   "source": [
    "dados.info()"
   ]
  },
  {
   "cell_type": "markdown",
   "id": "7303d5ca-61fb-4679-878f-89ac4888edf4",
   "metadata": {},
   "source": [
    "## 2. Modificação nos dados "
   ]
  },
  {
   "cell_type": "code",
   "execution_count": 5,
   "id": "75cb6b8b-03a1-4768-9e60-214606dadb7f",
   "metadata": {},
   "outputs": [
    {
     "name": "stdout",
     "output_type": "stream",
     "text": [
      "time: 885 µs (started: 2024-01-02 12:58:39 -03:00)\n"
     ]
    }
   ],
   "source": [
    "def clean_data_baseline(df: pd.DataFrame):\n",
    "\n",
    "    #---- 1. Excluindo a variável de country:\n",
    "\n",
    "    df = df\\\n",
    "        .drop(columns = 'country')\n",
    "\n",
    "    #---- 2. Mudando o tipo da variável de date para datetime:\n",
    "\n",
    "    df['date'] = pd.to_datetime(df['date'])\n",
    "\n",
    "    #---- 3. Renomeando as variáveis de quantidade de vendas e data:\n",
    "    # date -> ds\n",
    "    # quantity -> y\n",
    "\n",
    "    df = df\\\n",
    "        .rename(columns = {'date': 'ds', \n",
    "                           'quantity': 'y'})\n",
    "\n",
    "    return df"
   ]
  },
  {
   "cell_type": "code",
   "execution_count": 6,
   "id": "296b83a2-cd3a-4920-b992-afd9752364ac",
   "metadata": {},
   "outputs": [
    {
     "data": {
      "text/html": [
       "<div>\n",
       "<style scoped>\n",
       "    .dataframe tbody tr th:only-of-type {\n",
       "        vertical-align: middle;\n",
       "    }\n",
       "\n",
       "    .dataframe tbody tr th {\n",
       "        vertical-align: top;\n",
       "    }\n",
       "\n",
       "    .dataframe thead th {\n",
       "        text-align: right;\n",
       "    }\n",
       "</style>\n",
       "<table border=\"1\" class=\"dataframe\">\n",
       "  <thead>\n",
       "    <tr style=\"text-align: right;\">\n",
       "      <th></th>\n",
       "      <th>ds</th>\n",
       "      <th>state</th>\n",
       "      <th>item</th>\n",
       "      <th>y</th>\n",
       "      <th>region</th>\n",
       "    </tr>\n",
       "  </thead>\n",
       "  <tbody>\n",
       "    <tr>\n",
       "      <th>0</th>\n",
       "      <td>1997-11-25</td>\n",
       "      <td>NewYork</td>\n",
       "      <td>mens_clothing</td>\n",
       "      <td>8</td>\n",
       "      <td>Mid-Alantic</td>\n",
       "    </tr>\n",
       "    <tr>\n",
       "      <th>1</th>\n",
       "      <td>1997-11-26</td>\n",
       "      <td>NewYork</td>\n",
       "      <td>mens_clothing</td>\n",
       "      <td>9</td>\n",
       "      <td>Mid-Alantic</td>\n",
       "    </tr>\n",
       "    <tr>\n",
       "      <th>2</th>\n",
       "      <td>1997-11-27</td>\n",
       "      <td>NewYork</td>\n",
       "      <td>mens_clothing</td>\n",
       "      <td>11</td>\n",
       "      <td>Mid-Alantic</td>\n",
       "    </tr>\n",
       "    <tr>\n",
       "      <th>3</th>\n",
       "      <td>1997-11-28</td>\n",
       "      <td>NewYork</td>\n",
       "      <td>mens_clothing</td>\n",
       "      <td>11</td>\n",
       "      <td>Mid-Alantic</td>\n",
       "    </tr>\n",
       "    <tr>\n",
       "      <th>4</th>\n",
       "      <td>1997-11-29</td>\n",
       "      <td>NewYork</td>\n",
       "      <td>mens_clothing</td>\n",
       "      <td>10</td>\n",
       "      <td>Mid-Alantic</td>\n",
       "    </tr>\n",
       "  </tbody>\n",
       "</table>\n",
       "</div>"
      ],
      "text/plain": [
       "          ds    state           item   y       region\n",
       "0 1997-11-25  NewYork  mens_clothing   8  Mid-Alantic\n",
       "1 1997-11-26  NewYork  mens_clothing   9  Mid-Alantic\n",
       "2 1997-11-27  NewYork  mens_clothing  11  Mid-Alantic\n",
       "3 1997-11-28  NewYork  mens_clothing  11  Mid-Alantic\n",
       "4 1997-11-29  NewYork  mens_clothing  10  Mid-Alantic"
      ]
     },
     "execution_count": 6,
     "metadata": {},
     "output_type": "execute_result"
    },
    {
     "name": "stdout",
     "output_type": "stream",
     "text": [
      "time: 120 ms (started: 2024-01-02 12:58:39 -03:00)\n"
     ]
    }
   ],
   "source": [
    "df = clean_data_baseline(df = dados)\n",
    "\n",
    "df.head()"
   ]
  },
  {
   "cell_type": "code",
   "execution_count": 7,
   "id": "3afc572f-4479-45ef-b9c0-2dfe4af461ce",
   "metadata": {},
   "outputs": [
    {
     "name": "stdout",
     "output_type": "stream",
     "text": [
      "time: 915 µs (started: 2024-01-02 12:58:39 -03:00)\n"
     ]
    }
   ],
   "source": [
    "def format_hierarchical_df(df: pd.DataFrame, cols_hierarchical: list):\n",
    "\n",
    "    #---- 1. Cria uma lista de listas: [[col1], [col1, col2], ..., [col1, col2, coln]]\n",
    "\n",
    "    hier_list = [cols_hierarchical[:i] for i in range(1, len(cols_hierarchical) + 1)]\n",
    "\n",
    "    #---- 2. Aplica a função aggregate que formata os dados em que a lib hierarchical pede\n",
    "\n",
    "    Y_df, S_df, tags = aggregate(df = df, spec = hier_list)\n",
    "\n",
    "    return Y_df, S_df, tags"
   ]
  },
  {
   "cell_type": "code",
   "execution_count": 8,
   "id": "999fc534-c03f-4553-a325-1a623f8f9228",
   "metadata": {},
   "outputs": [
    {
     "name": "stdout",
     "output_type": "stream",
     "text": [
      "time: 697 ms (started: 2024-01-02 12:58:39 -03:00)\n"
     ]
    }
   ],
   "source": [
    "cols_hierarchical = ['region', 'state', 'item']\n",
    "\n",
    "Y_df, S_df, tags = format_hierarchical_df(df = df, cols_hierarchical = cols_hierarchical)"
   ]
  },
  {
   "cell_type": "code",
   "execution_count": 9,
   "id": "98141e69-66c8-4ea6-af22-963af1f42a3c",
   "metadata": {},
   "outputs": [
    {
     "data": {
      "text/html": [
       "<div>\n",
       "<style scoped>\n",
       "    .dataframe tbody tr th:only-of-type {\n",
       "        vertical-align: middle;\n",
       "    }\n",
       "\n",
       "    .dataframe tbody tr th {\n",
       "        vertical-align: top;\n",
       "    }\n",
       "\n",
       "    .dataframe thead th {\n",
       "        text-align: right;\n",
       "    }\n",
       "</style>\n",
       "<table border=\"1\" class=\"dataframe\">\n",
       "  <thead>\n",
       "    <tr style=\"text-align: right;\">\n",
       "      <th></th>\n",
       "      <th>ds</th>\n",
       "      <th>y</th>\n",
       "    </tr>\n",
       "    <tr>\n",
       "      <th>unique_id</th>\n",
       "      <th></th>\n",
       "      <th></th>\n",
       "    </tr>\n",
       "  </thead>\n",
       "  <tbody>\n",
       "    <tr>\n",
       "      <th>EastNorthCentral</th>\n",
       "      <td>1997-11-25</td>\n",
       "      <td>507</td>\n",
       "    </tr>\n",
       "    <tr>\n",
       "      <th>EastNorthCentral</th>\n",
       "      <td>1997-11-26</td>\n",
       "      <td>504</td>\n",
       "    </tr>\n",
       "    <tr>\n",
       "      <th>EastNorthCentral</th>\n",
       "      <td>1997-11-27</td>\n",
       "      <td>510</td>\n",
       "    </tr>\n",
       "    <tr>\n",
       "      <th>EastNorthCentral</th>\n",
       "      <td>1997-11-28</td>\n",
       "      <td>507</td>\n",
       "    </tr>\n",
       "    <tr>\n",
       "      <th>EastNorthCentral</th>\n",
       "      <td>1997-11-29</td>\n",
       "      <td>513</td>\n",
       "    </tr>\n",
       "  </tbody>\n",
       "</table>\n",
       "</div>"
      ],
      "text/plain": [
       "                         ds    y\n",
       "unique_id                       \n",
       "EastNorthCentral 1997-11-25  507\n",
       "EastNorthCentral 1997-11-26  504\n",
       "EastNorthCentral 1997-11-27  510\n",
       "EastNorthCentral 1997-11-28  507\n",
       "EastNorthCentral 1997-11-29  513"
      ]
     },
     "metadata": {},
     "output_type": "display_data"
    },
    {
     "data": {
      "text/html": [
       "<div>\n",
       "<style scoped>\n",
       "    .dataframe tbody tr th:only-of-type {\n",
       "        vertical-align: middle;\n",
       "    }\n",
       "\n",
       "    .dataframe tbody tr th {\n",
       "        vertical-align: top;\n",
       "    }\n",
       "\n",
       "    .dataframe thead th {\n",
       "        text-align: right;\n",
       "    }\n",
       "</style>\n",
       "<table border=\"1\" class=\"dataframe\">\n",
       "  <thead>\n",
       "    <tr style=\"text-align: right;\">\n",
       "      <th></th>\n",
       "      <th>ds</th>\n",
       "      <th>y</th>\n",
       "    </tr>\n",
       "    <tr>\n",
       "      <th>unique_id</th>\n",
       "      <th></th>\n",
       "      <th></th>\n",
       "    </tr>\n",
       "  </thead>\n",
       "  <tbody>\n",
       "    <tr>\n",
       "      <th>SouthCentral/Tennessee/womens_shoes</th>\n",
       "      <td>2009-07-24</td>\n",
       "      <td>31</td>\n",
       "    </tr>\n",
       "    <tr>\n",
       "      <th>SouthCentral/Tennessee/womens_shoes</th>\n",
       "      <td>2009-07-25</td>\n",
       "      <td>30</td>\n",
       "    </tr>\n",
       "    <tr>\n",
       "      <th>SouthCentral/Tennessee/womens_shoes</th>\n",
       "      <td>2009-07-26</td>\n",
       "      <td>31</td>\n",
       "    </tr>\n",
       "    <tr>\n",
       "      <th>SouthCentral/Tennessee/womens_shoes</th>\n",
       "      <td>2009-07-27</td>\n",
       "      <td>29</td>\n",
       "    </tr>\n",
       "    <tr>\n",
       "      <th>SouthCentral/Tennessee/womens_shoes</th>\n",
       "      <td>2009-07-28</td>\n",
       "      <td>30</td>\n",
       "    </tr>\n",
       "  </tbody>\n",
       "</table>\n",
       "</div>"
      ],
      "text/plain": [
       "                                            ds   y\n",
       "unique_id                                         \n",
       "SouthCentral/Tennessee/womens_shoes 2009-07-24  31\n",
       "SouthCentral/Tennessee/womens_shoes 2009-07-25  30\n",
       "SouthCentral/Tennessee/womens_shoes 2009-07-26  31\n",
       "SouthCentral/Tennessee/womens_shoes 2009-07-27  29\n",
       "SouthCentral/Tennessee/womens_shoes 2009-07-28  30"
      ]
     },
     "metadata": {},
     "output_type": "display_data"
    },
    {
     "name": "stdout",
     "output_type": "stream",
     "text": [
      "time: 10.3 ms (started: 2024-01-02 12:58:40 -03:00)\n"
     ]
    }
   ],
   "source": [
    "display(Y_df.head())\n",
    "display(Y_df.tail())"
   ]
  },
  {
   "cell_type": "markdown",
   "id": "9420bec3-4c93-4604-9635-9ca7d0e4dae4",
   "metadata": {},
   "source": [
    "- **Dados de treino: 25/11/1997 a 31/12/2008**\n",
    "- **Dados de validação: 01/01/2009 a 28/07/2009**"
   ]
  },
  {
   "cell_type": "code",
   "execution_count": 10,
   "id": "99995911-9337-45c4-86b4-1621fbea7353",
   "metadata": {},
   "outputs": [
    {
     "name": "stdout",
     "output_type": "stream",
     "text": [
      "time: 531 µs (started: 2024-01-02 12:58:40 -03:00)\n"
     ]
    }
   ],
   "source": [
    "def split_train_test(df: pd.DataFrame, dt_start_train: str):\n",
    "\n",
    "    #---- 1. Dados de treino\n",
    "\n",
    "    train = df.query(f'ds < \"{dt_start_train}\"')\n",
    "\n",
    "    #---- 2. Dados de teste:\n",
    "    \n",
    "    valid = df.query(f'ds >= \"{dt_start_train}\"')\n",
    "\n",
    "    return train, valid"
   ]
  },
  {
   "cell_type": "code",
   "execution_count": 11,
   "id": "81fb172d-6cbb-42bf-aa05-0ce41449f927",
   "metadata": {},
   "outputs": [
    {
     "name": "stdout",
     "output_type": "stream",
     "text": [
      "time: 75.3 ms (started: 2024-01-02 12:58:40 -03:00)\n"
     ]
    }
   ],
   "source": [
    "Y_train_df, Y_valid_df = split_train_test(df = Y_df, dt_start_train = '2009-01-01')"
   ]
  },
  {
   "cell_type": "code",
   "execution_count": 12,
   "id": "47b95cd4-22d4-4bb8-9b74-63256f9db6d8",
   "metadata": {},
   "outputs": [
    {
     "data": {
      "text/html": [
       "<div>\n",
       "<style scoped>\n",
       "    .dataframe tbody tr th:only-of-type {\n",
       "        vertical-align: middle;\n",
       "    }\n",
       "\n",
       "    .dataframe tbody tr th {\n",
       "        vertical-align: top;\n",
       "    }\n",
       "\n",
       "    .dataframe thead th {\n",
       "        text-align: right;\n",
       "    }\n",
       "</style>\n",
       "<table border=\"1\" class=\"dataframe\">\n",
       "  <thead>\n",
       "    <tr style=\"text-align: right;\">\n",
       "      <th></th>\n",
       "      <th>ds</th>\n",
       "      <th>y</th>\n",
       "    </tr>\n",
       "    <tr>\n",
       "      <th>unique_id</th>\n",
       "      <th></th>\n",
       "      <th></th>\n",
       "    </tr>\n",
       "  </thead>\n",
       "  <tbody>\n",
       "    <tr>\n",
       "      <th>EastNorthCentral</th>\n",
       "      <td>1997-11-25</td>\n",
       "      <td>507</td>\n",
       "    </tr>\n",
       "    <tr>\n",
       "      <th>EastNorthCentral</th>\n",
       "      <td>1997-11-26</td>\n",
       "      <td>504</td>\n",
       "    </tr>\n",
       "    <tr>\n",
       "      <th>EastNorthCentral</th>\n",
       "      <td>1997-11-27</td>\n",
       "      <td>510</td>\n",
       "    </tr>\n",
       "    <tr>\n",
       "      <th>EastNorthCentral</th>\n",
       "      <td>1997-11-28</td>\n",
       "      <td>507</td>\n",
       "    </tr>\n",
       "    <tr>\n",
       "      <th>EastNorthCentral</th>\n",
       "      <td>1997-11-29</td>\n",
       "      <td>513</td>\n",
       "    </tr>\n",
       "  </tbody>\n",
       "</table>\n",
       "</div>"
      ],
      "text/plain": [
       "                         ds    y\n",
       "unique_id                       \n",
       "EastNorthCentral 1997-11-25  507\n",
       "EastNorthCentral 1997-11-26  504\n",
       "EastNorthCentral 1997-11-27  510\n",
       "EastNorthCentral 1997-11-28  507\n",
       "EastNorthCentral 1997-11-29  513"
      ]
     },
     "metadata": {},
     "output_type": "display_data"
    },
    {
     "data": {
      "text/html": [
       "<div>\n",
       "<style scoped>\n",
       "    .dataframe tbody tr th:only-of-type {\n",
       "        vertical-align: middle;\n",
       "    }\n",
       "\n",
       "    .dataframe tbody tr th {\n",
       "        vertical-align: top;\n",
       "    }\n",
       "\n",
       "    .dataframe thead th {\n",
       "        text-align: right;\n",
       "    }\n",
       "</style>\n",
       "<table border=\"1\" class=\"dataframe\">\n",
       "  <thead>\n",
       "    <tr style=\"text-align: right;\">\n",
       "      <th></th>\n",
       "      <th>ds</th>\n",
       "      <th>y</th>\n",
       "    </tr>\n",
       "    <tr>\n",
       "      <th>unique_id</th>\n",
       "      <th></th>\n",
       "      <th></th>\n",
       "    </tr>\n",
       "  </thead>\n",
       "  <tbody>\n",
       "    <tr>\n",
       "      <th>SouthCentral/Tennessee/womens_shoes</th>\n",
       "      <td>2008-12-27</td>\n",
       "      <td>31</td>\n",
       "    </tr>\n",
       "    <tr>\n",
       "      <th>SouthCentral/Tennessee/womens_shoes</th>\n",
       "      <td>2008-12-28</td>\n",
       "      <td>29</td>\n",
       "    </tr>\n",
       "    <tr>\n",
       "      <th>SouthCentral/Tennessee/womens_shoes</th>\n",
       "      <td>2008-12-29</td>\n",
       "      <td>28</td>\n",
       "    </tr>\n",
       "    <tr>\n",
       "      <th>SouthCentral/Tennessee/womens_shoes</th>\n",
       "      <td>2008-12-30</td>\n",
       "      <td>31</td>\n",
       "    </tr>\n",
       "    <tr>\n",
       "      <th>SouthCentral/Tennessee/womens_shoes</th>\n",
       "      <td>2008-12-31</td>\n",
       "      <td>31</td>\n",
       "    </tr>\n",
       "  </tbody>\n",
       "</table>\n",
       "</div>"
      ],
      "text/plain": [
       "                                            ds   y\n",
       "unique_id                                         \n",
       "SouthCentral/Tennessee/womens_shoes 2008-12-27  31\n",
       "SouthCentral/Tennessee/womens_shoes 2008-12-28  29\n",
       "SouthCentral/Tennessee/womens_shoes 2008-12-29  28\n",
       "SouthCentral/Tennessee/womens_shoes 2008-12-30  31\n",
       "SouthCentral/Tennessee/womens_shoes 2008-12-31  31"
      ]
     },
     "metadata": {},
     "output_type": "display_data"
    },
    {
     "name": "stdout",
     "output_type": "stream",
     "text": [
      "time: 10.3 ms (started: 2024-01-02 12:58:40 -03:00)\n"
     ]
    }
   ],
   "source": [
    "display(Y_train_df.head())\n",
    "display(Y_train_df.tail())"
   ]
  },
  {
   "cell_type": "markdown",
   "id": "8956e935-9676-4bb9-af9e-1fe224fab5ff",
   "metadata": {},
   "source": [
    "## 3. Modelagem"
   ]
  },
  {
   "cell_type": "markdown",
   "id": "48df862f-9d21-4130-9e21-d569fe1071ce",
   "metadata": {},
   "source": [
    "### 3.1. Fit do modelo"
   ]
  },
  {
   "cell_type": "code",
   "execution_count": 13,
   "id": "1f617405-0127-4fe6-9480-68b01f06ea78",
   "metadata": {},
   "outputs": [
    {
     "data": {
      "text/plain": [
       "StatsForecast(models=[Naive,AutoARIMA,HoltWinters,AutoETS])"
      ]
     },
     "execution_count": 13,
     "metadata": {},
     "output_type": "execute_result"
    },
    {
     "name": "stdout",
     "output_type": "stream",
     "text": [
      "time: 6min 22s (started: 2024-01-02 12:58:40 -03:00)\n"
     ]
    }
   ],
   "source": [
    "#---- Modelos:\n",
    "\n",
    "naive = Naive() # baseline\n",
    "arima = AutoARIMA(season_length = 7) # ARIMA com sazonalidade de 7 dias\n",
    "hw = HoltWinters(season_length = 7, error_type = 'A') # Holtwinters com sazonalidade de 7 dias e erro do tipo Aditivo\n",
    "ets = AutoETS(season_length = 7) # ETS com sazonalidade de 7 dias\n",
    "\n",
    "model = StatsForecast(models = [naive, arima, hw, ets], freq = 'D', n_jobs = -1)\n",
    "model.fit(Y_train_df)"
   ]
  },
  {
   "cell_type": "markdown",
   "id": "ecb72d0e-ecbb-484f-8b8c-d4fb7176bf68",
   "metadata": {},
   "source": [
    "### 3.2. Predict para comparação entre os dados de validação"
   ]
  },
  {
   "cell_type": "code",
   "execution_count": 14,
   "id": "76ca4d76-09a2-47cb-a79e-86d46533d0ff",
   "metadata": {},
   "outputs": [
    {
     "name": "stderr",
     "output_type": "stream",
     "text": [
      "Forecast: 100%|█████████████████████████████████| 14/14 [04:50<00:00, 20.74s/it]\n",
      "Forecast: 100%|█████████████████████████████████| 14/14 [05:06<00:00, 21.87s/it]\n",
      "Forecast: 100%|█████████████████████████████████| 14/14 [05:14<00:00, 22.46s/it]\n",
      "Forecast: 100%|█████████████████████████████████| 14/14 [05:16<00:00, 22.57s/it]\n",
      "Forecast: 100%|█████████████████████████████████| 15/15 [05:31<00:00, 22.13s/it]\n",
      "Forecast: 100%|█████████████████████████████████| 14/14 [05:40<00:00, 24.31s/it]\n",
      "Forecast: 100%|█████████████████████████████████| 14/14 [06:01<00:00, 25.79s/it]\n",
      "Forecast: 100%|█████████████████████████████████| 15/15 [06:10<00:00, 24.67s/it]\n"
     ]
    },
    {
     "data": {
      "text/html": [
       "<div>\n",
       "<style scoped>\n",
       "    .dataframe tbody tr th:only-of-type {\n",
       "        vertical-align: middle;\n",
       "    }\n",
       "\n",
       "    .dataframe tbody tr th {\n",
       "        vertical-align: top;\n",
       "    }\n",
       "\n",
       "    .dataframe thead th {\n",
       "        text-align: right;\n",
       "    }\n",
       "</style>\n",
       "<table border=\"1\" class=\"dataframe\">\n",
       "  <thead>\n",
       "    <tr style=\"text-align: right;\">\n",
       "      <th></th>\n",
       "      <th>ds</th>\n",
       "      <th>Naive</th>\n",
       "      <th>AutoARIMA</th>\n",
       "      <th>HoltWinters</th>\n",
       "      <th>AutoETS</th>\n",
       "    </tr>\n",
       "    <tr>\n",
       "      <th>unique_id</th>\n",
       "      <th></th>\n",
       "      <th></th>\n",
       "      <th></th>\n",
       "      <th></th>\n",
       "      <th></th>\n",
       "    </tr>\n",
       "  </thead>\n",
       "  <tbody>\n",
       "    <tr>\n",
       "      <th>EastNorthCentral</th>\n",
       "      <td>2009-01-01</td>\n",
       "      <td>924.0</td>\n",
       "      <td>922.722961</td>\n",
       "      <td>922.791016</td>\n",
       "      <td>922.932312</td>\n",
       "    </tr>\n",
       "    <tr>\n",
       "      <th>EastNorthCentral</th>\n",
       "      <td>2009-01-02</td>\n",
       "      <td>924.0</td>\n",
       "      <td>923.092468</td>\n",
       "      <td>922.377808</td>\n",
       "      <td>922.932861</td>\n",
       "    </tr>\n",
       "    <tr>\n",
       "      <th>EastNorthCentral</th>\n",
       "      <td>2009-01-03</td>\n",
       "      <td>924.0</td>\n",
       "      <td>923.023865</td>\n",
       "      <td>922.800781</td>\n",
       "      <td>922.933350</td>\n",
       "    </tr>\n",
       "    <tr>\n",
       "      <th>EastNorthCentral</th>\n",
       "      <td>2009-01-04</td>\n",
       "      <td>924.0</td>\n",
       "      <td>923.023865</td>\n",
       "      <td>922.498047</td>\n",
       "      <td>922.933838</td>\n",
       "    </tr>\n",
       "    <tr>\n",
       "      <th>EastNorthCentral</th>\n",
       "      <td>2009-01-05</td>\n",
       "      <td>924.0</td>\n",
       "      <td>922.937805</td>\n",
       "      <td>923.066284</td>\n",
       "      <td>922.934326</td>\n",
       "    </tr>\n",
       "  </tbody>\n",
       "</table>\n",
       "</div>"
      ],
      "text/plain": [
       "                         ds  Naive   AutoARIMA  HoltWinters     AutoETS\n",
       "unique_id                                                              \n",
       "EastNorthCentral 2009-01-01  924.0  922.722961   922.791016  922.932312\n",
       "EastNorthCentral 2009-01-02  924.0  923.092468   922.377808  922.932861\n",
       "EastNorthCentral 2009-01-03  924.0  923.023865   922.800781  922.933350\n",
       "EastNorthCentral 2009-01-04  924.0  923.023865   922.498047  922.933838\n",
       "EastNorthCentral 2009-01-05  924.0  922.937805   923.066284  922.934326"
      ]
     },
     "execution_count": 14,
     "metadata": {},
     "output_type": "execute_result"
    },
    {
     "name": "stdout",
     "output_type": "stream",
     "text": [
      "time: 6min 10s (started: 2024-01-02 13:05:02 -03:00)\n"
     ]
    }
   ],
   "source": [
    "n_horizon = Y_valid_df.ds.nunique() # Quantidade de dias para a projeção\n",
    "\n",
    "Y_hat_df = model.forecast(h = n_horizon, fitted = True)\n",
    "\n",
    "Y_hat_df.head()"
   ]
  },
  {
   "cell_type": "code",
   "execution_count": 15,
   "id": "cc0d3fa2-5d1e-4144-904b-6418cfab1aa4",
   "metadata": {},
   "outputs": [
    {
     "data": {
      "text/html": [
       "<div>\n",
       "<style scoped>\n",
       "    .dataframe tbody tr th:only-of-type {\n",
       "        vertical-align: middle;\n",
       "    }\n",
       "\n",
       "    .dataframe tbody tr th {\n",
       "        vertical-align: top;\n",
       "    }\n",
       "\n",
       "    .dataframe thead th {\n",
       "        text-align: right;\n",
       "    }\n",
       "</style>\n",
       "<table border=\"1\" class=\"dataframe\">\n",
       "  <thead>\n",
       "    <tr style=\"text-align: right;\">\n",
       "      <th></th>\n",
       "      <th>ds</th>\n",
       "      <th>y</th>\n",
       "      <th>Naive</th>\n",
       "      <th>AutoARIMA</th>\n",
       "      <th>HoltWinters</th>\n",
       "      <th>AutoETS</th>\n",
       "    </tr>\n",
       "    <tr>\n",
       "      <th>unique_id</th>\n",
       "      <th></th>\n",
       "      <th></th>\n",
       "      <th></th>\n",
       "      <th></th>\n",
       "      <th></th>\n",
       "      <th></th>\n",
       "    </tr>\n",
       "  </thead>\n",
       "  <tbody>\n",
       "    <tr>\n",
       "      <th>EastNorthCentral</th>\n",
       "      <td>1997-11-25</td>\n",
       "      <td>507.0</td>\n",
       "      <td>NaN</td>\n",
       "      <td>506.493011</td>\n",
       "      <td>503.918365</td>\n",
       "      <td>505.399323</td>\n",
       "    </tr>\n",
       "    <tr>\n",
       "      <th>EastNorthCentral</th>\n",
       "      <td>1997-11-26</td>\n",
       "      <td>504.0</td>\n",
       "      <td>507.0</td>\n",
       "      <td>506.756775</td>\n",
       "      <td>510.603271</td>\n",
       "      <td>508.149139</td>\n",
       "    </tr>\n",
       "    <tr>\n",
       "      <th>EastNorthCentral</th>\n",
       "      <td>1997-11-27</td>\n",
       "      <td>510.0</td>\n",
       "      <td>504.0</td>\n",
       "      <td>505.160217</td>\n",
       "      <td>510.609741</td>\n",
       "      <td>507.679291</td>\n",
       "    </tr>\n",
       "    <tr>\n",
       "      <th>EastNorthCentral</th>\n",
       "      <td>1997-11-28</td>\n",
       "      <td>507.0</td>\n",
       "      <td>510.0</td>\n",
       "      <td>507.876160</td>\n",
       "      <td>512.988464</td>\n",
       "      <td>510.753601</td>\n",
       "    </tr>\n",
       "    <tr>\n",
       "      <th>EastNorthCentral</th>\n",
       "      <td>1997-11-29</td>\n",
       "      <td>513.0</td>\n",
       "      <td>507.0</td>\n",
       "      <td>507.672363</td>\n",
       "      <td>512.523865</td>\n",
       "      <td>510.430145</td>\n",
       "    </tr>\n",
       "  </tbody>\n",
       "</table>\n",
       "</div>"
      ],
      "text/plain": [
       "                         ds      y  Naive   AutoARIMA  HoltWinters     AutoETS\n",
       "unique_id                                                                     \n",
       "EastNorthCentral 1997-11-25  507.0    NaN  506.493011   503.918365  505.399323\n",
       "EastNorthCentral 1997-11-26  504.0  507.0  506.756775   510.603271  508.149139\n",
       "EastNorthCentral 1997-11-27  510.0  504.0  505.160217   510.609741  507.679291\n",
       "EastNorthCentral 1997-11-28  507.0  510.0  507.876160   512.988464  510.753601\n",
       "EastNorthCentral 1997-11-29  513.0  507.0  507.672363   512.523865  510.430145"
      ]
     },
     "metadata": {},
     "output_type": "display_data"
    },
    {
     "data": {
      "text/html": [
       "<div>\n",
       "<style scoped>\n",
       "    .dataframe tbody tr th:only-of-type {\n",
       "        vertical-align: middle;\n",
       "    }\n",
       "\n",
       "    .dataframe tbody tr th {\n",
       "        vertical-align: top;\n",
       "    }\n",
       "\n",
       "    .dataframe thead th {\n",
       "        text-align: right;\n",
       "    }\n",
       "</style>\n",
       "<table border=\"1\" class=\"dataframe\">\n",
       "  <thead>\n",
       "    <tr style=\"text-align: right;\">\n",
       "      <th></th>\n",
       "      <th>ds</th>\n",
       "      <th>y</th>\n",
       "      <th>Naive</th>\n",
       "      <th>AutoARIMA</th>\n",
       "      <th>HoltWinters</th>\n",
       "      <th>AutoETS</th>\n",
       "    </tr>\n",
       "    <tr>\n",
       "      <th>unique_id</th>\n",
       "      <th></th>\n",
       "      <th></th>\n",
       "      <th></th>\n",
       "      <th></th>\n",
       "      <th></th>\n",
       "      <th></th>\n",
       "    </tr>\n",
       "  </thead>\n",
       "  <tbody>\n",
       "    <tr>\n",
       "      <th>SouthCentral/Tennessee/womens_shoes</th>\n",
       "      <td>2008-12-27</td>\n",
       "      <td>31.0</td>\n",
       "      <td>31.0</td>\n",
       "      <td>30.347441</td>\n",
       "      <td>30.314579</td>\n",
       "      <td>30.346684</td>\n",
       "    </tr>\n",
       "    <tr>\n",
       "      <th>SouthCentral/Tennessee/womens_shoes</th>\n",
       "      <td>2008-12-28</td>\n",
       "      <td>29.0</td>\n",
       "      <td>31.0</td>\n",
       "      <td>30.502066</td>\n",
       "      <td>30.483852</td>\n",
       "      <td>30.501236</td>\n",
       "    </tr>\n",
       "    <tr>\n",
       "      <th>SouthCentral/Tennessee/womens_shoes</th>\n",
       "      <td>2008-12-29</td>\n",
       "      <td>28.0</td>\n",
       "      <td>29.0</td>\n",
       "      <td>30.146147</td>\n",
       "      <td>30.212399</td>\n",
       "      <td>30.146093</td>\n",
       "    </tr>\n",
       "    <tr>\n",
       "      <th>SouthCentral/Tennessee/womens_shoes</th>\n",
       "      <td>2008-12-30</td>\n",
       "      <td>31.0</td>\n",
       "      <td>28.0</td>\n",
       "      <td>29.637609</td>\n",
       "      <td>29.761269</td>\n",
       "      <td>29.638397</td>\n",
       "    </tr>\n",
       "    <tr>\n",
       "      <th>SouthCentral/Tennessee/womens_shoes</th>\n",
       "      <td>2008-12-31</td>\n",
       "      <td>31.0</td>\n",
       "      <td>31.0</td>\n",
       "      <td>29.960432</td>\n",
       "      <td>29.948727</td>\n",
       "      <td>29.960508</td>\n",
       "    </tr>\n",
       "  </tbody>\n",
       "</table>\n",
       "</div>"
      ],
      "text/plain": [
       "                                            ds     y  Naive  AutoARIMA  \\\n",
       "unique_id                                                                \n",
       "SouthCentral/Tennessee/womens_shoes 2008-12-27  31.0   31.0  30.347441   \n",
       "SouthCentral/Tennessee/womens_shoes 2008-12-28  29.0   31.0  30.502066   \n",
       "SouthCentral/Tennessee/womens_shoes 2008-12-29  28.0   29.0  30.146147   \n",
       "SouthCentral/Tennessee/womens_shoes 2008-12-30  31.0   28.0  29.637609   \n",
       "SouthCentral/Tennessee/womens_shoes 2008-12-31  31.0   31.0  29.960432   \n",
       "\n",
       "                                     HoltWinters    AutoETS  \n",
       "unique_id                                                    \n",
       "SouthCentral/Tennessee/womens_shoes    30.314579  30.346684  \n",
       "SouthCentral/Tennessee/womens_shoes    30.483852  30.501236  \n",
       "SouthCentral/Tennessee/womens_shoes    30.212399  30.146093  \n",
       "SouthCentral/Tennessee/womens_shoes    29.761269  29.638397  \n",
       "SouthCentral/Tennessee/womens_shoes    29.948727  29.960508  "
      ]
     },
     "metadata": {},
     "output_type": "display_data"
    },
    {
     "name": "stdout",
     "output_type": "stream",
     "text": [
      "time: 62.4 ms (started: 2024-01-02 13:11:13 -03:00)\n"
     ]
    }
   ],
   "source": [
    "Y_fitted_df = model.forecast_fitted_values()\n",
    "\n",
    "display(Y_fitted_df.head())\n",
    "display(Y_fitted_df.tail())"
   ]
  },
  {
   "cell_type": "code",
   "execution_count": 16,
   "id": "69fd28c5-3a26-4940-87b8-d7fbd25e0485",
   "metadata": {},
   "outputs": [
    {
     "data": {
      "text/html": [
       "<div>\n",
       "<style scoped>\n",
       "    .dataframe tbody tr th:only-of-type {\n",
       "        vertical-align: middle;\n",
       "    }\n",
       "\n",
       "    .dataframe tbody tr th {\n",
       "        vertical-align: top;\n",
       "    }\n",
       "\n",
       "    .dataframe thead th {\n",
       "        text-align: right;\n",
       "    }\n",
       "</style>\n",
       "<table border=\"1\" class=\"dataframe\">\n",
       "  <thead>\n",
       "    <tr style=\"text-align: right;\">\n",
       "      <th></th>\n",
       "      <th>Naive</th>\n",
       "      <th>AutoARIMA</th>\n",
       "      <th>HoltWinters</th>\n",
       "      <th>AutoETS</th>\n",
       "    </tr>\n",
       "    <tr>\n",
       "      <th>nivel_hierarquia</th>\n",
       "      <th></th>\n",
       "      <th></th>\n",
       "      <th></th>\n",
       "      <th></th>\n",
       "    </tr>\n",
       "  </thead>\n",
       "  <tbody>\n",
       "    <tr>\n",
       "      <th>1</th>\n",
       "      <td>1338645.0</td>\n",
       "      <td>1338000.25</td>\n",
       "      <td>1357769.875</td>\n",
       "      <td>1336006.125</td>\n",
       "    </tr>\n",
       "    <tr>\n",
       "      <th>2</th>\n",
       "      <td>1338645.0</td>\n",
       "      <td>1338252.75</td>\n",
       "      <td>1350473.875</td>\n",
       "      <td>1337531.625</td>\n",
       "    </tr>\n",
       "    <tr>\n",
       "      <th>3</th>\n",
       "      <td>1338645.0</td>\n",
       "      <td>1338156.75</td>\n",
       "      <td>1347612.125</td>\n",
       "      <td>1344819.375</td>\n",
       "    </tr>\n",
       "  </tbody>\n",
       "</table>\n",
       "</div>"
      ],
      "text/plain": [
       "                      Naive   AutoARIMA  HoltWinters      AutoETS\n",
       "nivel_hierarquia                                                 \n",
       "1                 1338645.0  1338000.25  1357769.875  1336006.125\n",
       "2                 1338645.0  1338252.75  1350473.875  1337531.625\n",
       "3                 1338645.0  1338156.75  1347612.125  1344819.375"
      ]
     },
     "execution_count": 16,
     "metadata": {},
     "output_type": "execute_result"
    },
    {
     "name": "stdout",
     "output_type": "stream",
     "text": [
      "time: 44.2 ms (started: 2024-01-02 13:11:13 -03:00)\n"
     ]
    }
   ],
   "source": [
    "#---- TO-DO: provar que as somas das projeções dos modelos não batem no Y_hat_df\n",
    "\n",
    "Y_hat_df\\\n",
    "    .reset_index()\\\n",
    "    .assign(\\\n",
    "        nivel_hierarquia = lambda x: np.where(x['unique_id'].str.count('/') == 0, 1, x['unique_id'].str.count('/') + 1)\n",
    "    )\\\n",
    "    .groupby('nivel_hierarquia')[['Naive', 'AutoARIMA', 'HoltWinters', 'AutoETS']]\\\n",
    "    .sum()"
   ]
  },
  {
   "cell_type": "markdown",
   "id": "71ae3423-5e30-475f-96a4-b4d391dd76af",
   "metadata": {},
   "source": [
    "## 4. Reconciliação"
   ]
  },
  {
   "cell_type": "code",
   "execution_count": 17,
   "id": "8b125d36-bd28-437b-93f2-311454fd050b",
   "metadata": {},
   "outputs": [
    {
     "name": "stdout",
     "output_type": "stream",
     "text": [
      "time: 1.22 ms (started: 2024-01-02 13:11:13 -03:00)\n"
     ]
    }
   ],
   "source": [
    "reconcilers = [BottomUp(), \n",
    "               TopDown(method = 'forecast_proportions'),\n",
    "               TopDown(method = 'average_proportions'),\n",
    "               TopDown(method = 'proportion_averages'),\n",
    "               MiddleOut(middle_level = 'region/state', top_down_method = 'forecast_proportions'),\n",
    "               MiddleOut(middle_level = 'region/state', top_down_method = 'average_proportions'),\n",
    "               MiddleOut(middle_level = 'region/state', top_down_method = 'proportion_averages'),\n",
    "               MinTrace(method = 'ols', nonnegative = True),\n",
    "               MinTrace(method = 'wls_struct', nonnegative = True),\n",
    "               MinTrace(method = 'wls_var', nonnegative = True),\n",
    "               MinTrace(method = 'mint_shrink', nonnegative = True),\n",
    "               # MinTrace(method = 'mint_cov', nonnegative = True), # Não descomentar essa linha\n",
    "               OptimalCombination(method = 'ols', nonnegative = True),\n",
    "               OptimalCombination(method = 'wls_struct', nonnegative = True)\n",
    "              ]\n",
    "\n",
    "hrec = HierarchicalReconciliation(reconcilers = reconcilers)"
   ]
  },
  {
   "cell_type": "code",
   "execution_count": 18,
   "id": "11e85365-23af-409d-843c-a316342cc37a",
   "metadata": {},
   "outputs": [
    {
     "name": "stdout",
     "output_type": "stream",
     "text": [
      "time: 9.96 s (started: 2024-01-02 13:11:13 -03:00)\n"
     ]
    }
   ],
   "source": [
    "Y_rec_df = hrec.reconcile(Y_hat_df = Y_hat_df, \n",
    "                          Y_df = Y_fitted_df,\n",
    "                          S = S_df,\n",
    "                          tags = tags)"
   ]
  },
  {
   "cell_type": "code",
   "execution_count": 19,
   "id": "9f9fb5de-ea92-49ec-aac3-ddbf853049e6",
   "metadata": {},
   "outputs": [
    {
     "data": {
      "text/html": [
       "<div>\n",
       "<style scoped>\n",
       "    .dataframe tbody tr th:only-of-type {\n",
       "        vertical-align: middle;\n",
       "    }\n",
       "\n",
       "    .dataframe tbody tr th {\n",
       "        vertical-align: top;\n",
       "    }\n",
       "\n",
       "    .dataframe thead th {\n",
       "        text-align: right;\n",
       "    }\n",
       "</style>\n",
       "<table border=\"1\" class=\"dataframe\">\n",
       "  <thead>\n",
       "    <tr style=\"text-align: right;\">\n",
       "      <th></th>\n",
       "      <th>ds</th>\n",
       "      <th>Naive</th>\n",
       "      <th>AutoARIMA</th>\n",
       "      <th>HoltWinters</th>\n",
       "      <th>AutoETS</th>\n",
       "      <th>Naive/BottomUp</th>\n",
       "      <th>AutoARIMA/BottomUp</th>\n",
       "      <th>HoltWinters/BottomUp</th>\n",
       "      <th>AutoETS/BottomUp</th>\n",
       "      <th>Naive/TopDown_method-forecast_proportions</th>\n",
       "      <th>...</th>\n",
       "      <th>HoltWinters/MinTrace_method-mint_shrink_nonnegative-True</th>\n",
       "      <th>AutoETS/MinTrace_method-mint_shrink_nonnegative-True</th>\n",
       "      <th>Naive/OptimalCombination_method-ols_nonnegative-True</th>\n",
       "      <th>AutoARIMA/OptimalCombination_method-ols_nonnegative-True</th>\n",
       "      <th>HoltWinters/OptimalCombination_method-ols_nonnegative-True</th>\n",
       "      <th>AutoETS/OptimalCombination_method-ols_nonnegative-True</th>\n",
       "      <th>Naive/OptimalCombination_method-wls_struct_nonnegative-True</th>\n",
       "      <th>AutoARIMA/OptimalCombination_method-wls_struct_nonnegative-True</th>\n",
       "      <th>HoltWinters/OptimalCombination_method-wls_struct_nonnegative-True</th>\n",
       "      <th>AutoETS/OptimalCombination_method-wls_struct_nonnegative-True</th>\n",
       "    </tr>\n",
       "    <tr>\n",
       "      <th>unique_id</th>\n",
       "      <th></th>\n",
       "      <th></th>\n",
       "      <th></th>\n",
       "      <th></th>\n",
       "      <th></th>\n",
       "      <th></th>\n",
       "      <th></th>\n",
       "      <th></th>\n",
       "      <th></th>\n",
       "      <th></th>\n",
       "      <th></th>\n",
       "      <th></th>\n",
       "      <th></th>\n",
       "      <th></th>\n",
       "      <th></th>\n",
       "      <th></th>\n",
       "      <th></th>\n",
       "      <th></th>\n",
       "      <th></th>\n",
       "      <th></th>\n",
       "      <th></th>\n",
       "    </tr>\n",
       "  </thead>\n",
       "  <tbody>\n",
       "    <tr>\n",
       "      <th>EastNorthCentral</th>\n",
       "      <td>2009-01-01</td>\n",
       "      <td>924.0</td>\n",
       "      <td>922.722961</td>\n",
       "      <td>922.791016</td>\n",
       "      <td>922.932312</td>\n",
       "      <td>924.0</td>\n",
       "      <td>922.579468</td>\n",
       "      <td>922.737305</td>\n",
       "      <td>922.729126</td>\n",
       "      <td>0.0</td>\n",
       "      <td>...</td>\n",
       "      <td>922.956665</td>\n",
       "      <td>922.961914</td>\n",
       "      <td>924.0</td>\n",
       "      <td>922.802734</td>\n",
       "      <td>922.902771</td>\n",
       "      <td>923.034302</td>\n",
       "      <td>924.0</td>\n",
       "      <td>922.796326</td>\n",
       "      <td>922.933044</td>\n",
       "      <td>923.020874</td>\n",
       "    </tr>\n",
       "    <tr>\n",
       "      <th>EastNorthCentral</th>\n",
       "      <td>2009-01-02</td>\n",
       "      <td>924.0</td>\n",
       "      <td>923.092468</td>\n",
       "      <td>922.377808</td>\n",
       "      <td>922.932861</td>\n",
       "      <td>924.0</td>\n",
       "      <td>922.413635</td>\n",
       "      <td>922.699097</td>\n",
       "      <td>922.865356</td>\n",
       "      <td>0.0</td>\n",
       "      <td>...</td>\n",
       "      <td>922.797363</td>\n",
       "      <td>922.982666</td>\n",
       "      <td>924.0</td>\n",
       "      <td>923.114990</td>\n",
       "      <td>922.532593</td>\n",
       "      <td>923.041199</td>\n",
       "      <td>924.0</td>\n",
       "      <td>922.942993</td>\n",
       "      <td>922.680176</td>\n",
       "      <td>923.066467</td>\n",
       "    </tr>\n",
       "    <tr>\n",
       "      <th>EastNorthCentral</th>\n",
       "      <td>2009-01-03</td>\n",
       "      <td>924.0</td>\n",
       "      <td>923.023865</td>\n",
       "      <td>922.800781</td>\n",
       "      <td>922.933350</td>\n",
       "      <td>924.0</td>\n",
       "      <td>922.112183</td>\n",
       "      <td>923.269165</td>\n",
       "      <td>923.001587</td>\n",
       "      <td>0.0</td>\n",
       "      <td>...</td>\n",
       "      <td>923.255493</td>\n",
       "      <td>923.044983</td>\n",
       "      <td>924.0</td>\n",
       "      <td>922.992676</td>\n",
       "      <td>922.926025</td>\n",
       "      <td>923.047974</td>\n",
       "      <td>924.0</td>\n",
       "      <td>922.737000</td>\n",
       "      <td>923.101074</td>\n",
       "      <td>923.112061</td>\n",
       "    </tr>\n",
       "    <tr>\n",
       "      <th>EastNorthCentral</th>\n",
       "      <td>2009-01-04</td>\n",
       "      <td>924.0</td>\n",
       "      <td>923.023865</td>\n",
       "      <td>922.498047</td>\n",
       "      <td>922.933838</td>\n",
       "      <td>924.0</td>\n",
       "      <td>922.128540</td>\n",
       "      <td>923.110962</td>\n",
       "      <td>923.137817</td>\n",
       "      <td>0.0</td>\n",
       "      <td>...</td>\n",
       "      <td>923.095703</td>\n",
       "      <td>923.124023</td>\n",
       "      <td>924.0</td>\n",
       "      <td>923.029663</td>\n",
       "      <td>922.716797</td>\n",
       "      <td>923.054810</td>\n",
       "      <td>924.0</td>\n",
       "      <td>922.793152</td>\n",
       "      <td>922.967651</td>\n",
       "      <td>923.157715</td>\n",
       "    </tr>\n",
       "    <tr>\n",
       "      <th>EastNorthCentral</th>\n",
       "      <td>2009-01-05</td>\n",
       "      <td>924.0</td>\n",
       "      <td>922.937805</td>\n",
       "      <td>923.066284</td>\n",
       "      <td>922.934326</td>\n",
       "      <td>924.0</td>\n",
       "      <td>921.988831</td>\n",
       "      <td>923.490601</td>\n",
       "      <td>923.274048</td>\n",
       "      <td>0.0</td>\n",
       "      <td>...</td>\n",
       "      <td>923.488403</td>\n",
       "      <td>923.183472</td>\n",
       "      <td>924.0</td>\n",
       "      <td>922.903320</td>\n",
       "      <td>923.222412</td>\n",
       "      <td>923.061646</td>\n",
       "      <td>924.0</td>\n",
       "      <td>922.636475</td>\n",
       "      <td>923.398071</td>\n",
       "      <td>923.203125</td>\n",
       "    </tr>\n",
       "    <tr>\n",
       "      <th>...</th>\n",
       "      <td>...</td>\n",
       "      <td>...</td>\n",
       "      <td>...</td>\n",
       "      <td>...</td>\n",
       "      <td>...</td>\n",
       "      <td>...</td>\n",
       "      <td>...</td>\n",
       "      <td>...</td>\n",
       "      <td>...</td>\n",
       "      <td>...</td>\n",
       "      <td>...</td>\n",
       "      <td>...</td>\n",
       "      <td>...</td>\n",
       "      <td>...</td>\n",
       "      <td>...</td>\n",
       "      <td>...</td>\n",
       "      <td>...</td>\n",
       "      <td>...</td>\n",
       "      <td>...</td>\n",
       "      <td>...</td>\n",
       "      <td>...</td>\n",
       "    </tr>\n",
       "    <tr>\n",
       "      <th>SouthCentral/Tennessee/womens_shoes</th>\n",
       "      <td>2009-07-24</td>\n",
       "      <td>31.0</td>\n",
       "      <td>30.206762</td>\n",
       "      <td>30.586092</td>\n",
       "      <td>30.206419</td>\n",
       "      <td>31.0</td>\n",
       "      <td>30.206762</td>\n",
       "      <td>30.586092</td>\n",
       "      <td>30.206419</td>\n",
       "      <td>31.0</td>\n",
       "      <td>...</td>\n",
       "      <td>30.446545</td>\n",
       "      <td>29.938560</td>\n",
       "      <td>31.0</td>\n",
       "      <td>30.133802</td>\n",
       "      <td>29.778969</td>\n",
       "      <td>29.023344</td>\n",
       "      <td>31.0</td>\n",
       "      <td>30.163857</td>\n",
       "      <td>29.939159</td>\n",
       "      <td>29.554914</td>\n",
       "    </tr>\n",
       "    <tr>\n",
       "      <th>SouthCentral/Tennessee/womens_shoes</th>\n",
       "      <td>2009-07-25</td>\n",
       "      <td>31.0</td>\n",
       "      <td>30.206762</td>\n",
       "      <td>30.577198</td>\n",
       "      <td>30.206419</td>\n",
       "      <td>31.0</td>\n",
       "      <td>30.206762</td>\n",
       "      <td>30.577198</td>\n",
       "      <td>30.206419</td>\n",
       "      <td>31.0</td>\n",
       "      <td>...</td>\n",
       "      <td>30.428486</td>\n",
       "      <td>29.937931</td>\n",
       "      <td>31.0</td>\n",
       "      <td>30.133802</td>\n",
       "      <td>29.698889</td>\n",
       "      <td>29.021778</td>\n",
       "      <td>31.0</td>\n",
       "      <td>30.163857</td>\n",
       "      <td>29.896362</td>\n",
       "      <td>29.554249</td>\n",
       "    </tr>\n",
       "    <tr>\n",
       "      <th>SouthCentral/Tennessee/womens_shoes</th>\n",
       "      <td>2009-07-26</td>\n",
       "      <td>31.0</td>\n",
       "      <td>30.206762</td>\n",
       "      <td>30.583687</td>\n",
       "      <td>30.206419</td>\n",
       "      <td>31.0</td>\n",
       "      <td>30.206762</td>\n",
       "      <td>30.583687</td>\n",
       "      <td>30.206419</td>\n",
       "      <td>31.0</td>\n",
       "      <td>...</td>\n",
       "      <td>30.444683</td>\n",
       "      <td>29.937727</td>\n",
       "      <td>31.0</td>\n",
       "      <td>30.133802</td>\n",
       "      <td>29.742184</td>\n",
       "      <td>29.021584</td>\n",
       "      <td>31.0</td>\n",
       "      <td>30.163857</td>\n",
       "      <td>29.921080</td>\n",
       "      <td>29.555283</td>\n",
       "    </tr>\n",
       "    <tr>\n",
       "      <th>SouthCentral/Tennessee/womens_shoes</th>\n",
       "      <td>2009-07-27</td>\n",
       "      <td>31.0</td>\n",
       "      <td>30.206762</td>\n",
       "      <td>30.663797</td>\n",
       "      <td>30.206419</td>\n",
       "      <td>31.0</td>\n",
       "      <td>30.206762</td>\n",
       "      <td>30.663797</td>\n",
       "      <td>30.206419</td>\n",
       "      <td>31.0</td>\n",
       "      <td>...</td>\n",
       "      <td>30.516157</td>\n",
       "      <td>29.937006</td>\n",
       "      <td>31.0</td>\n",
       "      <td>30.133802</td>\n",
       "      <td>29.777317</td>\n",
       "      <td>29.019732</td>\n",
       "      <td>31.0</td>\n",
       "      <td>30.163857</td>\n",
       "      <td>29.972881</td>\n",
       "      <td>29.554255</td>\n",
       "    </tr>\n",
       "    <tr>\n",
       "      <th>SouthCentral/Tennessee/womens_shoes</th>\n",
       "      <td>2009-07-28</td>\n",
       "      <td>31.0</td>\n",
       "      <td>30.206762</td>\n",
       "      <td>30.737516</td>\n",
       "      <td>30.206419</td>\n",
       "      <td>31.0</td>\n",
       "      <td>30.206762</td>\n",
       "      <td>30.737516</td>\n",
       "      <td>30.206419</td>\n",
       "      <td>31.0</td>\n",
       "      <td>...</td>\n",
       "      <td>30.584503</td>\n",
       "      <td>29.936085</td>\n",
       "      <td>31.0</td>\n",
       "      <td>30.133802</td>\n",
       "      <td>29.831106</td>\n",
       "      <td>29.017250</td>\n",
       "      <td>31.0</td>\n",
       "      <td>30.163857</td>\n",
       "      <td>30.033148</td>\n",
       "      <td>29.552435</td>\n",
       "    </tr>\n",
       "  </tbody>\n",
       "</table>\n",
       "<p>23826 rows × 57 columns</p>\n",
       "</div>"
      ],
      "text/plain": [
       "                                            ds  Naive   AutoARIMA  \\\n",
       "unique_id                                                           \n",
       "EastNorthCentral                    2009-01-01  924.0  922.722961   \n",
       "EastNorthCentral                    2009-01-02  924.0  923.092468   \n",
       "EastNorthCentral                    2009-01-03  924.0  923.023865   \n",
       "EastNorthCentral                    2009-01-04  924.0  923.023865   \n",
       "EastNorthCentral                    2009-01-05  924.0  922.937805   \n",
       "...                                        ...    ...         ...   \n",
       "SouthCentral/Tennessee/womens_shoes 2009-07-24   31.0   30.206762   \n",
       "SouthCentral/Tennessee/womens_shoes 2009-07-25   31.0   30.206762   \n",
       "SouthCentral/Tennessee/womens_shoes 2009-07-26   31.0   30.206762   \n",
       "SouthCentral/Tennessee/womens_shoes 2009-07-27   31.0   30.206762   \n",
       "SouthCentral/Tennessee/womens_shoes 2009-07-28   31.0   30.206762   \n",
       "\n",
       "                                     HoltWinters     AutoETS  Naive/BottomUp  \\\n",
       "unique_id                                                                      \n",
       "EastNorthCentral                      922.791016  922.932312           924.0   \n",
       "EastNorthCentral                      922.377808  922.932861           924.0   \n",
       "EastNorthCentral                      922.800781  922.933350           924.0   \n",
       "EastNorthCentral                      922.498047  922.933838           924.0   \n",
       "EastNorthCentral                      923.066284  922.934326           924.0   \n",
       "...                                          ...         ...             ...   \n",
       "SouthCentral/Tennessee/womens_shoes    30.586092   30.206419            31.0   \n",
       "SouthCentral/Tennessee/womens_shoes    30.577198   30.206419            31.0   \n",
       "SouthCentral/Tennessee/womens_shoes    30.583687   30.206419            31.0   \n",
       "SouthCentral/Tennessee/womens_shoes    30.663797   30.206419            31.0   \n",
       "SouthCentral/Tennessee/womens_shoes    30.737516   30.206419            31.0   \n",
       "\n",
       "                                     AutoARIMA/BottomUp  HoltWinters/BottomUp  \\\n",
       "unique_id                                                                       \n",
       "EastNorthCentral                             922.579468            922.737305   \n",
       "EastNorthCentral                             922.413635            922.699097   \n",
       "EastNorthCentral                             922.112183            923.269165   \n",
       "EastNorthCentral                             922.128540            923.110962   \n",
       "EastNorthCentral                             921.988831            923.490601   \n",
       "...                                                 ...                   ...   \n",
       "SouthCentral/Tennessee/womens_shoes           30.206762             30.586092   \n",
       "SouthCentral/Tennessee/womens_shoes           30.206762             30.577198   \n",
       "SouthCentral/Tennessee/womens_shoes           30.206762             30.583687   \n",
       "SouthCentral/Tennessee/womens_shoes           30.206762             30.663797   \n",
       "SouthCentral/Tennessee/womens_shoes           30.206762             30.737516   \n",
       "\n",
       "                                     AutoETS/BottomUp  \\\n",
       "unique_id                                               \n",
       "EastNorthCentral                           922.729126   \n",
       "EastNorthCentral                           922.865356   \n",
       "EastNorthCentral                           923.001587   \n",
       "EastNorthCentral                           923.137817   \n",
       "EastNorthCentral                           923.274048   \n",
       "...                                               ...   \n",
       "SouthCentral/Tennessee/womens_shoes         30.206419   \n",
       "SouthCentral/Tennessee/womens_shoes         30.206419   \n",
       "SouthCentral/Tennessee/womens_shoes         30.206419   \n",
       "SouthCentral/Tennessee/womens_shoes         30.206419   \n",
       "SouthCentral/Tennessee/womens_shoes         30.206419   \n",
       "\n",
       "                                     Naive/TopDown_method-forecast_proportions  \\\n",
       "unique_id                                                                        \n",
       "EastNorthCentral                                                           0.0   \n",
       "EastNorthCentral                                                           0.0   \n",
       "EastNorthCentral                                                           0.0   \n",
       "EastNorthCentral                                                           0.0   \n",
       "EastNorthCentral                                                           0.0   \n",
       "...                                                                        ...   \n",
       "SouthCentral/Tennessee/womens_shoes                                       31.0   \n",
       "SouthCentral/Tennessee/womens_shoes                                       31.0   \n",
       "SouthCentral/Tennessee/womens_shoes                                       31.0   \n",
       "SouthCentral/Tennessee/womens_shoes                                       31.0   \n",
       "SouthCentral/Tennessee/womens_shoes                                       31.0   \n",
       "\n",
       "                                     ...  \\\n",
       "unique_id                            ...   \n",
       "EastNorthCentral                     ...   \n",
       "EastNorthCentral                     ...   \n",
       "EastNorthCentral                     ...   \n",
       "EastNorthCentral                     ...   \n",
       "EastNorthCentral                     ...   \n",
       "...                                  ...   \n",
       "SouthCentral/Tennessee/womens_shoes  ...   \n",
       "SouthCentral/Tennessee/womens_shoes  ...   \n",
       "SouthCentral/Tennessee/womens_shoes  ...   \n",
       "SouthCentral/Tennessee/womens_shoes  ...   \n",
       "SouthCentral/Tennessee/womens_shoes  ...   \n",
       "\n",
       "                                     HoltWinters/MinTrace_method-mint_shrink_nonnegative-True  \\\n",
       "unique_id                                                                                       \n",
       "EastNorthCentral                                                            922.956665          \n",
       "EastNorthCentral                                                            922.797363          \n",
       "EastNorthCentral                                                            923.255493          \n",
       "EastNorthCentral                                                            923.095703          \n",
       "EastNorthCentral                                                            923.488403          \n",
       "...                                                                                ...          \n",
       "SouthCentral/Tennessee/womens_shoes                                          30.446545          \n",
       "SouthCentral/Tennessee/womens_shoes                                          30.428486          \n",
       "SouthCentral/Tennessee/womens_shoes                                          30.444683          \n",
       "SouthCentral/Tennessee/womens_shoes                                          30.516157          \n",
       "SouthCentral/Tennessee/womens_shoes                                          30.584503          \n",
       "\n",
       "                                     AutoETS/MinTrace_method-mint_shrink_nonnegative-True  \\\n",
       "unique_id                                                                                   \n",
       "EastNorthCentral                                                            922.961914      \n",
       "EastNorthCentral                                                            922.982666      \n",
       "EastNorthCentral                                                            923.044983      \n",
       "EastNorthCentral                                                            923.124023      \n",
       "EastNorthCentral                                                            923.183472      \n",
       "...                                                                                ...      \n",
       "SouthCentral/Tennessee/womens_shoes                                          29.938560      \n",
       "SouthCentral/Tennessee/womens_shoes                                          29.937931      \n",
       "SouthCentral/Tennessee/womens_shoes                                          29.937727      \n",
       "SouthCentral/Tennessee/womens_shoes                                          29.937006      \n",
       "SouthCentral/Tennessee/womens_shoes                                          29.936085      \n",
       "\n",
       "                                     Naive/OptimalCombination_method-ols_nonnegative-True  \\\n",
       "unique_id                                                                                   \n",
       "EastNorthCentral                                                                 924.0      \n",
       "EastNorthCentral                                                                 924.0      \n",
       "EastNorthCentral                                                                 924.0      \n",
       "EastNorthCentral                                                                 924.0      \n",
       "EastNorthCentral                                                                 924.0      \n",
       "...                                                                                ...      \n",
       "SouthCentral/Tennessee/womens_shoes                                               31.0      \n",
       "SouthCentral/Tennessee/womens_shoes                                               31.0      \n",
       "SouthCentral/Tennessee/womens_shoes                                               31.0      \n",
       "SouthCentral/Tennessee/womens_shoes                                               31.0      \n",
       "SouthCentral/Tennessee/womens_shoes                                               31.0      \n",
       "\n",
       "                                     AutoARIMA/OptimalCombination_method-ols_nonnegative-True  \\\n",
       "unique_id                                                                                       \n",
       "EastNorthCentral                                                            922.802734          \n",
       "EastNorthCentral                                                            923.114990          \n",
       "EastNorthCentral                                                            922.992676          \n",
       "EastNorthCentral                                                            923.029663          \n",
       "EastNorthCentral                                                            922.903320          \n",
       "...                                                                                ...          \n",
       "SouthCentral/Tennessee/womens_shoes                                          30.133802          \n",
       "SouthCentral/Tennessee/womens_shoes                                          30.133802          \n",
       "SouthCentral/Tennessee/womens_shoes                                          30.133802          \n",
       "SouthCentral/Tennessee/womens_shoes                                          30.133802          \n",
       "SouthCentral/Tennessee/womens_shoes                                          30.133802          \n",
       "\n",
       "                                     HoltWinters/OptimalCombination_method-ols_nonnegative-True  \\\n",
       "unique_id                                                                                         \n",
       "EastNorthCentral                                                            922.902771            \n",
       "EastNorthCentral                                                            922.532593            \n",
       "EastNorthCentral                                                            922.926025            \n",
       "EastNorthCentral                                                            922.716797            \n",
       "EastNorthCentral                                                            923.222412            \n",
       "...                                                                                ...            \n",
       "SouthCentral/Tennessee/womens_shoes                                          29.778969            \n",
       "SouthCentral/Tennessee/womens_shoes                                          29.698889            \n",
       "SouthCentral/Tennessee/womens_shoes                                          29.742184            \n",
       "SouthCentral/Tennessee/womens_shoes                                          29.777317            \n",
       "SouthCentral/Tennessee/womens_shoes                                          29.831106            \n",
       "\n",
       "                                     AutoETS/OptimalCombination_method-ols_nonnegative-True  \\\n",
       "unique_id                                                                                     \n",
       "EastNorthCentral                                                            923.034302        \n",
       "EastNorthCentral                                                            923.041199        \n",
       "EastNorthCentral                                                            923.047974        \n",
       "EastNorthCentral                                                            923.054810        \n",
       "EastNorthCentral                                                            923.061646        \n",
       "...                                                                                ...        \n",
       "SouthCentral/Tennessee/womens_shoes                                          29.023344        \n",
       "SouthCentral/Tennessee/womens_shoes                                          29.021778        \n",
       "SouthCentral/Tennessee/womens_shoes                                          29.021584        \n",
       "SouthCentral/Tennessee/womens_shoes                                          29.019732        \n",
       "SouthCentral/Tennessee/womens_shoes                                          29.017250        \n",
       "\n",
       "                                     Naive/OptimalCombination_method-wls_struct_nonnegative-True  \\\n",
       "unique_id                                                                                          \n",
       "EastNorthCentral                                                                 924.0             \n",
       "EastNorthCentral                                                                 924.0             \n",
       "EastNorthCentral                                                                 924.0             \n",
       "EastNorthCentral                                                                 924.0             \n",
       "EastNorthCentral                                                                 924.0             \n",
       "...                                                                                ...             \n",
       "SouthCentral/Tennessee/womens_shoes                                               31.0             \n",
       "SouthCentral/Tennessee/womens_shoes                                               31.0             \n",
       "SouthCentral/Tennessee/womens_shoes                                               31.0             \n",
       "SouthCentral/Tennessee/womens_shoes                                               31.0             \n",
       "SouthCentral/Tennessee/womens_shoes                                               31.0             \n",
       "\n",
       "                                     AutoARIMA/OptimalCombination_method-wls_struct_nonnegative-True  \\\n",
       "unique_id                                                                                              \n",
       "EastNorthCentral                                                            922.796326                 \n",
       "EastNorthCentral                                                            922.942993                 \n",
       "EastNorthCentral                                                            922.737000                 \n",
       "EastNorthCentral                                                            922.793152                 \n",
       "EastNorthCentral                                                            922.636475                 \n",
       "...                                                                                ...                 \n",
       "SouthCentral/Tennessee/womens_shoes                                          30.163857                 \n",
       "SouthCentral/Tennessee/womens_shoes                                          30.163857                 \n",
       "SouthCentral/Tennessee/womens_shoes                                          30.163857                 \n",
       "SouthCentral/Tennessee/womens_shoes                                          30.163857                 \n",
       "SouthCentral/Tennessee/womens_shoes                                          30.163857                 \n",
       "\n",
       "                                     HoltWinters/OptimalCombination_method-wls_struct_nonnegative-True  \\\n",
       "unique_id                                                                                                \n",
       "EastNorthCentral                                                            922.933044                   \n",
       "EastNorthCentral                                                            922.680176                   \n",
       "EastNorthCentral                                                            923.101074                   \n",
       "EastNorthCentral                                                            922.967651                   \n",
       "EastNorthCentral                                                            923.398071                   \n",
       "...                                                                                ...                   \n",
       "SouthCentral/Tennessee/womens_shoes                                          29.939159                   \n",
       "SouthCentral/Tennessee/womens_shoes                                          29.896362                   \n",
       "SouthCentral/Tennessee/womens_shoes                                          29.921080                   \n",
       "SouthCentral/Tennessee/womens_shoes                                          29.972881                   \n",
       "SouthCentral/Tennessee/womens_shoes                                          30.033148                   \n",
       "\n",
       "                                     AutoETS/OptimalCombination_method-wls_struct_nonnegative-True  \n",
       "unique_id                                                                                           \n",
       "EastNorthCentral                                                            923.020874              \n",
       "EastNorthCentral                                                            923.066467              \n",
       "EastNorthCentral                                                            923.112061              \n",
       "EastNorthCentral                                                            923.157715              \n",
       "EastNorthCentral                                                            923.203125              \n",
       "...                                                                                ...              \n",
       "SouthCentral/Tennessee/womens_shoes                                          29.554914              \n",
       "SouthCentral/Tennessee/womens_shoes                                          29.554249              \n",
       "SouthCentral/Tennessee/womens_shoes                                          29.555283              \n",
       "SouthCentral/Tennessee/womens_shoes                                          29.554255              \n",
       "SouthCentral/Tennessee/womens_shoes                                          29.552435              \n",
       "\n",
       "[23826 rows x 57 columns]"
      ]
     },
     "execution_count": 19,
     "metadata": {},
     "output_type": "execute_result"
    },
    {
     "name": "stdout",
     "output_type": "stream",
     "text": [
      "time: 34.2 ms (started: 2024-01-02 13:11:23 -03:00)\n"
     ]
    }
   ],
   "source": [
    "Y_rec_df"
   ]
  },
  {
   "cell_type": "code",
   "execution_count": 78,
   "id": "2b11a889-7423-4664-ac16-7da6167c7173",
   "metadata": {},
   "outputs": [
    {
     "name": "stdout",
     "output_type": "stream",
     "text": [
      "time: 444 µs (started: 2024-01-02 13:43:51 -03:00)\n"
     ]
    }
   ],
   "source": [
    "# #---- A soma das projeções nos níveis de hierarquia são diferentes para os modelos sem reconciliação, exceto o Naive\n",
    "\n",
    "# Y_rec_df\\\n",
    "#     .reset_index()\\\n",
    "#     .assign(\\\n",
    "#         nivel_hierarquia = lambda x: np.where(x['unique_id'].str.count('/') == 0, 1, x['unique_id'].str.count('/') + 1)\n",
    "#     )\\\n",
    "#     .groupby('nivel_hierarquia')[Y_rec_df.select_dtypes(include = 'number').columns.tolist()]\\\n",
    "#     .sum()"
   ]
  },
  {
   "cell_type": "markdown",
   "id": "4766438d-a1f4-4838-87a2-73e3ef4f02dd",
   "metadata": {},
   "source": [
    "## 5. Avaliação das métricas: WMAPE e RMSE\n",
    "\n",
    "- Em nenhum nível a baseline (naive) foi melhor que os modelos testados"
   ]
  },
  {
   "cell_type": "code",
   "execution_count": 117,
   "id": "aa2cddfd-d708-4fe8-81e3-ed03a0fbf80b",
   "metadata": {},
   "outputs": [
    {
     "name": "stdout",
     "output_type": "stream",
     "text": [
      "time: 457 µs (started: 2024-01-02 15:01:01 -03:00)\n"
     ]
    }
   ],
   "source": [
    "def rmse(y_true, y_pred):\n",
    "    \n",
    "    return np.sqrt(np.mean(np.square(y_true - y_pred)))"
   ]
  },
  {
   "cell_type": "code",
   "execution_count": 118,
   "id": "9e37092b-c5f7-423e-89e4-5cb06e0bd3a0",
   "metadata": {},
   "outputs": [
    {
     "name": "stdout",
     "output_type": "stream",
     "text": [
      "time: 120 ms (started: 2024-01-02 15:01:04 -03:00)\n"
     ]
    }
   ],
   "source": [
    "from hierarchicalforecast.evaluation import HierarchicalEvaluation\n",
    "\n",
    "evaluator = HierarchicalEvaluation(evaluators = [rmse])\n",
    "\n",
    "evaluation = evaluator.evaluate(\n",
    "    Y_hat_df = Y_rec_df,\n",
    "    Y_test_df = Y_valid_df,\n",
    "    tags = tags\n",
    ")"
   ]
  },
  {
   "cell_type": "code",
   "execution_count": 119,
   "id": "06b6bf1d-45a7-41b0-a75a-9c61859b6877",
   "metadata": {},
   "outputs": [
    {
     "data": {
      "text/html": [
       "<div>\n",
       "<style scoped>\n",
       "    .dataframe tbody tr th:only-of-type {\n",
       "        vertical-align: middle;\n",
       "    }\n",
       "\n",
       "    .dataframe tbody tr th {\n",
       "        vertical-align: top;\n",
       "    }\n",
       "\n",
       "    .dataframe thead th {\n",
       "        text-align: right;\n",
       "    }\n",
       "</style>\n",
       "<table border=\"1\" class=\"dataframe\">\n",
       "  <thead>\n",
       "    <tr style=\"text-align: right;\">\n",
       "      <th></th>\n",
       "      <th></th>\n",
       "      <th>Naive</th>\n",
       "      <th>AutoARIMA</th>\n",
       "      <th>HoltWinters</th>\n",
       "      <th>AutoETS</th>\n",
       "      <th>Naive/BottomUp</th>\n",
       "      <th>AutoARIMA/BottomUp</th>\n",
       "      <th>HoltWinters/BottomUp</th>\n",
       "      <th>AutoETS/BottomUp</th>\n",
       "      <th>Naive/TopDown_method-forecast_proportions</th>\n",
       "      <th>AutoARIMA/TopDown_method-forecast_proportions</th>\n",
       "      <th>...</th>\n",
       "      <th>HoltWinters/MinTrace_method-mint_shrink_nonnegative-True</th>\n",
       "      <th>AutoETS/MinTrace_method-mint_shrink_nonnegative-True</th>\n",
       "      <th>Naive/OptimalCombination_method-ols_nonnegative-True</th>\n",
       "      <th>AutoARIMA/OptimalCombination_method-ols_nonnegative-True</th>\n",
       "      <th>HoltWinters/OptimalCombination_method-ols_nonnegative-True</th>\n",
       "      <th>AutoETS/OptimalCombination_method-ols_nonnegative-True</th>\n",
       "      <th>Naive/OptimalCombination_method-wls_struct_nonnegative-True</th>\n",
       "      <th>AutoARIMA/OptimalCombination_method-wls_struct_nonnegative-True</th>\n",
       "      <th>HoltWinters/OptimalCombination_method-wls_struct_nonnegative-True</th>\n",
       "      <th>AutoETS/OptimalCombination_method-wls_struct_nonnegative-True</th>\n",
       "    </tr>\n",
       "    <tr>\n",
       "      <th>level</th>\n",
       "      <th>metric</th>\n",
       "      <th></th>\n",
       "      <th></th>\n",
       "      <th></th>\n",
       "      <th></th>\n",
       "      <th></th>\n",
       "      <th></th>\n",
       "      <th></th>\n",
       "      <th></th>\n",
       "      <th></th>\n",
       "      <th></th>\n",
       "      <th></th>\n",
       "      <th></th>\n",
       "      <th></th>\n",
       "      <th></th>\n",
       "      <th></th>\n",
       "      <th></th>\n",
       "      <th></th>\n",
       "      <th></th>\n",
       "      <th></th>\n",
       "      <th></th>\n",
       "      <th></th>\n",
       "    </tr>\n",
       "  </thead>\n",
       "  <tbody>\n",
       "    <tr>\n",
       "      <th>Overall</th>\n",
       "      <th>rmse</th>\n",
       "      <td>8.286229</td>\n",
       "      <td>8.223591</td>\n",
       "      <td>7.982265</td>\n",
       "      <td>8.629265</td>\n",
       "      <td>8.286229</td>\n",
       "      <td>8.303069</td>\n",
       "      <td>7.721084</td>\n",
       "      <td>8.053904</td>\n",
       "      <td>285.945576</td>\n",
       "      <td>285.94603</td>\n",
       "      <td>...</td>\n",
       "      <td>7.642927</td>\n",
       "      <td>8.311305</td>\n",
       "      <td>8.286229</td>\n",
       "      <td>8.22246</td>\n",
       "      <td>7.824877</td>\n",
       "      <td>8.5782</td>\n",
       "      <td>8.286229</td>\n",
       "      <td>8.241978</td>\n",
       "      <td>7.576497</td>\n",
       "      <td>8.289755</td>\n",
       "    </tr>\n",
       "    <tr>\n",
       "      <th>region</th>\n",
       "      <th>rmse</th>\n",
       "      <td>22.448943</td>\n",
       "      <td>22.836591</td>\n",
       "      <td>20.554969</td>\n",
       "      <td>24.3638</td>\n",
       "      <td>22.448943</td>\n",
       "      <td>23.499522</td>\n",
       "      <td>20.652313</td>\n",
       "      <td>19.49297</td>\n",
       "      <td>1151.959372</td>\n",
       "      <td>1151.967343</td>\n",
       "      <td>...</td>\n",
       "      <td>19.308666</td>\n",
       "      <td>21.76112</td>\n",
       "      <td>22.448943</td>\n",
       "      <td>22.860303</td>\n",
       "      <td>19.166045</td>\n",
       "      <td>23.656898</td>\n",
       "      <td>22.448943</td>\n",
       "      <td>23.042484</td>\n",
       "      <td>18.517012</td>\n",
       "      <td>21.590268</td>\n",
       "    </tr>\n",
       "    <tr>\n",
       "      <th>region/state</th>\n",
       "      <th>rmse</th>\n",
       "      <td>11.248096</td>\n",
       "      <td>11.140446</td>\n",
       "      <td>11.493589</td>\n",
       "      <td>11.332262</td>\n",
       "      <td>11.248096</td>\n",
       "      <td>11.130844</td>\n",
       "      <td>10.247573</td>\n",
       "      <td>11.26792</td>\n",
       "      <td>322.166315</td>\n",
       "      <td>322.166557</td>\n",
       "      <td>...</td>\n",
       "      <td>10.542839</td>\n",
       "      <td>11.443772</td>\n",
       "      <td>11.248096</td>\n",
       "      <td>11.123604</td>\n",
       "      <td>11.268677</td>\n",
       "      <td>11.47073</td>\n",
       "      <td>11.248096</td>\n",
       "      <td>11.112658</td>\n",
       "      <td>10.608814</td>\n",
       "      <td>11.290169</td>\n",
       "    </tr>\n",
       "    <tr>\n",
       "      <th>region/state/item</th>\n",
       "      <th>rmse</th>\n",
       "      <td>5.770607</td>\n",
       "      <td>5.613963</td>\n",
       "      <td>5.520498</td>\n",
       "      <td>5.938683</td>\n",
       "      <td>5.770607</td>\n",
       "      <td>5.613963</td>\n",
       "      <td>5.520498</td>\n",
       "      <td>5.938683</td>\n",
       "      <td>94.804777</td>\n",
       "      <td>94.801009</td>\n",
       "      <td>...</td>\n",
       "      <td>5.541438</td>\n",
       "      <td>5.883352</td>\n",
       "      <td>5.770607</td>\n",
       "      <td>5.613191</td>\n",
       "      <td>5.603854</td>\n",
       "      <td>5.950442</td>\n",
       "      <td>5.770607</td>\n",
       "      <td>5.612409</td>\n",
       "      <td>5.550699</td>\n",
       "      <td>5.938294</td>\n",
       "    </tr>\n",
       "  </tbody>\n",
       "</table>\n",
       "<p>4 rows × 56 columns</p>\n",
       "</div>"
      ],
      "text/plain": [
       "                              Naive  AutoARIMA HoltWinters    AutoETS  \\\n",
       "level             metric                                                \n",
       "Overall           rmse     8.286229   8.223591    7.982265   8.629265   \n",
       "region            rmse    22.448943  22.836591   20.554969    24.3638   \n",
       "region/state      rmse    11.248096  11.140446   11.493589  11.332262   \n",
       "region/state/item rmse     5.770607   5.613963    5.520498   5.938683   \n",
       "\n",
       "                         Naive/BottomUp AutoARIMA/BottomUp  \\\n",
       "level             metric                                     \n",
       "Overall           rmse         8.286229           8.303069   \n",
       "region            rmse        22.448943          23.499522   \n",
       "region/state      rmse        11.248096          11.130844   \n",
       "region/state/item rmse         5.770607           5.613963   \n",
       "\n",
       "                         HoltWinters/BottomUp AutoETS/BottomUp  \\\n",
       "level             metric                                         \n",
       "Overall           rmse               7.721084         8.053904   \n",
       "region            rmse              20.652313         19.49297   \n",
       "region/state      rmse              10.247573         11.26792   \n",
       "region/state/item rmse               5.520498         5.938683   \n",
       "\n",
       "                         Naive/TopDown_method-forecast_proportions  \\\n",
       "level             metric                                             \n",
       "Overall           rmse                                  285.945576   \n",
       "region            rmse                                 1151.959372   \n",
       "region/state      rmse                                  322.166315   \n",
       "region/state/item rmse                                   94.804777   \n",
       "\n",
       "                         AutoARIMA/TopDown_method-forecast_proportions  ...  \\\n",
       "level             metric                                                ...   \n",
       "Overall           rmse                                       285.94603  ...   \n",
       "region            rmse                                     1151.967343  ...   \n",
       "region/state      rmse                                      322.166557  ...   \n",
       "region/state/item rmse                                       94.801009  ...   \n",
       "\n",
       "                         HoltWinters/MinTrace_method-mint_shrink_nonnegative-True  \\\n",
       "level             metric                                                            \n",
       "Overall           rmse                                             7.642927         \n",
       "region            rmse                                            19.308666         \n",
       "region/state      rmse                                            10.542839         \n",
       "region/state/item rmse                                             5.541438         \n",
       "\n",
       "                         AutoETS/MinTrace_method-mint_shrink_nonnegative-True  \\\n",
       "level             metric                                                        \n",
       "Overall           rmse                                             8.311305     \n",
       "region            rmse                                             21.76112     \n",
       "region/state      rmse                                            11.443772     \n",
       "region/state/item rmse                                             5.883352     \n",
       "\n",
       "                         Naive/OptimalCombination_method-ols_nonnegative-True  \\\n",
       "level             metric                                                        \n",
       "Overall           rmse                                             8.286229     \n",
       "region            rmse                                            22.448943     \n",
       "region/state      rmse                                            11.248096     \n",
       "region/state/item rmse                                             5.770607     \n",
       "\n",
       "                         AutoARIMA/OptimalCombination_method-ols_nonnegative-True  \\\n",
       "level             metric                                                            \n",
       "Overall           rmse                                              8.22246         \n",
       "region            rmse                                            22.860303         \n",
       "region/state      rmse                                            11.123604         \n",
       "region/state/item rmse                                             5.613191         \n",
       "\n",
       "                         HoltWinters/OptimalCombination_method-ols_nonnegative-True  \\\n",
       "level             metric                                                              \n",
       "Overall           rmse                                             7.824877           \n",
       "region            rmse                                            19.166045           \n",
       "region/state      rmse                                            11.268677           \n",
       "region/state/item rmse                                             5.603854           \n",
       "\n",
       "                         AutoETS/OptimalCombination_method-ols_nonnegative-True  \\\n",
       "level             metric                                                          \n",
       "Overall           rmse                                               8.5782       \n",
       "region            rmse                                            23.656898       \n",
       "region/state      rmse                                             11.47073       \n",
       "region/state/item rmse                                             5.950442       \n",
       "\n",
       "                         Naive/OptimalCombination_method-wls_struct_nonnegative-True  \\\n",
       "level             metric                                                               \n",
       "Overall           rmse                                             8.286229            \n",
       "region            rmse                                            22.448943            \n",
       "region/state      rmse                                            11.248096            \n",
       "region/state/item rmse                                             5.770607            \n",
       "\n",
       "                         AutoARIMA/OptimalCombination_method-wls_struct_nonnegative-True  \\\n",
       "level             metric                                                                   \n",
       "Overall           rmse                                             8.241978                \n",
       "region            rmse                                            23.042484                \n",
       "region/state      rmse                                            11.112658                \n",
       "region/state/item rmse                                             5.612409                \n",
       "\n",
       "                         HoltWinters/OptimalCombination_method-wls_struct_nonnegative-True  \\\n",
       "level             metric                                                                     \n",
       "Overall           rmse                                             7.576497                  \n",
       "region            rmse                                            18.517012                  \n",
       "region/state      rmse                                            10.608814                  \n",
       "region/state/item rmse                                             5.550699                  \n",
       "\n",
       "                         AutoETS/OptimalCombination_method-wls_struct_nonnegative-True  \n",
       "level             metric                                                                \n",
       "Overall           rmse                                             8.289755             \n",
       "region            rmse                                            21.590268             \n",
       "region/state      rmse                                            11.290169             \n",
       "region/state/item rmse                                             5.938294             \n",
       "\n",
       "[4 rows x 56 columns]"
      ]
     },
     "execution_count": 119,
     "metadata": {},
     "output_type": "execute_result"
    },
    {
     "name": "stdout",
     "output_type": "stream",
     "text": [
      "time: 32.2 ms (started: 2024-01-02 15:01:05 -03:00)\n"
     ]
    }
   ],
   "source": [
    "evaluation"
   ]
  },
  {
   "cell_type": "code",
   "execution_count": 120,
   "id": "3d48eb3a-e757-4677-a080-1e725b8d2e2d",
   "metadata": {},
   "outputs": [
    {
     "data": {
      "text/html": [
       "<div>\n",
       "<style scoped>\n",
       "    .dataframe tbody tr th:only-of-type {\n",
       "        vertical-align: middle;\n",
       "    }\n",
       "\n",
       "    .dataframe tbody tr th {\n",
       "        vertical-align: top;\n",
       "    }\n",
       "\n",
       "    .dataframe thead th {\n",
       "        text-align: right;\n",
       "    }\n",
       "</style>\n",
       "<table border=\"1\" class=\"dataframe\">\n",
       "  <thead>\n",
       "    <tr style=\"text-align: right;\">\n",
       "      <th></th>\n",
       "      <th>level</th>\n",
       "      <th>metric</th>\n",
       "      <th>variable</th>\n",
       "      <th>value</th>\n",
       "      <th>is_valid</th>\n",
       "      <th>value_format</th>\n",
       "    </tr>\n",
       "  </thead>\n",
       "  <tbody>\n",
       "    <tr>\n",
       "      <th>6</th>\n",
       "      <td>region</td>\n",
       "      <td>rmse</td>\n",
       "      <td>HoltWinters/OptimalCombination_method-wls_stru...</td>\n",
       "      <td>18.517</td>\n",
       "      <td>1.0</td>\n",
       "      <td>18,517</td>\n",
       "    </tr>\n",
       "    <tr>\n",
       "      <th>7</th>\n",
       "      <td>region</td>\n",
       "      <td>rmse</td>\n",
       "      <td>HoltWinters/MinTrace_method-wls_struct_nonnega...</td>\n",
       "      <td>18.517</td>\n",
       "      <td>1.0</td>\n",
       "      <td>18,517</td>\n",
       "    </tr>\n",
       "    <tr>\n",
       "      <th>9</th>\n",
       "      <td>region</td>\n",
       "      <td>rmse</td>\n",
       "      <td>Naive</td>\n",
       "      <td>22.449</td>\n",
       "      <td>NaN</td>\n",
       "      <td>22,449</td>\n",
       "    </tr>\n",
       "    <tr>\n",
       "      <th>4</th>\n",
       "      <td>region/state</td>\n",
       "      <td>rmse</td>\n",
       "      <td>HoltWinters/BottomUp</td>\n",
       "      <td>10.248</td>\n",
       "      <td>1.0</td>\n",
       "      <td>10,248</td>\n",
       "    </tr>\n",
       "    <tr>\n",
       "      <th>5</th>\n",
       "      <td>region/state</td>\n",
       "      <td>rmse</td>\n",
       "      <td>HoltWinters/MinTrace_method-mint_shrink_nonneg...</td>\n",
       "      <td>10.543</td>\n",
       "      <td>1.0</td>\n",
       "      <td>10,543</td>\n",
       "    </tr>\n",
       "    <tr>\n",
       "      <th>10</th>\n",
       "      <td>region/state</td>\n",
       "      <td>rmse</td>\n",
       "      <td>Naive</td>\n",
       "      <td>11.248</td>\n",
       "      <td>NaN</td>\n",
       "      <td>11,248</td>\n",
       "    </tr>\n",
       "    <tr>\n",
       "      <th>0</th>\n",
       "      <td>region/state/item</td>\n",
       "      <td>rmse</td>\n",
       "      <td>HoltWinters/BottomUp</td>\n",
       "      <td>5.520</td>\n",
       "      <td>1.0</td>\n",
       "      <td>5,52</td>\n",
       "    </tr>\n",
       "    <tr>\n",
       "      <th>1</th>\n",
       "      <td>region/state/item</td>\n",
       "      <td>rmse</td>\n",
       "      <td>HoltWinters/MinTrace_method-mint_shrink_nonneg...</td>\n",
       "      <td>5.541</td>\n",
       "      <td>1.0</td>\n",
       "      <td>5,541</td>\n",
       "    </tr>\n",
       "    <tr>\n",
       "      <th>11</th>\n",
       "      <td>region/state/item</td>\n",
       "      <td>rmse</td>\n",
       "      <td>Naive</td>\n",
       "      <td>5.771</td>\n",
       "      <td>NaN</td>\n",
       "      <td>5,771</td>\n",
       "    </tr>\n",
       "  </tbody>\n",
       "</table>\n",
       "</div>"
      ],
      "text/plain": [
       "                level metric  \\\n",
       "6              region   rmse   \n",
       "7              region   rmse   \n",
       "9              region   rmse   \n",
       "4        region/state   rmse   \n",
       "5        region/state   rmse   \n",
       "10       region/state   rmse   \n",
       "0   region/state/item   rmse   \n",
       "1   region/state/item   rmse   \n",
       "11  region/state/item   rmse   \n",
       "\n",
       "                                             variable   value  is_valid  \\\n",
       "6   HoltWinters/OptimalCombination_method-wls_stru...  18.517       1.0   \n",
       "7   HoltWinters/MinTrace_method-wls_struct_nonnega...  18.517       1.0   \n",
       "9                                               Naive  22.449       NaN   \n",
       "4                                HoltWinters/BottomUp  10.248       1.0   \n",
       "5   HoltWinters/MinTrace_method-mint_shrink_nonneg...  10.543       1.0   \n",
       "10                                              Naive  11.248       NaN   \n",
       "0                                HoltWinters/BottomUp   5.520       1.0   \n",
       "1   HoltWinters/MinTrace_method-mint_shrink_nonneg...   5.541       1.0   \n",
       "11                                              Naive   5.771       NaN   \n",
       "\n",
       "   value_format  \n",
       "6        18,517  \n",
       "7        18,517  \n",
       "9        22,449  \n",
       "4        10,248  \n",
       "5        10,543  \n",
       "10       11,248  \n",
       "0          5,52  \n",
       "1         5,541  \n",
       "11        5,771  "
      ]
     },
     "execution_count": 120,
     "metadata": {},
     "output_type": "execute_result"
    },
    {
     "name": "stdout",
     "output_type": "stream",
     "text": [
      "time: 61.2 ms (started: 2024-01-02 15:01:06 -03:00)\n"
     ]
    }
   ],
   "source": [
    "#---- Separando os 2 modelos com menor RMSE, excluindo o Naive\n",
    "\n",
    "df_metricas_modelos = pd.melt(evaluation.reset_index(), id_vars = ['level', 'metric'])\\\n",
    "    .sort_values(by = 'value', ascending = True)\\\n",
    "    .assign(\\\n",
    "        is_valid = lambda x: np.where((x['variable'].str.count('/') > 0) | (x['variable'] == 'Naive'), 1, 0)\n",
    "    )\\\n",
    "    .query('is_valid == 1')\\\n",
    "    .groupby(['level', 'metric'])\\\n",
    "    .head(2)\n",
    "\n",
    "#---- Separando os modelos Naive\n",
    "\n",
    "df_metricas_baseline = pd.melt(evaluation.reset_index(), id_vars = ['level', 'metric'])\\\n",
    "    .query('variable == \"Naive\"')\n",
    "\n",
    "#---- Juntando em um único DF\n",
    "\n",
    "df_metricas = pd.concat([df_metricas_modelos, df_metricas_baseline])\\\n",
    "    .reset_index(drop = True)\\\n",
    "    .assign(\\\n",
    "        value = lambda x: x['value'].apply(pd.to_numeric)\n",
    "    )\\\n",
    "    .query('level !=  \"Overall\"')\\\n",
    "    .sort_values(by = ['metric', 'level'])\n",
    "\n",
    "df_metricas['value'] = round(df_metricas['value'], 3)\n",
    "df_metricas['value_format'] = df_metricas['value'].astype(str).str.replace('.', ',')\n",
    "\n",
    "df_metricas"
   ]
  },
  {
   "cell_type": "code",
   "execution_count": 122,
   "id": "14d06a50-3560-4f0d-af8a-d51e167043a8",
   "metadata": {},
   "outputs": [
    {
     "data": {
      "application/vnd.plotly.v1+json": {
       "config": {
        "plotlyServerURL": "https://plot.ly"
       },
       "data": [
        {
         "alignmentgroup": "True",
         "hovertemplate": "variable=HoltWinters/OptimalCombination_method-wls_struct_nonnegative-True<br>level=%{x}<br>value=%{y}<br>value_format=%{text}<extra></extra>",
         "legendgroup": "HoltWinters/OptimalCombination_method-wls_struct_nonnegative-True",
         "marker": {
          "color": "#636efa",
          "pattern": {
           "shape": ""
          }
         },
         "name": "HoltWinters/OptimalCombination_method-wls_struct_nonnegative-True",
         "offsetgroup": "HoltWinters/OptimalCombination_method-wls_struct_nonnegative-True",
         "orientation": "v",
         "showlegend": true,
         "text": [
          "18,517"
         ],
         "textposition": "outside",
         "type": "bar",
         "x": [
          "region"
         ],
         "xaxis": "x",
         "y": [
          18.517
         ],
         "yaxis": "y"
        },
        {
         "alignmentgroup": "True",
         "hovertemplate": "variable=HoltWinters/MinTrace_method-wls_struct_nonnegative-True<br>level=%{x}<br>value=%{y}<br>value_format=%{text}<extra></extra>",
         "legendgroup": "HoltWinters/MinTrace_method-wls_struct_nonnegative-True",
         "marker": {
          "color": "#EF553B",
          "pattern": {
           "shape": ""
          }
         },
         "name": "HoltWinters/MinTrace_method-wls_struct_nonnegative-True",
         "offsetgroup": "HoltWinters/MinTrace_method-wls_struct_nonnegative-True",
         "orientation": "v",
         "showlegend": true,
         "text": [
          "18,517"
         ],
         "textposition": "outside",
         "type": "bar",
         "visible": "legendonly",
         "x": [
          "region"
         ],
         "xaxis": "x",
         "y": [
          18.517
         ],
         "yaxis": "y"
        },
        {
         "alignmentgroup": "True",
         "hovertemplate": "variable=Naive<br>level=%{x}<br>value=%{y}<br>value_format=%{text}<extra></extra>",
         "legendgroup": "Naive",
         "marker": {
          "color": "#00cc96",
          "pattern": {
           "shape": ""
          }
         },
         "name": "Naive",
         "offsetgroup": "Naive",
         "orientation": "v",
         "showlegend": true,
         "text": [
          "22,449",
          "11,248",
          "5,771"
         ],
         "textposition": "outside",
         "type": "bar",
         "x": [
          "region",
          "region/state",
          "region/state/item"
         ],
         "xaxis": "x",
         "y": [
          22.449,
          11.248,
          5.771
         ],
         "yaxis": "y"
        },
        {
         "alignmentgroup": "True",
         "hovertemplate": "variable=HoltWinters/BottomUp<br>level=%{x}<br>value=%{y}<br>value_format=%{text}<extra></extra>",
         "legendgroup": "HoltWinters/BottomUp",
         "marker": {
          "color": "#ab63fa",
          "pattern": {
           "shape": ""
          }
         },
         "name": "HoltWinters/BottomUp",
         "offsetgroup": "HoltWinters/BottomUp",
         "orientation": "v",
         "showlegend": true,
         "text": [
          "10,248",
          "5,52"
         ],
         "textposition": "outside",
         "type": "bar",
         "x": [
          "region/state",
          "region/state/item"
         ],
         "xaxis": "x",
         "y": [
          10.248,
          5.52
         ],
         "yaxis": "y"
        },
        {
         "alignmentgroup": "True",
         "hovertemplate": "variable=HoltWinters/MinTrace_method-mint_shrink_nonnegative-True<br>level=%{x}<br>value=%{y}<br>value_format=%{text}<extra></extra>",
         "legendgroup": "HoltWinters/MinTrace_method-mint_shrink_nonnegative-True",
         "marker": {
          "color": "#FFA15A",
          "pattern": {
           "shape": ""
          }
         },
         "name": "HoltWinters/MinTrace_method-mint_shrink_nonnegative-True",
         "offsetgroup": "HoltWinters/MinTrace_method-mint_shrink_nonnegative-True",
         "orientation": "v",
         "showlegend": true,
         "text": [
          "10,543",
          "5,541"
         ],
         "textposition": "outside",
         "type": "bar",
         "x": [
          "region/state",
          "region/state/item"
         ],
         "xaxis": "x",
         "y": [
          10.543,
          5.541
         ],
         "yaxis": "y"
        }
       ],
       "layout": {
        "autosize": true,
        "bargroupgap": 0.2,
        "barmode": "group",
        "font": {
         "size": 12
        },
        "legend": {
         "title": {
          "text": "Modelo/Reconciliação"
         },
         "tracegroupgap": 0
        },
        "margin": {
         "t": 60
        },
        "template": {
         "data": {
          "bar": [
           {
            "error_x": {
             "color": "#2a3f5f"
            },
            "error_y": {
             "color": "#2a3f5f"
            },
            "marker": {
             "line": {
              "color": "white",
              "width": 0.5
             },
             "pattern": {
              "fillmode": "overlay",
              "size": 10,
              "solidity": 0.2
             }
            },
            "type": "bar"
           }
          ],
          "barpolar": [
           {
            "marker": {
             "line": {
              "color": "white",
              "width": 0.5
             },
             "pattern": {
              "fillmode": "overlay",
              "size": 10,
              "solidity": 0.2
             }
            },
            "type": "barpolar"
           }
          ],
          "carpet": [
           {
            "aaxis": {
             "endlinecolor": "#2a3f5f",
             "gridcolor": "#C8D4E3",
             "linecolor": "#C8D4E3",
             "minorgridcolor": "#C8D4E3",
             "startlinecolor": "#2a3f5f"
            },
            "baxis": {
             "endlinecolor": "#2a3f5f",
             "gridcolor": "#C8D4E3",
             "linecolor": "#C8D4E3",
             "minorgridcolor": "#C8D4E3",
             "startlinecolor": "#2a3f5f"
            },
            "type": "carpet"
           }
          ],
          "choropleth": [
           {
            "colorbar": {
             "outlinewidth": 0,
             "ticks": ""
            },
            "type": "choropleth"
           }
          ],
          "contour": [
           {
            "colorbar": {
             "outlinewidth": 0,
             "ticks": ""
            },
            "colorscale": [
             [
              0,
              "#0d0887"
             ],
             [
              0.1111111111111111,
              "#46039f"
             ],
             [
              0.2222222222222222,
              "#7201a8"
             ],
             [
              0.3333333333333333,
              "#9c179e"
             ],
             [
              0.4444444444444444,
              "#bd3786"
             ],
             [
              0.5555555555555556,
              "#d8576b"
             ],
             [
              0.6666666666666666,
              "#ed7953"
             ],
             [
              0.7777777777777778,
              "#fb9f3a"
             ],
             [
              0.8888888888888888,
              "#fdca26"
             ],
             [
              1,
              "#f0f921"
             ]
            ],
            "type": "contour"
           }
          ],
          "contourcarpet": [
           {
            "colorbar": {
             "outlinewidth": 0,
             "ticks": ""
            },
            "type": "contourcarpet"
           }
          ],
          "heatmap": [
           {
            "colorbar": {
             "outlinewidth": 0,
             "ticks": ""
            },
            "colorscale": [
             [
              0,
              "#0d0887"
             ],
             [
              0.1111111111111111,
              "#46039f"
             ],
             [
              0.2222222222222222,
              "#7201a8"
             ],
             [
              0.3333333333333333,
              "#9c179e"
             ],
             [
              0.4444444444444444,
              "#bd3786"
             ],
             [
              0.5555555555555556,
              "#d8576b"
             ],
             [
              0.6666666666666666,
              "#ed7953"
             ],
             [
              0.7777777777777778,
              "#fb9f3a"
             ],
             [
              0.8888888888888888,
              "#fdca26"
             ],
             [
              1,
              "#f0f921"
             ]
            ],
            "type": "heatmap"
           }
          ],
          "heatmapgl": [
           {
            "colorbar": {
             "outlinewidth": 0,
             "ticks": ""
            },
            "colorscale": [
             [
              0,
              "#0d0887"
             ],
             [
              0.1111111111111111,
              "#46039f"
             ],
             [
              0.2222222222222222,
              "#7201a8"
             ],
             [
              0.3333333333333333,
              "#9c179e"
             ],
             [
              0.4444444444444444,
              "#bd3786"
             ],
             [
              0.5555555555555556,
              "#d8576b"
             ],
             [
              0.6666666666666666,
              "#ed7953"
             ],
             [
              0.7777777777777778,
              "#fb9f3a"
             ],
             [
              0.8888888888888888,
              "#fdca26"
             ],
             [
              1,
              "#f0f921"
             ]
            ],
            "type": "heatmapgl"
           }
          ],
          "histogram": [
           {
            "marker": {
             "pattern": {
              "fillmode": "overlay",
              "size": 10,
              "solidity": 0.2
             }
            },
            "type": "histogram"
           }
          ],
          "histogram2d": [
           {
            "colorbar": {
             "outlinewidth": 0,
             "ticks": ""
            },
            "colorscale": [
             [
              0,
              "#0d0887"
             ],
             [
              0.1111111111111111,
              "#46039f"
             ],
             [
              0.2222222222222222,
              "#7201a8"
             ],
             [
              0.3333333333333333,
              "#9c179e"
             ],
             [
              0.4444444444444444,
              "#bd3786"
             ],
             [
              0.5555555555555556,
              "#d8576b"
             ],
             [
              0.6666666666666666,
              "#ed7953"
             ],
             [
              0.7777777777777778,
              "#fb9f3a"
             ],
             [
              0.8888888888888888,
              "#fdca26"
             ],
             [
              1,
              "#f0f921"
             ]
            ],
            "type": "histogram2d"
           }
          ],
          "histogram2dcontour": [
           {
            "colorbar": {
             "outlinewidth": 0,
             "ticks": ""
            },
            "colorscale": [
             [
              0,
              "#0d0887"
             ],
             [
              0.1111111111111111,
              "#46039f"
             ],
             [
              0.2222222222222222,
              "#7201a8"
             ],
             [
              0.3333333333333333,
              "#9c179e"
             ],
             [
              0.4444444444444444,
              "#bd3786"
             ],
             [
              0.5555555555555556,
              "#d8576b"
             ],
             [
              0.6666666666666666,
              "#ed7953"
             ],
             [
              0.7777777777777778,
              "#fb9f3a"
             ],
             [
              0.8888888888888888,
              "#fdca26"
             ],
             [
              1,
              "#f0f921"
             ]
            ],
            "type": "histogram2dcontour"
           }
          ],
          "mesh3d": [
           {
            "colorbar": {
             "outlinewidth": 0,
             "ticks": ""
            },
            "type": "mesh3d"
           }
          ],
          "parcoords": [
           {
            "line": {
             "colorbar": {
              "outlinewidth": 0,
              "ticks": ""
             }
            },
            "type": "parcoords"
           }
          ],
          "pie": [
           {
            "automargin": true,
            "type": "pie"
           }
          ],
          "scatter": [
           {
            "fillpattern": {
             "fillmode": "overlay",
             "size": 10,
             "solidity": 0.2
            },
            "type": "scatter"
           }
          ],
          "scatter3d": [
           {
            "line": {
             "colorbar": {
              "outlinewidth": 0,
              "ticks": ""
             }
            },
            "marker": {
             "colorbar": {
              "outlinewidth": 0,
              "ticks": ""
             }
            },
            "type": "scatter3d"
           }
          ],
          "scattercarpet": [
           {
            "marker": {
             "colorbar": {
              "outlinewidth": 0,
              "ticks": ""
             }
            },
            "type": "scattercarpet"
           }
          ],
          "scattergeo": [
           {
            "marker": {
             "colorbar": {
              "outlinewidth": 0,
              "ticks": ""
             }
            },
            "type": "scattergeo"
           }
          ],
          "scattergl": [
           {
            "marker": {
             "colorbar": {
              "outlinewidth": 0,
              "ticks": ""
             }
            },
            "type": "scattergl"
           }
          ],
          "scattermapbox": [
           {
            "marker": {
             "colorbar": {
              "outlinewidth": 0,
              "ticks": ""
             }
            },
            "type": "scattermapbox"
           }
          ],
          "scatterpolar": [
           {
            "marker": {
             "colorbar": {
              "outlinewidth": 0,
              "ticks": ""
             }
            },
            "type": "scatterpolar"
           }
          ],
          "scatterpolargl": [
           {
            "marker": {
             "colorbar": {
              "outlinewidth": 0,
              "ticks": ""
             }
            },
            "type": "scatterpolargl"
           }
          ],
          "scatterternary": [
           {
            "marker": {
             "colorbar": {
              "outlinewidth": 0,
              "ticks": ""
             }
            },
            "type": "scatterternary"
           }
          ],
          "surface": [
           {
            "colorbar": {
             "outlinewidth": 0,
             "ticks": ""
            },
            "colorscale": [
             [
              0,
              "#0d0887"
             ],
             [
              0.1111111111111111,
              "#46039f"
             ],
             [
              0.2222222222222222,
              "#7201a8"
             ],
             [
              0.3333333333333333,
              "#9c179e"
             ],
             [
              0.4444444444444444,
              "#bd3786"
             ],
             [
              0.5555555555555556,
              "#d8576b"
             ],
             [
              0.6666666666666666,
              "#ed7953"
             ],
             [
              0.7777777777777778,
              "#fb9f3a"
             ],
             [
              0.8888888888888888,
              "#fdca26"
             ],
             [
              1,
              "#f0f921"
             ]
            ],
            "type": "surface"
           }
          ],
          "table": [
           {
            "cells": {
             "fill": {
              "color": "#EBF0F8"
             },
             "line": {
              "color": "white"
             }
            },
            "header": {
             "fill": {
              "color": "#C8D4E3"
             },
             "line": {
              "color": "white"
             }
            },
            "type": "table"
           }
          ]
         },
         "layout": {
          "annotationdefaults": {
           "arrowcolor": "#2a3f5f",
           "arrowhead": 0,
           "arrowwidth": 1
          },
          "autotypenumbers": "strict",
          "coloraxis": {
           "colorbar": {
            "outlinewidth": 0,
            "ticks": ""
           }
          },
          "colorscale": {
           "diverging": [
            [
             0,
             "#8e0152"
            ],
            [
             0.1,
             "#c51b7d"
            ],
            [
             0.2,
             "#de77ae"
            ],
            [
             0.3,
             "#f1b6da"
            ],
            [
             0.4,
             "#fde0ef"
            ],
            [
             0.5,
             "#f7f7f7"
            ],
            [
             0.6,
             "#e6f5d0"
            ],
            [
             0.7,
             "#b8e186"
            ],
            [
             0.8,
             "#7fbc41"
            ],
            [
             0.9,
             "#4d9221"
            ],
            [
             1,
             "#276419"
            ]
           ],
           "sequential": [
            [
             0,
             "#0d0887"
            ],
            [
             0.1111111111111111,
             "#46039f"
            ],
            [
             0.2222222222222222,
             "#7201a8"
            ],
            [
             0.3333333333333333,
             "#9c179e"
            ],
            [
             0.4444444444444444,
             "#bd3786"
            ],
            [
             0.5555555555555556,
             "#d8576b"
            ],
            [
             0.6666666666666666,
             "#ed7953"
            ],
            [
             0.7777777777777778,
             "#fb9f3a"
            ],
            [
             0.8888888888888888,
             "#fdca26"
            ],
            [
             1,
             "#f0f921"
            ]
           ],
           "sequentialminus": [
            [
             0,
             "#0d0887"
            ],
            [
             0.1111111111111111,
             "#46039f"
            ],
            [
             0.2222222222222222,
             "#7201a8"
            ],
            [
             0.3333333333333333,
             "#9c179e"
            ],
            [
             0.4444444444444444,
             "#bd3786"
            ],
            [
             0.5555555555555556,
             "#d8576b"
            ],
            [
             0.6666666666666666,
             "#ed7953"
            ],
            [
             0.7777777777777778,
             "#fb9f3a"
            ],
            [
             0.8888888888888888,
             "#fdca26"
            ],
            [
             1,
             "#f0f921"
            ]
           ]
          },
          "colorway": [
           "#636efa",
           "#EF553B",
           "#00cc96",
           "#ab63fa",
           "#FFA15A",
           "#19d3f3",
           "#FF6692",
           "#B6E880",
           "#FF97FF",
           "#FECB52"
          ],
          "font": {
           "color": "#2a3f5f"
          },
          "geo": {
           "bgcolor": "white",
           "lakecolor": "white",
           "landcolor": "white",
           "showlakes": true,
           "showland": true,
           "subunitcolor": "#C8D4E3"
          },
          "hoverlabel": {
           "align": "left"
          },
          "hovermode": "closest",
          "mapbox": {
           "style": "light"
          },
          "paper_bgcolor": "white",
          "plot_bgcolor": "white",
          "polar": {
           "angularaxis": {
            "gridcolor": "#EBF0F8",
            "linecolor": "#EBF0F8",
            "ticks": ""
           },
           "bgcolor": "white",
           "radialaxis": {
            "gridcolor": "#EBF0F8",
            "linecolor": "#EBF0F8",
            "ticks": ""
           }
          },
          "scene": {
           "xaxis": {
            "backgroundcolor": "white",
            "gridcolor": "#DFE8F3",
            "gridwidth": 2,
            "linecolor": "#EBF0F8",
            "showbackground": true,
            "ticks": "",
            "zerolinecolor": "#EBF0F8"
           },
           "yaxis": {
            "backgroundcolor": "white",
            "gridcolor": "#DFE8F3",
            "gridwidth": 2,
            "linecolor": "#EBF0F8",
            "showbackground": true,
            "ticks": "",
            "zerolinecolor": "#EBF0F8"
           },
           "zaxis": {
            "backgroundcolor": "white",
            "gridcolor": "#DFE8F3",
            "gridwidth": 2,
            "linecolor": "#EBF0F8",
            "showbackground": true,
            "ticks": "",
            "zerolinecolor": "#EBF0F8"
           }
          },
          "shapedefaults": {
           "line": {
            "color": "#2a3f5f"
           }
          },
          "ternary": {
           "aaxis": {
            "gridcolor": "#DFE8F3",
            "linecolor": "#A2B1C6",
            "ticks": ""
           },
           "baxis": {
            "gridcolor": "#DFE8F3",
            "linecolor": "#A2B1C6",
            "ticks": ""
           },
           "bgcolor": "white",
           "caxis": {
            "gridcolor": "#DFE8F3",
            "linecolor": "#A2B1C6",
            "ticks": ""
           }
          },
          "title": {
           "x": 0.05
          },
          "xaxis": {
           "automargin": true,
           "gridcolor": "#EBF0F8",
           "linecolor": "#EBF0F8",
           "ticks": "",
           "title": {
            "standoff": 15
           },
           "zerolinecolor": "#EBF0F8",
           "zerolinewidth": 2
          },
          "yaxis": {
           "automargin": true,
           "gridcolor": "#EBF0F8",
           "linecolor": "#EBF0F8",
           "ticks": "",
           "title": {
            "standoff": 15
           },
           "zerolinecolor": "#EBF0F8",
           "zerolinewidth": 2
          }
         }
        },
        "xaxis": {
         "anchor": "y",
         "autorange": true,
         "domain": [
          0,
          1
         ],
         "range": [
          -0.5,
          2.5
         ],
         "title": {
          "text": "Nível da hierarquia"
         },
         "type": "category"
        },
        "yaxis": {
         "anchor": "x",
         "autorange": true,
         "domain": [
          0,
          1
         ],
         "range": [
          0,
          23.630526315789474
         ],
         "showgrid": false,
         "showticklabels": false,
         "title": {
          "text": "RMSE"
         },
         "type": "linear",
         "visible": true
        }
       }
      },
      "image/png": "[encoded data removed]",
      "text/html": [
       "<div>                            <div id=\"358c5fb5-4c40-4ab5-a6cc-eb0470b55cdc\" class=\"plotly-graph-div\" style=\"height:525px; width:100%;\"></div>            <script type=\"text/javascript\">                require([\"plotly\"], function(Plotly) {                    window.PLOTLYENV=window.PLOTLYENV || {};                                    if (document.getElementById(\"358c5fb5-4c40-4ab5-a6cc-eb0470b55cdc\")) {                    Plotly.newPlot(                        \"358c5fb5-4c40-4ab5-a6cc-eb0470b55cdc\",                        [{\"alignmentgroup\":\"True\",\"hovertemplate\":\"variable=HoltWinters\\u002fOptimalCombination_method-wls_struct_nonnegative-True\\u003cbr\\u003elevel=%{x}\\u003cbr\\u003evalue=%{y}\\u003cbr\\u003evalue_format=%{text}\\u003cextra\\u003e\\u003c\\u002fextra\\u003e\",\"legendgroup\":\"HoltWinters\\u002fOptimalCombination_method-wls_struct_nonnegative-True\",\"marker\":{\"color\":\"#636efa\",\"pattern\":{\"shape\":\"\"}},\"name\":\"HoltWinters\\u002fOptimalCombination_method-wls_struct_nonnegative-True\",\"offsetgroup\":\"HoltWinters\\u002fOptimalCombination_method-wls_struct_nonnegative-True\",\"orientation\":\"v\",\"showlegend\":true,\"text\":[\"18,517\"],\"textposition\":\"outside\",\"x\":[\"region\"],\"xaxis\":\"x\",\"y\":[18.517],\"yaxis\":\"y\",\"type\":\"bar\"},{\"alignmentgroup\":\"True\",\"hovertemplate\":\"variable=HoltWinters\\u002fMinTrace_method-wls_struct_nonnegative-True\\u003cbr\\u003elevel=%{x}\\u003cbr\\u003evalue=%{y}\\u003cbr\\u003evalue_format=%{text}\\u003cextra\\u003e\\u003c\\u002fextra\\u003e\",\"legendgroup\":\"HoltWinters\\u002fMinTrace_method-wls_struct_nonnegative-True\",\"marker\":{\"color\":\"#EF553B\",\"pattern\":{\"shape\":\"\"}},\"name\":\"HoltWinters\\u002fMinTrace_method-wls_struct_nonnegative-True\",\"offsetgroup\":\"HoltWinters\\u002fMinTrace_method-wls_struct_nonnegative-True\",\"orientation\":\"v\",\"showlegend\":true,\"text\":[\"18,517\"],\"textposition\":\"outside\",\"x\":[\"region\"],\"xaxis\":\"x\",\"y\":[18.517],\"yaxis\":\"y\",\"type\":\"bar\"},{\"alignmentgroup\":\"True\",\"hovertemplate\":\"variable=Naive\\u003cbr\\u003elevel=%{x}\\u003cbr\\u003evalue=%{y}\\u003cbr\\u003evalue_format=%{text}\\u003cextra\\u003e\\u003c\\u002fextra\\u003e\",\"legendgroup\":\"Naive\",\"marker\":{\"color\":\"#00cc96\",\"pattern\":{\"shape\":\"\"}},\"name\":\"Naive\",\"offsetgroup\":\"Naive\",\"orientation\":\"v\",\"showlegend\":true,\"text\":[\"22,449\",\"11,248\",\"5,771\"],\"textposition\":\"outside\",\"x\":[\"region\",\"region\\u002fstate\",\"region\\u002fstate\\u002fitem\"],\"xaxis\":\"x\",\"y\":[22.449,11.248,5.771],\"yaxis\":\"y\",\"type\":\"bar\"},{\"alignmentgroup\":\"True\",\"hovertemplate\":\"variable=HoltWinters\\u002fBottomUp\\u003cbr\\u003elevel=%{x}\\u003cbr\\u003evalue=%{y}\\u003cbr\\u003evalue_format=%{text}\\u003cextra\\u003e\\u003c\\u002fextra\\u003e\",\"legendgroup\":\"HoltWinters\\u002fBottomUp\",\"marker\":{\"color\":\"#ab63fa\",\"pattern\":{\"shape\":\"\"}},\"name\":\"HoltWinters\\u002fBottomUp\",\"offsetgroup\":\"HoltWinters\\u002fBottomUp\",\"orientation\":\"v\",\"showlegend\":true,\"text\":[\"10,248\",\"5,52\"],\"textposition\":\"outside\",\"x\":[\"region\\u002fstate\",\"region\\u002fstate\\u002fitem\"],\"xaxis\":\"x\",\"y\":[10.248,5.52],\"yaxis\":\"y\",\"type\":\"bar\"},{\"alignmentgroup\":\"True\",\"hovertemplate\":\"variable=HoltWinters\\u002fMinTrace_method-mint_shrink_nonnegative-True\\u003cbr\\u003elevel=%{x}\\u003cbr\\u003evalue=%{y}\\u003cbr\\u003evalue_format=%{text}\\u003cextra\\u003e\\u003c\\u002fextra\\u003e\",\"legendgroup\":\"HoltWinters\\u002fMinTrace_method-mint_shrink_nonnegative-True\",\"marker\":{\"color\":\"#FFA15A\",\"pattern\":{\"shape\":\"\"}},\"name\":\"HoltWinters\\u002fMinTrace_method-mint_shrink_nonnegative-True\",\"offsetgroup\":\"HoltWinters\\u002fMinTrace_method-mint_shrink_nonnegative-True\",\"orientation\":\"v\",\"showlegend\":true,\"text\":[\"10,543\",\"5,541\"],\"textposition\":\"outside\",\"x\":[\"region\\u002fstate\",\"region\\u002fstate\\u002fitem\"],\"xaxis\":\"x\",\"y\":[10.543,5.541],\"yaxis\":\"y\",\"type\":\"bar\"}],                        {\"template\":{\"data\":{\"barpolar\":[{\"marker\":{\"line\":{\"color\":\"white\",\"width\":0.5},\"pattern\":{\"fillmode\":\"overlay\",\"size\":10,\"solidity\":0.2}},\"type\":\"barpolar\"}],\"bar\":[{\"error_x\":{\"color\":\"#2a3f5f\"},\"error_y\":{\"color\":\"#2a3f5f\"},\"marker\":{\"line\":{\"color\":\"white\",\"width\":0.5},\"pattern\":{\"fillmode\":\"overlay\",\"size\":10,\"solidity\":0.2}},\"type\":\"bar\"}],\"carpet\":[{\"aaxis\":{\"endlinecolor\":\"#2a3f5f\",\"gridcolor\":\"#C8D4E3\",\"linecolor\":\"#C8D4E3\",\"minorgridcolor\":\"#C8D4E3\",\"startlinecolor\":\"#2a3f5f\"},\"baxis\":{\"endlinecolor\":\"#2a3f5f\",\"gridcolor\":\"#C8D4E3\",\"linecolor\":\"#C8D4E3\",\"minorgridcolor\":\"#C8D4E3\",\"startlinecolor\":\"#2a3f5f\"},\"type\":\"carpet\"}],\"choropleth\":[{\"colorbar\":{\"outlinewidth\":0,\"ticks\":\"\"},\"type\":\"choropleth\"}],\"contourcarpet\":[{\"colorbar\":{\"outlinewidth\":0,\"ticks\":\"\"},\"type\":\"contourcarpet\"}],\"contour\":[{\"colorbar\":{\"outlinewidth\":0,\"ticks\":\"\"},\"colorscale\":[[0.0,\"#0d0887\"],[0.1111111111111111,\"#46039f\"],[0.2222222222222222,\"#7201a8\"],[0.3333333333333333,\"#9c179e\"],[0.4444444444444444,\"#bd3786\"],[0.5555555555555556,\"#d8576b\"],[0.6666666666666666,\"#ed7953\"],[0.7777777777777778,\"#fb9f3a\"],[0.8888888888888888,\"#fdca26\"],[1.0,\"#f0f921\"]],\"type\":\"contour\"}],\"heatmapgl\":[{\"colorbar\":{\"outlinewidth\":0,\"ticks\":\"\"},\"colorscale\":[[0.0,\"#0d0887\"],[0.1111111111111111,\"#46039f\"],[0.2222222222222222,\"#7201a8\"],[0.3333333333333333,\"#9c179e\"],[0.4444444444444444,\"#bd3786\"],[0.5555555555555556,\"#d8576b\"],[0.6666666666666666,\"#ed7953\"],[0.7777777777777778,\"#fb9f3a\"],[0.8888888888888888,\"#fdca26\"],[1.0,\"#f0f921\"]],\"type\":\"heatmapgl\"}],\"heatmap\":[{\"colorbar\":{\"outlinewidth\":0,\"ticks\":\"\"},\"colorscale\":[[0.0,\"#0d0887\"],[0.1111111111111111,\"#46039f\"],[0.2222222222222222,\"#7201a8\"],[0.3333333333333333,\"#9c179e\"],[0.4444444444444444,\"#bd3786\"],[0.5555555555555556,\"#d8576b\"],[0.6666666666666666,\"#ed7953\"],[0.7777777777777778,\"#fb9f3a\"],[0.8888888888888888,\"#fdca26\"],[1.0,\"#f0f921\"]],\"type\":\"heatmap\"}],\"histogram2dcontour\":[{\"colorbar\":{\"outlinewidth\":0,\"ticks\":\"\"},\"colorscale\":[[0.0,\"#0d0887\"],[0.1111111111111111,\"#46039f\"],[0.2222222222222222,\"#7201a8\"],[0.3333333333333333,\"#9c179e\"],[0.4444444444444444,\"#bd3786\"],[0.5555555555555556,\"#d8576b\"],[0.6666666666666666,\"#ed7953\"],[0.7777777777777778,\"#fb9f3a\"],[0.8888888888888888,\"#fdca26\"],[1.0,\"#f0f921\"]],\"type\":\"histogram2dcontour\"}],\"histogram2d\":[{\"colorbar\":{\"outlinewidth\":0,\"ticks\":\"\"},\"colorscale\":[[0.0,\"#0d0887\"],[0.1111111111111111,\"#46039f\"],[0.2222222222222222,\"#7201a8\"],[0.3333333333333333,\"#9c179e\"],[0.4444444444444444,\"#bd3786\"],[0.5555555555555556,\"#d8576b\"],[0.6666666666666666,\"#ed7953\"],[0.7777777777777778,\"#fb9f3a\"],[0.8888888888888888,\"#fdca26\"],[1.0,\"#f0f921\"]],\"type\":\"histogram2d\"}],\"histogram\":[{\"marker\":{\"pattern\":{\"fillmode\":\"overlay\",\"size\":10,\"solidity\":0.2}},\"type\":\"histogram\"}],\"mesh3d\":[{\"colorbar\":{\"outlinewidth\":0,\"ticks\":\"\"},\"type\":\"mesh3d\"}],\"parcoords\":[{\"line\":{\"colorbar\":{\"outlinewidth\":0,\"ticks\":\"\"}},\"type\":\"parcoords\"}],\"pie\":[{\"automargin\":true,\"type\":\"pie\"}],\"scatter3d\":[{\"line\":{\"colorbar\":{\"outlinewidth\":0,\"ticks\":\"\"}},\"marker\":{\"colorbar\":{\"outlinewidth\":0,\"ticks\":\"\"}},\"type\":\"scatter3d\"}],\"scattercarpet\":[{\"marker\":{\"colorbar\":{\"outlinewidth\":0,\"ticks\":\"\"}},\"type\":\"scattercarpet\"}],\"scattergeo\":[{\"marker\":{\"colorbar\":{\"outlinewidth\":0,\"ticks\":\"\"}},\"type\":\"scattergeo\"}],\"scattergl\":[{\"marker\":{\"colorbar\":{\"outlinewidth\":0,\"ticks\":\"\"}},\"type\":\"scattergl\"}],\"scattermapbox\":[{\"marker\":{\"colorbar\":{\"outlinewidth\":0,\"ticks\":\"\"}},\"type\":\"scattermapbox\"}],\"scatterpolargl\":[{\"marker\":{\"colorbar\":{\"outlinewidth\":0,\"ticks\":\"\"}},\"type\":\"scatterpolargl\"}],\"scatterpolar\":[{\"marker\":{\"colorbar\":{\"outlinewidth\":0,\"ticks\":\"\"}},\"type\":\"scatterpolar\"}],\"scatter\":[{\"fillpattern\":{\"fillmode\":\"overlay\",\"size\":10,\"solidity\":0.2},\"type\":\"scatter\"}],\"scatterternary\":[{\"marker\":{\"colorbar\":{\"outlinewidth\":0,\"ticks\":\"\"}},\"type\":\"scatterternary\"}],\"surface\":[{\"colorbar\":{\"outlinewidth\":0,\"ticks\":\"\"},\"colorscale\":[[0.0,\"#0d0887\"],[0.1111111111111111,\"#46039f\"],[0.2222222222222222,\"#7201a8\"],[0.3333333333333333,\"#9c179e\"],[0.4444444444444444,\"#bd3786\"],[0.5555555555555556,\"#d8576b\"],[0.6666666666666666,\"#ed7953\"],[0.7777777777777778,\"#fb9f3a\"],[0.8888888888888888,\"#fdca26\"],[1.0,\"#f0f921\"]],\"type\":\"surface\"}],\"table\":[{\"cells\":{\"fill\":{\"color\":\"#EBF0F8\"},\"line\":{\"color\":\"white\"}},\"header\":{\"fill\":{\"color\":\"#C8D4E3\"},\"line\":{\"color\":\"white\"}},\"type\":\"table\"}]},\"layout\":{\"annotationdefaults\":{\"arrowcolor\":\"#2a3f5f\",\"arrowhead\":0,\"arrowwidth\":1},\"autotypenumbers\":\"strict\",\"coloraxis\":{\"colorbar\":{\"outlinewidth\":0,\"ticks\":\"\"}},\"colorscale\":{\"diverging\":[[0,\"#8e0152\"],[0.1,\"#c51b7d\"],[0.2,\"#de77ae\"],[0.3,\"#f1b6da\"],[0.4,\"#fde0ef\"],[0.5,\"#f7f7f7\"],[0.6,\"#e6f5d0\"],[0.7,\"#b8e186\"],[0.8,\"#7fbc41\"],[0.9,\"#4d9221\"],[1,\"#276419\"]],\"sequential\":[[0.0,\"#0d0887\"],[0.1111111111111111,\"#46039f\"],[0.2222222222222222,\"#7201a8\"],[0.3333333333333333,\"#9c179e\"],[0.4444444444444444,\"#bd3786\"],[0.5555555555555556,\"#d8576b\"],[0.6666666666666666,\"#ed7953\"],[0.7777777777777778,\"#fb9f3a\"],[0.8888888888888888,\"#fdca26\"],[1.0,\"#f0f921\"]],\"sequentialminus\":[[0.0,\"#0d0887\"],[0.1111111111111111,\"#46039f\"],[0.2222222222222222,\"#7201a8\"],[0.3333333333333333,\"#9c179e\"],[0.4444444444444444,\"#bd3786\"],[0.5555555555555556,\"#d8576b\"],[0.6666666666666666,\"#ed7953\"],[0.7777777777777778,\"#fb9f3a\"],[0.8888888888888888,\"#fdca26\"],[1.0,\"#f0f921\"]]},\"colorway\":[\"#636efa\",\"#EF553B\",\"#00cc96\",\"#ab63fa\",\"#FFA15A\",\"#19d3f3\",\"#FF6692\",\"#B6E880\",\"#FF97FF\",\"#FECB52\"],\"font\":{\"color\":\"#2a3f5f\"},\"geo\":{\"bgcolor\":\"white\",\"lakecolor\":\"white\",\"landcolor\":\"white\",\"showlakes\":true,\"showland\":true,\"subunitcolor\":\"#C8D4E3\"},\"hoverlabel\":{\"align\":\"left\"},\"hovermode\":\"closest\",\"mapbox\":{\"style\":\"light\"},\"paper_bgcolor\":\"white\",\"plot_bgcolor\":\"white\",\"polar\":{\"angularaxis\":{\"gridcolor\":\"#EBF0F8\",\"linecolor\":\"#EBF0F8\",\"ticks\":\"\"},\"bgcolor\":\"white\",\"radialaxis\":{\"gridcolor\":\"#EBF0F8\",\"linecolor\":\"#EBF0F8\",\"ticks\":\"\"}},\"scene\":{\"xaxis\":{\"backgroundcolor\":\"white\",\"gridcolor\":\"#DFE8F3\",\"gridwidth\":2,\"linecolor\":\"#EBF0F8\",\"showbackground\":true,\"ticks\":\"\",\"zerolinecolor\":\"#EBF0F8\"},\"yaxis\":{\"backgroundcolor\":\"white\",\"gridcolor\":\"#DFE8F3\",\"gridwidth\":2,\"linecolor\":\"#EBF0F8\",\"showbackground\":true,\"ticks\":\"\",\"zerolinecolor\":\"#EBF0F8\"},\"zaxis\":{\"backgroundcolor\":\"white\",\"gridcolor\":\"#DFE8F3\",\"gridwidth\":2,\"linecolor\":\"#EBF0F8\",\"showbackground\":true,\"ticks\":\"\",\"zerolinecolor\":\"#EBF0F8\"}},\"shapedefaults\":{\"line\":{\"color\":\"#2a3f5f\"}},\"ternary\":{\"aaxis\":{\"gridcolor\":\"#DFE8F3\",\"linecolor\":\"#A2B1C6\",\"ticks\":\"\"},\"baxis\":{\"gridcolor\":\"#DFE8F3\",\"linecolor\":\"#A2B1C6\",\"ticks\":\"\"},\"bgcolor\":\"white\",\"caxis\":{\"gridcolor\":\"#DFE8F3\",\"linecolor\":\"#A2B1C6\",\"ticks\":\"\"}},\"title\":{\"x\":0.05},\"xaxis\":{\"automargin\":true,\"gridcolor\":\"#EBF0F8\",\"linecolor\":\"#EBF0F8\",\"ticks\":\"\",\"title\":{\"standoff\":15},\"zerolinecolor\":\"#EBF0F8\",\"zerolinewidth\":2},\"yaxis\":{\"automargin\":true,\"gridcolor\":\"#EBF0F8\",\"linecolor\":\"#EBF0F8\",\"ticks\":\"\",\"title\":{\"standoff\":15},\"zerolinecolor\":\"#EBF0F8\",\"zerolinewidth\":2}}},\"xaxis\":{\"anchor\":\"y\",\"domain\":[0.0,1.0],\"title\":{\"text\":\"N\\u00edvel da hierarquia\"}},\"yaxis\":{\"anchor\":\"x\",\"domain\":[0.0,1.0],\"title\":{\"text\":\"RMSE\"},\"visible\":true,\"showticklabels\":false,\"showgrid\":false},\"legend\":{\"title\":{\"text\":\"Modelo\\u002fReconcilia\\u00e7\\u00e3o\"},\"tracegroupgap\":0},\"margin\":{\"t\":60},\"barmode\":\"group\",\"font\":{\"size\":12},\"bargroupgap\":0.2},                        {\"responsive\": true}                    ).then(function(){\n",
       "                            \n",
       "var gd = document.getElementById('358c5fb5-4c40-4ab5-a6cc-eb0470b55cdc');\n",
       "var x = new MutationObserver(function (mutations, observer) {{\n",
       "        var display = window.getComputedStyle(gd).display;\n",
       "        if (!display || display === 'none') {{\n",
       "            console.log([gd, 'removed!']);\n",
       "            Plotly.purge(gd);\n",
       "            observer.disconnect();\n",
       "        }}\n",
       "}});\n",
       "\n",
       "// Listen for the removal of the full notebook cells\n",
       "var notebookContainer = gd.closest('#notebook-container');\n",
       "if (notebookContainer) {{\n",
       "    x.observe(notebookContainer, {childList: true});\n",
       "}}\n",
       "\n",
       "// Listen for the clearing of the current output cell\n",
       "var outputEl = gd.closest('.output');\n",
       "if (outputEl) {{\n",
       "    x.observe(outputEl, {childList: true});\n",
       "}}\n",
       "\n",
       "                        })                };                });            </script>        </div>"
      ]
     },
     "metadata": {},
     "output_type": "display_data"
    },
    {
     "name": "stdout",
     "output_type": "stream",
     "text": [
      "time: 77.3 ms (started: 2024-01-02 15:01:48 -03:00)\n"
     ]
    }
   ],
   "source": [
    "fig = px.bar(data_frame = df_metricas, \n",
    "             x = 'level',\n",
    "             y = 'value',\n",
    "             color = 'variable',\n",
    "             barmode = 'group', \n",
    "             text = 'value_format', \n",
    "             template = 'plotly_white')\n",
    "\n",
    "fig.update_layout(\n",
    "    yaxis_title = 'RMSE',\n",
    "    xaxis_title = 'Nível da hierarquia',\n",
    "    legend_title = 'Modelo/Reconciliação',\n",
    "    yaxis_visible = False,\n",
    "    bargroupgap = 0.2,\n",
    "    font = dict(\n",
    "        size = 12\n",
    "    )\n",
    ")\n",
    "\n",
    "fig.update_traces(\n",
    "    textposition = 'outside'\n",
    ")\n",
    "\n",
    "fig.update_yaxes(\n",
    "    visible = True,\n",
    "    showticklabels = False, \n",
    "    showgrid = False\n",
    ")\n",
    "\n",
    "fig.show()"
   ]
  },
  {
   "cell_type": "markdown",
   "id": "ee2e0e76-5098-4a93-a355-2a1e325e31ca",
   "metadata": {},
   "source": [
    "## 6. Dataframe com a tabela final para um \"cliente\""
   ]
  },
  {
   "cell_type": "code",
   "execution_count": 155,
   "id": "5676d500-2a61-4730-9674-25db2d76882d",
   "metadata": {},
   "outputs": [
    {
     "name": "stdout",
     "output_type": "stream",
     "text": [
      "time: 2.28 ms (started: 2024-01-02 16:59:31 -03:00)\n"
     ]
    }
   ],
   "source": [
    "def create_final_df(df_pred: pd.DataFrame, cols_split: str):\n",
    "\n",
    "    df1 = df_pred\\\n",
    "        .reset_index()\\\n",
    "        .assign(\\\n",
    "            nivel_hierarquia = lambda x: np.where(x['unique_id'].str.count('/') == 0, 1, x['unique_id'].str.count('/') + 1)\n",
    "        )\\\n",
    "        .query('nivel_hierarquia == 3')\n",
    "    \n",
    "    df1[cols_split] = df1['unique_id'].str.split(pat = '/', n = len(cols_split), expand = True)\n",
    "    \n",
    "    df1 = df1[cols_split + ['ds'] + df1.select_dtypes(include = 'number').columns.tolist()]\n",
    "\n",
    "    return df1"
   ]
  },
  {
   "cell_type": "code",
   "execution_count": 156,
   "id": "11275357-d4b2-4e48-a2b1-50dcb03af870",
   "metadata": {},
   "outputs": [
    {
     "data": {
      "text/html": [
       "<div>\n",
       "<style scoped>\n",
       "    .dataframe tbody tr th:only-of-type {\n",
       "        vertical-align: middle;\n",
       "    }\n",
       "\n",
       "    .dataframe tbody tr th {\n",
       "        vertical-align: top;\n",
       "    }\n",
       "\n",
       "    .dataframe thead th {\n",
       "        text-align: right;\n",
       "    }\n",
       "</style>\n",
       "<table border=\"1\" class=\"dataframe\">\n",
       "  <thead>\n",
       "    <tr style=\"text-align: right;\">\n",
       "      <th></th>\n",
       "      <th>region</th>\n",
       "      <th>state</th>\n",
       "      <th>item</th>\n",
       "      <th>ds</th>\n",
       "      <th>Naive</th>\n",
       "      <th>AutoARIMA</th>\n",
       "      <th>HoltWinters</th>\n",
       "      <th>AutoETS</th>\n",
       "      <th>Naive/BottomUp</th>\n",
       "      <th>AutoARIMA/BottomUp</th>\n",
       "      <th>...</th>\n",
       "      <th>AutoETS/MinTrace_method-mint_shrink_nonnegative-True</th>\n",
       "      <th>Naive/OptimalCombination_method-ols_nonnegative-True</th>\n",
       "      <th>AutoARIMA/OptimalCombination_method-ols_nonnegative-True</th>\n",
       "      <th>HoltWinters/OptimalCombination_method-ols_nonnegative-True</th>\n",
       "      <th>AutoETS/OptimalCombination_method-ols_nonnegative-True</th>\n",
       "      <th>Naive/OptimalCombination_method-wls_struct_nonnegative-True</th>\n",
       "      <th>AutoARIMA/OptimalCombination_method-wls_struct_nonnegative-True</th>\n",
       "      <th>HoltWinters/OptimalCombination_method-wls_struct_nonnegative-True</th>\n",
       "      <th>AutoETS/OptimalCombination_method-wls_struct_nonnegative-True</th>\n",
       "      <th>nivel_hierarquia</th>\n",
       "    </tr>\n",
       "  </thead>\n",
       "  <tbody>\n",
       "    <tr>\n",
       "      <th>4807</th>\n",
       "      <td>EastNorthCentral</td>\n",
       "      <td>Illinois</td>\n",
       "      <td>kids_clothing</td>\n",
       "      <td>2009-01-01</td>\n",
       "      <td>75.0</td>\n",
       "      <td>74.016640</td>\n",
       "      <td>73.784897</td>\n",
       "      <td>73.806236</td>\n",
       "      <td>75.0</td>\n",
       "      <td>74.016640</td>\n",
       "      <td>...</td>\n",
       "      <td>73.808914</td>\n",
       "      <td>75.0</td>\n",
       "      <td>74.026009</td>\n",
       "      <td>73.792969</td>\n",
       "      <td>73.821167</td>\n",
       "      <td>75.0</td>\n",
       "      <td>74.027794</td>\n",
       "      <td>73.796173</td>\n",
       "      <td>73.822441</td>\n",
       "      <td>3</td>\n",
       "    </tr>\n",
       "    <tr>\n",
       "      <th>4808</th>\n",
       "      <td>EastNorthCentral</td>\n",
       "      <td>Illinois</td>\n",
       "      <td>kids_clothing</td>\n",
       "      <td>2009-01-02</td>\n",
       "      <td>75.0</td>\n",
       "      <td>73.953484</td>\n",
       "      <td>73.894379</td>\n",
       "      <td>73.806236</td>\n",
       "      <td>75.0</td>\n",
       "      <td>73.953484</td>\n",
       "      <td>...</td>\n",
       "      <td>73.806984</td>\n",
       "      <td>75.0</td>\n",
       "      <td>74.027824</td>\n",
       "      <td>73.919899</td>\n",
       "      <td>73.815529</td>\n",
       "      <td>75.0</td>\n",
       "      <td>74.005318</td>\n",
       "      <td>73.915092</td>\n",
       "      <td>73.818184</td>\n",
       "      <td>3</td>\n",
       "    </tr>\n",
       "    <tr>\n",
       "      <th>4809</th>\n",
       "      <td>EastNorthCentral</td>\n",
       "      <td>Illinois</td>\n",
       "      <td>kids_clothing</td>\n",
       "      <td>2009-01-03</td>\n",
       "      <td>75.0</td>\n",
       "      <td>73.867889</td>\n",
       "      <td>73.844353</td>\n",
       "      <td>73.806236</td>\n",
       "      <td>75.0</td>\n",
       "      <td>73.867889</td>\n",
       "      <td>...</td>\n",
       "      <td>73.804932</td>\n",
       "      <td>75.0</td>\n",
       "      <td>73.944611</td>\n",
       "      <td>73.834785</td>\n",
       "      <td>73.809883</td>\n",
       "      <td>75.0</td>\n",
       "      <td>73.920364</td>\n",
       "      <td>73.841125</td>\n",
       "      <td>73.813934</td>\n",
       "      <td>3</td>\n",
       "    </tr>\n",
       "    <tr>\n",
       "      <th>4810</th>\n",
       "      <td>EastNorthCentral</td>\n",
       "      <td>Illinois</td>\n",
       "      <td>kids_clothing</td>\n",
       "      <td>2009-01-04</td>\n",
       "      <td>75.0</td>\n",
       "      <td>73.844994</td>\n",
       "      <td>73.781334</td>\n",
       "      <td>73.806236</td>\n",
       "      <td>75.0</td>\n",
       "      <td>73.844994</td>\n",
       "      <td>...</td>\n",
       "      <td>73.802788</td>\n",
       "      <td>75.0</td>\n",
       "      <td>73.955772</td>\n",
       "      <td>73.764709</td>\n",
       "      <td>73.804237</td>\n",
       "      <td>75.0</td>\n",
       "      <td>73.919724</td>\n",
       "      <td>73.777573</td>\n",
       "      <td>73.809677</td>\n",
       "      <td>3</td>\n",
       "    </tr>\n",
       "    <tr>\n",
       "      <th>4811</th>\n",
       "      <td>EastNorthCentral</td>\n",
       "      <td>Illinois</td>\n",
       "      <td>kids_clothing</td>\n",
       "      <td>2009-01-05</td>\n",
       "      <td>75.0</td>\n",
       "      <td>73.833824</td>\n",
       "      <td>73.818901</td>\n",
       "      <td>73.806236</td>\n",
       "      <td>75.0</td>\n",
       "      <td>73.833824</td>\n",
       "      <td>...</td>\n",
       "      <td>73.800598</td>\n",
       "      <td>75.0</td>\n",
       "      <td>73.915092</td>\n",
       "      <td>73.774422</td>\n",
       "      <td>73.798592</td>\n",
       "      <td>75.0</td>\n",
       "      <td>73.889175</td>\n",
       "      <td>73.796768</td>\n",
       "      <td>73.805420</td>\n",
       "      <td>3</td>\n",
       "    </tr>\n",
       "    <tr>\n",
       "      <th>...</th>\n",
       "      <td>...</td>\n",
       "      <td>...</td>\n",
       "      <td>...</td>\n",
       "      <td>...</td>\n",
       "      <td>...</td>\n",
       "      <td>...</td>\n",
       "      <td>...</td>\n",
       "      <td>...</td>\n",
       "      <td>...</td>\n",
       "      <td>...</td>\n",
       "      <td>...</td>\n",
       "      <td>...</td>\n",
       "      <td>...</td>\n",
       "      <td>...</td>\n",
       "      <td>...</td>\n",
       "      <td>...</td>\n",
       "      <td>...</td>\n",
       "      <td>...</td>\n",
       "      <td>...</td>\n",
       "      <td>...</td>\n",
       "      <td>...</td>\n",
       "    </tr>\n",
       "    <tr>\n",
       "      <th>23821</th>\n",
       "      <td>SouthCentral</td>\n",
       "      <td>Tennessee</td>\n",
       "      <td>womens_shoes</td>\n",
       "      <td>2009-07-24</td>\n",
       "      <td>31.0</td>\n",
       "      <td>30.206762</td>\n",
       "      <td>30.586092</td>\n",
       "      <td>30.206419</td>\n",
       "      <td>31.0</td>\n",
       "      <td>30.206762</td>\n",
       "      <td>...</td>\n",
       "      <td>29.938560</td>\n",
       "      <td>31.0</td>\n",
       "      <td>30.133802</td>\n",
       "      <td>29.778969</td>\n",
       "      <td>29.023344</td>\n",
       "      <td>31.0</td>\n",
       "      <td>30.163857</td>\n",
       "      <td>29.939159</td>\n",
       "      <td>29.554914</td>\n",
       "      <td>3</td>\n",
       "    </tr>\n",
       "    <tr>\n",
       "      <th>23822</th>\n",
       "      <td>SouthCentral</td>\n",
       "      <td>Tennessee</td>\n",
       "      <td>womens_shoes</td>\n",
       "      <td>2009-07-25</td>\n",
       "      <td>31.0</td>\n",
       "      <td>30.206762</td>\n",
       "      <td>30.577198</td>\n",
       "      <td>30.206419</td>\n",
       "      <td>31.0</td>\n",
       "      <td>30.206762</td>\n",
       "      <td>...</td>\n",
       "      <td>29.937931</td>\n",
       "      <td>31.0</td>\n",
       "      <td>30.133802</td>\n",
       "      <td>29.698889</td>\n",
       "      <td>29.021778</td>\n",
       "      <td>31.0</td>\n",
       "      <td>30.163857</td>\n",
       "      <td>29.896362</td>\n",
       "      <td>29.554249</td>\n",
       "      <td>3</td>\n",
       "    </tr>\n",
       "    <tr>\n",
       "      <th>23823</th>\n",
       "      <td>SouthCentral</td>\n",
       "      <td>Tennessee</td>\n",
       "      <td>womens_shoes</td>\n",
       "      <td>2009-07-26</td>\n",
       "      <td>31.0</td>\n",
       "      <td>30.206762</td>\n",
       "      <td>30.583687</td>\n",
       "      <td>30.206419</td>\n",
       "      <td>31.0</td>\n",
       "      <td>30.206762</td>\n",
       "      <td>...</td>\n",
       "      <td>29.937727</td>\n",
       "      <td>31.0</td>\n",
       "      <td>30.133802</td>\n",
       "      <td>29.742184</td>\n",
       "      <td>29.021584</td>\n",
       "      <td>31.0</td>\n",
       "      <td>30.163857</td>\n",
       "      <td>29.921080</td>\n",
       "      <td>29.555283</td>\n",
       "      <td>3</td>\n",
       "    </tr>\n",
       "    <tr>\n",
       "      <th>23824</th>\n",
       "      <td>SouthCentral</td>\n",
       "      <td>Tennessee</td>\n",
       "      <td>womens_shoes</td>\n",
       "      <td>2009-07-27</td>\n",
       "      <td>31.0</td>\n",
       "      <td>30.206762</td>\n",
       "      <td>30.663797</td>\n",
       "      <td>30.206419</td>\n",
       "      <td>31.0</td>\n",
       "      <td>30.206762</td>\n",
       "      <td>...</td>\n",
       "      <td>29.937006</td>\n",
       "      <td>31.0</td>\n",
       "      <td>30.133802</td>\n",
       "      <td>29.777317</td>\n",
       "      <td>29.019732</td>\n",
       "      <td>31.0</td>\n",
       "      <td>30.163857</td>\n",
       "      <td>29.972881</td>\n",
       "      <td>29.554255</td>\n",
       "      <td>3</td>\n",
       "    </tr>\n",
       "    <tr>\n",
       "      <th>23825</th>\n",
       "      <td>SouthCentral</td>\n",
       "      <td>Tennessee</td>\n",
       "      <td>womens_shoes</td>\n",
       "      <td>2009-07-28</td>\n",
       "      <td>31.0</td>\n",
       "      <td>30.206762</td>\n",
       "      <td>30.737516</td>\n",
       "      <td>30.206419</td>\n",
       "      <td>31.0</td>\n",
       "      <td>30.206762</td>\n",
       "      <td>...</td>\n",
       "      <td>29.936085</td>\n",
       "      <td>31.0</td>\n",
       "      <td>30.133802</td>\n",
       "      <td>29.831106</td>\n",
       "      <td>29.017250</td>\n",
       "      <td>31.0</td>\n",
       "      <td>30.163857</td>\n",
       "      <td>30.033148</td>\n",
       "      <td>29.552435</td>\n",
       "      <td>3</td>\n",
       "    </tr>\n",
       "  </tbody>\n",
       "</table>\n",
       "<p>19019 rows × 61 columns</p>\n",
       "</div>"
      ],
      "text/plain": [
       "                 region      state           item         ds  Naive  \\\n",
       "4807   EastNorthCentral   Illinois  kids_clothing 2009-01-01   75.0   \n",
       "4808   EastNorthCentral   Illinois  kids_clothing 2009-01-02   75.0   \n",
       "4809   EastNorthCentral   Illinois  kids_clothing 2009-01-03   75.0   \n",
       "4810   EastNorthCentral   Illinois  kids_clothing 2009-01-04   75.0   \n",
       "4811   EastNorthCentral   Illinois  kids_clothing 2009-01-05   75.0   \n",
       "...                 ...        ...            ...        ...    ...   \n",
       "23821      SouthCentral  Tennessee   womens_shoes 2009-07-24   31.0   \n",
       "23822      SouthCentral  Tennessee   womens_shoes 2009-07-25   31.0   \n",
       "23823      SouthCentral  Tennessee   womens_shoes 2009-07-26   31.0   \n",
       "23824      SouthCentral  Tennessee   womens_shoes 2009-07-27   31.0   \n",
       "23825      SouthCentral  Tennessee   womens_shoes 2009-07-28   31.0   \n",
       "\n",
       "       AutoARIMA  HoltWinters    AutoETS  Naive/BottomUp  AutoARIMA/BottomUp  \\\n",
       "4807   74.016640    73.784897  73.806236            75.0           74.016640   \n",
       "4808   73.953484    73.894379  73.806236            75.0           73.953484   \n",
       "4809   73.867889    73.844353  73.806236            75.0           73.867889   \n",
       "4810   73.844994    73.781334  73.806236            75.0           73.844994   \n",
       "4811   73.833824    73.818901  73.806236            75.0           73.833824   \n",
       "...          ...          ...        ...             ...                 ...   \n",
       "23821  30.206762    30.586092  30.206419            31.0           30.206762   \n",
       "23822  30.206762    30.577198  30.206419            31.0           30.206762   \n",
       "23823  30.206762    30.583687  30.206419            31.0           30.206762   \n",
       "23824  30.206762    30.663797  30.206419            31.0           30.206762   \n",
       "23825  30.206762    30.737516  30.206419            31.0           30.206762   \n",
       "\n",
       "       ...  AutoETS/MinTrace_method-mint_shrink_nonnegative-True  \\\n",
       "4807   ...                                          73.808914      \n",
       "4808   ...                                          73.806984      \n",
       "4809   ...                                          73.804932      \n",
       "4810   ...                                          73.802788      \n",
       "4811   ...                                          73.800598      \n",
       "...    ...                                                ...      \n",
       "23821  ...                                          29.938560      \n",
       "23822  ...                                          29.937931      \n",
       "23823  ...                                          29.937727      \n",
       "23824  ...                                          29.937006      \n",
       "23825  ...                                          29.936085      \n",
       "\n",
       "       Naive/OptimalCombination_method-ols_nonnegative-True  \\\n",
       "4807                                                75.0      \n",
       "4808                                                75.0      \n",
       "4809                                                75.0      \n",
       "4810                                                75.0      \n",
       "4811                                                75.0      \n",
       "...                                                  ...      \n",
       "23821                                               31.0      \n",
       "23822                                               31.0      \n",
       "23823                                               31.0      \n",
       "23824                                               31.0      \n",
       "23825                                               31.0      \n",
       "\n",
       "       AutoARIMA/OptimalCombination_method-ols_nonnegative-True  \\\n",
       "4807                                           74.026009          \n",
       "4808                                           74.027824          \n",
       "4809                                           73.944611          \n",
       "4810                                           73.955772          \n",
       "4811                                           73.915092          \n",
       "...                                                  ...          \n",
       "23821                                          30.133802          \n",
       "23822                                          30.133802          \n",
       "23823                                          30.133802          \n",
       "23824                                          30.133802          \n",
       "23825                                          30.133802          \n",
       "\n",
       "       HoltWinters/OptimalCombination_method-ols_nonnegative-True  \\\n",
       "4807                                           73.792969            \n",
       "4808                                           73.919899            \n",
       "4809                                           73.834785            \n",
       "4810                                           73.764709            \n",
       "4811                                           73.774422            \n",
       "...                                                  ...            \n",
       "23821                                          29.778969            \n",
       "23822                                          29.698889            \n",
       "23823                                          29.742184            \n",
       "23824                                          29.777317            \n",
       "23825                                          29.831106            \n",
       "\n",
       "       AutoETS/OptimalCombination_method-ols_nonnegative-True  \\\n",
       "4807                                           73.821167        \n",
       "4808                                           73.815529        \n",
       "4809                                           73.809883        \n",
       "4810                                           73.804237        \n",
       "4811                                           73.798592        \n",
       "...                                                  ...        \n",
       "23821                                          29.023344        \n",
       "23822                                          29.021778        \n",
       "23823                                          29.021584        \n",
       "23824                                          29.019732        \n",
       "23825                                          29.017250        \n",
       "\n",
       "       Naive/OptimalCombination_method-wls_struct_nonnegative-True  \\\n",
       "4807                                                75.0             \n",
       "4808                                                75.0             \n",
       "4809                                                75.0             \n",
       "4810                                                75.0             \n",
       "4811                                                75.0             \n",
       "...                                                  ...             \n",
       "23821                                               31.0             \n",
       "23822                                               31.0             \n",
       "23823                                               31.0             \n",
       "23824                                               31.0             \n",
       "23825                                               31.0             \n",
       "\n",
       "       AutoARIMA/OptimalCombination_method-wls_struct_nonnegative-True  \\\n",
       "4807                                           74.027794                 \n",
       "4808                                           74.005318                 \n",
       "4809                                           73.920364                 \n",
       "4810                                           73.919724                 \n",
       "4811                                           73.889175                 \n",
       "...                                                  ...                 \n",
       "23821                                          30.163857                 \n",
       "23822                                          30.163857                 \n",
       "23823                                          30.163857                 \n",
       "23824                                          30.163857                 \n",
       "23825                                          30.163857                 \n",
       "\n",
       "       HoltWinters/OptimalCombination_method-wls_struct_nonnegative-True  \\\n",
       "4807                                           73.796173                   \n",
       "4808                                           73.915092                   \n",
       "4809                                           73.841125                   \n",
       "4810                                           73.777573                   \n",
       "4811                                           73.796768                   \n",
       "...                                                  ...                   \n",
       "23821                                          29.939159                   \n",
       "23822                                          29.896362                   \n",
       "23823                                          29.921080                   \n",
       "23824                                          29.972881                   \n",
       "23825                                          30.033148                   \n",
       "\n",
       "       AutoETS/OptimalCombination_method-wls_struct_nonnegative-True  \\\n",
       "4807                                           73.822441               \n",
       "4808                                           73.818184               \n",
       "4809                                           73.813934               \n",
       "4810                                           73.809677               \n",
       "4811                                           73.805420               \n",
       "...                                                  ...               \n",
       "23821                                          29.554914               \n",
       "23822                                          29.554249               \n",
       "23823                                          29.555283               \n",
       "23824                                          29.554255               \n",
       "23825                                          29.552435               \n",
       "\n",
       "       nivel_hierarquia  \n",
       "4807                  3  \n",
       "4808                  3  \n",
       "4809                  3  \n",
       "4810                  3  \n",
       "4811                  3  \n",
       "...                 ...  \n",
       "23821                 3  \n",
       "23822                 3  \n",
       "23823                 3  \n",
       "23824                 3  \n",
       "23825                 3  \n",
       "\n",
       "[19019 rows x 61 columns]"
      ]
     },
     "execution_count": 156,
     "metadata": {},
     "output_type": "execute_result"
    },
    {
     "name": "stdout",
     "output_type": "stream",
     "text": [
      "time: 68.3 ms (started: 2024-01-02 16:59:31 -03:00)\n"
     ]
    }
   ],
   "source": [
    "create_final_df(df_pred = Y_rec_df, cols_split = cols_hierarchical)"
   ]
  },
  {
   "cell_type": "code",
   "execution_count": null,
   "id": "58229141-2024-4fc5-88e5-79ee186df476",
   "metadata": {},
   "outputs": [],
   "source": []
  }
 ],
 "metadata": {
  "kernelspec": {
   "display_name": "Python 3 (ipykernel)",
   "language": "python",
   "name": "python3"
  },
  "language_info": {
   "codemirror_mode": {
    "name": "ipython",
    "version": 3
   },
   "file_extension": ".py",
   "mimetype": "text/x-python",
   "name": "python",
   "nbconvert_exporter": "python",
   "pygments_lexer": "ipython3",
   "version": "3.10.6"
  }
 },
 "nbformat": 4,
 "nbformat_minor": 5
}
